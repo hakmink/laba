{
 "cells": [
  {
   "cell_type": "code",
   "execution_count": 1,
   "metadata": {
    "ExecuteTime": {
     "end_time": "2018-09-25T08:47:41.957532Z",
     "start_time": "2018-09-25T08:47:40.885303Z"
    }
   },
   "outputs": [],
   "source": [
    "import torch.nn as nn\n",
    "import torch\n",
    "import modeling.surname_classifier as cl\n",
    "import modeling.surname_data as sd\n",
    "import modeling.surname_common as sc"
   ]
  },
  {
   "cell_type": "code",
   "execution_count": 2,
   "metadata": {
    "ExecuteTime": {
     "end_time": "2018-09-25T08:47:42.956087Z",
     "start_time": "2018-09-25T08:47:42.836253Z"
    }
   },
   "outputs": [],
   "source": [
    "df_categories = sd.load_df_categories()\n",
    "df_training, df_test, df_train_per_category = sd.load_df_surnames()"
   ]
  },
  {
   "cell_type": "code",
   "execution_count": 4,
   "metadata": {
    "ExecuteTime": {
     "end_time": "2018-09-25T08:48:10.534706Z",
     "start_time": "2018-09-25T08:48:10.514704Z"
    }
   },
   "outputs": [
    {
     "data": {
      "text/html": [
       "<div>\n",
       "<style scoped>\n",
       "    .dataframe tbody tr th:only-of-type {\n",
       "        vertical-align: middle;\n",
       "    }\n",
       "\n",
       "    .dataframe tbody tr th {\n",
       "        vertical-align: top;\n",
       "    }\n",
       "\n",
       "    .dataframe thead th {\n",
       "        text-align: right;\n",
       "    }\n",
       "</style>\n",
       "<table border=\"1\" class=\"dataframe\">\n",
       "  <thead>\n",
       "    <tr style=\"text-align: right;\">\n",
       "      <th></th>\n",
       "      <th>surname</th>\n",
       "      <th>category</th>\n",
       "      <th>normalized</th>\n",
       "      <th>freq</th>\n",
       "      <th>index</th>\n",
       "    </tr>\n",
       "  </thead>\n",
       "  <tbody>\n",
       "    <tr>\n",
       "      <th>19554</th>\n",
       "      <td>Aller</td>\n",
       "      <td>Dutch</td>\n",
       "      <td>Aller</td>\n",
       "      <td>297</td>\n",
       "      <td>3</td>\n",
       "    </tr>\n",
       "    <tr>\n",
       "      <th>19621</th>\n",
       "      <td>Houte</td>\n",
       "      <td>Dutch</td>\n",
       "      <td>Houte</td>\n",
       "      <td>297</td>\n",
       "      <td>3</td>\n",
       "    </tr>\n",
       "    <tr>\n",
       "      <th>19795</th>\n",
       "      <td>Schuyler</td>\n",
       "      <td>Dutch</td>\n",
       "      <td>Schuyler</td>\n",
       "      <td>297</td>\n",
       "      <td>3</td>\n",
       "    </tr>\n",
       "    <tr>\n",
       "      <th>19658</th>\n",
       "      <td>Kuiper</td>\n",
       "      <td>Dutch</td>\n",
       "      <td>Kuiper</td>\n",
       "      <td>297</td>\n",
       "      <td>3</td>\n",
       "    </tr>\n",
       "    <tr>\n",
       "      <th>19673</th>\n",
       "      <td>Maessen</td>\n",
       "      <td>Dutch</td>\n",
       "      <td>Maessen</td>\n",
       "      <td>297</td>\n",
       "      <td>3</td>\n",
       "    </tr>\n",
       "  </tbody>\n",
       "</table>\n",
       "</div>"
      ],
      "text/plain": [
       "        surname category normalized  freq  index\n",
       "19554     Aller    Dutch      Aller   297      3\n",
       "19621     Houte    Dutch      Houte   297      3\n",
       "19795  Schuyler    Dutch   Schuyler   297      3\n",
       "19658    Kuiper    Dutch     Kuiper   297      3\n",
       "19673   Maessen    Dutch    Maessen   297      3"
      ]
     },
     "execution_count": 4,
     "metadata": {},
     "output_type": "execute_result"
    }
   ],
   "source": [
    "df_train_per_category[3].head()"
   ]
  },
  {
   "cell_type": "code",
   "execution_count": null,
   "metadata": {},
   "outputs": [],
   "source": [
    "n_hidden = 128\n",
    "n_categories = len(df_categories)\n",
    "rnn = cl.RNN(sc.N_LETTERS, n_hidden, n_categories)"
   ]
  },
  {
   "cell_type": "code",
   "execution_count": null,
   "metadata": {},
   "outputs": [],
   "source": [
    "hidden = torch.zeros(1, n_hidden)"
   ]
  },
  {
   "cell_type": "code",
   "execution_count": null,
   "metadata": {},
   "outputs": [],
   "source": [
    "input = sc.letter_to_tensor('A')\n",
    "output, next_hidden = rnn(input, hidden)"
   ]
  },
  {
   "cell_type": "code",
   "execution_count": null,
   "metadata": {},
   "outputs": [],
   "source": [
    "input = sc.surname_to_tensor('Albert')\n",
    "hidden = torch.zeros(1, n_hidden)\n",
    "\n",
    "output, next_hidden = rnn(input[0], hidden)"
   ]
  },
  {
   "cell_type": "code",
   "execution_count": null,
   "metadata": {},
   "outputs": [],
   "source": [
    "cl.criterion = nn.NLLLoss()"
   ]
  },
  {
   "cell_type": "code",
   "execution_count": null,
   "metadata": {},
   "outputs": [],
   "source": [
    "cl.LEARNING_RATE = 0.0005 "
   ]
  },
  {
   "cell_type": "code",
   "execution_count": null,
   "metadata": {},
   "outputs": [],
   "source": [
    "example = df_training.iloc[1]\n",
    "surname_tensor = sc.surname_to_tensor(example['normalized'])\n",
    "category_tensor = torch.tensor([int(df_categories[df_categories['category'] == example['category']]['index'])])\n",
    "print(category_tensor)"
   ]
  },
  {
   "cell_type": "code",
   "execution_count": null,
   "metadata": {},
   "outputs": [],
   "source": [
    "n_batch = 1\n",
    "current_loss = 0\n",
    "plot_every = 1000\n",
    "\n",
    "for batch in range(0,n_batch):\n",
    "    for iter in range(0,len(df_training)-1):\n",
    "        example = df_training.iloc[iter]\n",
    "        surname_tensor = sc.surname_to_tensor(example['normalized'])\n",
    "        category_tensor = torch.tensor([int(df_categories[df_categories['category'] == example['category']]['index'])])\n",
    "        output, loss = cl.train(rnn, category_tensor, surname_tensor)\n",
    "        current_loss += loss"
   ]
  },
  {
   "cell_type": "code",
   "execution_count": null,
   "metadata": {},
   "outputs": [],
   "source": [
    "df_categories"
   ]
  },
  {
   "cell_type": "code",
   "execution_count": null,
   "metadata": {},
   "outputs": [],
   "source": [
    "cl.predict(rnn,'Luong')"
   ]
  },
  {
   "cell_type": "code",
   "execution_count": null,
   "metadata": {},
   "outputs": [],
   "source": [
    "torch.save(rnn,'data/model/rnn.pickle')"
   ]
  },
  {
   "cell_type": "code",
   "execution_count": null,
   "metadata": {},
   "outputs": [],
   "source": [
    "rnn = cl.load_model()"
   ]
  },
  {
   "cell_type": "code",
   "execution_count": null,
   "metadata": {},
   "outputs": [],
   "source": [
    "import pprint\n",
    "confusion = torch.zeros(n_categories, n_categories)\n",
    "\n",
    "for iter in range(0,len(df_test)-1):\n",
    "    example = df_test.iloc[iter]\n",
    "    surname_tensor = sc.surname_to_tensor(example['normalized'])\n",
    "    category_tensor = torch.tensor([int(df_categories[df_categories['category'] == example['category']]['index'])])\n",
    "    output = cl.predict(rnn, example['normalized'])\n",
    "    predicted_category = output[0][1]\n",
    "    correct_category = int(df_categories[df_categories['category'] == example['category']]['index'])\n",
    "    confusion[correct_category][predicted_category] += 1"
   ]
  },
  {
   "cell_type": "code",
   "execution_count": null,
   "metadata": {},
   "outputs": [],
   "source": [
    "%matplotlib inline\n",
    "import matplotlib.pyplot as plt\n",
    "import matplotlib.ticker as ticker\n",
    "\n",
    "\n",
    "# Normalize by dividing every row by its sum\n",
    "for i in range(n_categories):\n",
    "    confusion[i] = confusion[i] / confusion[i].sum()\n",
    "\n",
    "# Set up plot\n",
    "fig = plt.figure()\n",
    "ax = fig.add_subplot(111)\n",
    "cax = ax.matshow(confusion.numpy())\n",
    "fig.colorbar(cax)\n",
    "\n",
    "# Set up axes\n",
    "ax.set_xticklabels([''] + df_categories['category'].tolist(), rotation=90)\n",
    "ax.set_yticklabels([''] + df_categories['category'].tolist())\n",
    "\n",
    "# Force label at every tick\n",
    "ax.xaxis.set_major_locator(ticker.MultipleLocator(1))\n",
    "ax.yaxis.set_major_locator(ticker.MultipleLocator(1))\n",
    "\n",
    "# sphinx_gallery_thumbnail_number = 2\n",
    "plt.show()"
   ]
  },
  {
   "cell_type": "code",
   "execution_count": null,
   "metadata": {},
   "outputs": [],
   "source": []
  }
 ],
 "metadata": {
  "kernelspec": {
   "display_name": "Python 3",
   "language": "python",
   "name": "python3"
  },
  "language_info": {
   "codemirror_mode": {
    "name": "ipython",
    "version": 3
   },
   "file_extension": ".py",
   "mimetype": "text/x-python",
   "name": "python",
   "nbconvert_exporter": "python",
   "pygments_lexer": "ipython3",
   "version": "3.6.6"
  },
  "toc": {
   "base_numbering": 1,
   "nav_menu": {},
   "number_sections": true,
   "sideBar": true,
   "skip_h1_title": false,
   "title_cell": "Table of Contents",
   "title_sidebar": "Contents",
   "toc_cell": false,
   "toc_position": {},
   "toc_section_display": true,
   "toc_window_display": false
  },
  "varInspector": {
   "cols": {
    "lenName": 16,
    "lenType": 16,
    "lenVar": 40
   },
   "kernels_config": {
    "python": {
     "delete_cmd_postfix": "",
     "delete_cmd_prefix": "del ",
     "library": "var_list.py",
     "varRefreshCmd": "print(var_dic_list())"
    },
    "r": {
     "delete_cmd_postfix": ") ",
     "delete_cmd_prefix": "rm(",
     "library": "var_list.r",
     "varRefreshCmd": "cat(var_dic_list()) "
    }
   },
   "position": {
    "height": "218px",
    "left": "881px",
    "right": "20px",
    "top": "111px",
    "width": "534px"
   },
   "types_to_exclude": [
    "module",
    "function",
    "builtin_function_or_method",
    "instance",
    "_Feature"
   ],
   "window_display": true
  }
 },
 "nbformat": 4,
 "nbformat_minor": 2
}
