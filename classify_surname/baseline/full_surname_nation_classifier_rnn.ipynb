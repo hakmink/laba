{
 "cells": [
  {
   "cell_type": "code",
   "execution_count": 1,
   "metadata": {},
   "outputs": [
    {
     "name": "stdout",
     "output_type": "stream",
     "text": [
      "['data/names/Czech.txt', 'data/names/German.txt', 'data/names/Arabic.txt', 'data/names/Japanese.txt', 'data/names/Chinese.txt', 'data/names/Vietnamese.txt', 'data/names/Russian.txt', 'data/names/French.txt', 'data/names/Irish.txt', 'data/names/English.txt', 'data/names/Spanish.txt', 'data/names/Greek.txt', 'data/names/Italian.txt', 'data/names/Portuguese.txt', 'data/names/Scottish.txt', 'data/names/Dutch.txt', 'data/names/Korean.txt', 'data/names/Polish.txt']\n",
      "Slusarski\n"
     ]
    }
   ],
   "source": [
    "from io import open\n",
    "import glob\n",
    "import os\n",
    "\n",
    "def findFiles(path): return glob.glob(path)\n",
    "\n",
    "print(findFiles('data/names/*.txt'))\n",
    "\n",
    "import unicodedata\n",
    "import string\n",
    "\n",
    "all_letters = string.ascii_letters + \" .,;'\"\n",
    "n_letters = len(all_letters)\n",
    "\n",
    "# Turn a Unicode string to plain ASCII, thanks to http://stackoverflow.com/a/518232/2809427\n",
    "def unicodeToAscii(s):\n",
    "    return ''.join(\n",
    "        c for c in unicodedata.normalize('NFD', s)\n",
    "        if unicodedata.category(c) != 'Mn'\n",
    "        and c in all_letters\n",
    "    )\n",
    "\n",
    "print(unicodeToAscii('Ślusàrski'))\n",
    "\n",
    "# Build the category_lines dictionary, a list of names per language\n",
    "category_lines = {}\n",
    "all_categories = []\n",
    "\n",
    "# Read a file and split into lines\n",
    "def readLines(filename):\n",
    "    lines = open(filename, encoding='utf-8').read().strip().split('\\n')\n",
    "    return [unicodeToAscii(line) for line in lines]\n",
    "\n",
    "for filename in findFiles('data/names/*.txt'):\n",
    "    category = os.path.splitext(os.path.basename(filename))[0]\n",
    "    all_categories.append(category)\n",
    "    lines = readLines(filename)\n",
    "    category_lines[category] = lines\n",
    "\n",
    "n_categories = len(all_categories)"
   ]
  },
  {
   "cell_type": "code",
   "execution_count": 2,
   "metadata": {},
   "outputs": [
    {
     "name": "stdout",
     "output_type": "stream",
     "text": [
      "['Abandonato', 'Abatangelo', 'Abatantuono', 'Abate', 'Abategiovanni']\n"
     ]
    }
   ],
   "source": [
    "print(category_lines['Italian'][:5])"
   ]
  },
  {
   "cell_type": "code",
   "execution_count": 3,
   "metadata": {},
   "outputs": [
    {
     "data": {
      "text/plain": [
       "['Abandonato', 'Abatangelo', 'Abatantuono', 'Abate', 'Abategiovanni']"
      ]
     },
     "execution_count": 3,
     "metadata": {},
     "output_type": "execute_result"
    }
   ],
   "source": [
    "category_lines['Italian'][0:5]"
   ]
  },
  {
   "cell_type": "code",
   "execution_count": 4,
   "metadata": {},
   "outputs": [
    {
     "name": "stdout",
     "output_type": "stream",
     "text": [
      "tensor([[0., 0., 0., 0., 0., 0., 0., 0., 0., 0., 0., 0., 0., 0., 0., 0., 0., 0.,\n",
      "         0., 0., 0., 0., 0., 0., 0., 0., 0., 0., 0., 0., 0., 0., 0., 0., 0., 1.,\n",
      "         0., 0., 0., 0., 0., 0., 0., 0., 0., 0., 0., 0., 0., 0., 0., 0., 0., 0.,\n",
      "         0., 0., 0.]])\n",
      "torch.Size([5, 1, 57])\n"
     ]
    }
   ],
   "source": [
    "import torch\n",
    "\n",
    "# Find letter index from all_letters, e.g. \"a\" = 0\n",
    "def letterToIndex(letter):\n",
    "    return all_letters.find(letter)\n",
    "\n",
    "# Just for demonstration, turn a letter into a <1 x n_letters> Tensor\n",
    "def letterToTensor(letter):\n",
    "    tensor = torch.zeros(1, n_letters)\n",
    "    tensor[0][letterToIndex(letter)] = 1\n",
    "    return tensor\n",
    "\n",
    "# Turn a line into a <line_length x 1 x n_letters>,\n",
    "# or an array of one-hot letter vectors\n",
    "def lineToTensor(line):\n",
    "    tensor = torch.zeros(len(line), 1, n_letters)\n",
    "    for li, letter in enumerate(line):\n",
    "        tensor[li][0][letterToIndex(letter)] = 1\n",
    "    return tensor\n",
    "\n",
    "print(letterToTensor('J'))\n",
    "\n",
    "print(lineToTensor('Jones').size())"
   ]
  },
  {
   "cell_type": "code",
   "execution_count": 5,
   "metadata": {},
   "outputs": [],
   "source": [
    "import torch.nn as nn\n",
    "\n",
    "class RNN(nn.Module):\n",
    "    def __init__(self, input_size, hidden_size, output_size):\n",
    "        super(RNN, self).__init__()\n",
    "\n",
    "        self.hidden_size = hidden_size\n",
    "\n",
    "        self.i2h = nn.Linear(input_size + hidden_size, hidden_size)\n",
    "        self.i2o = nn.Linear(input_size + hidden_size, output_size)\n",
    "        self.softmax = nn.LogSoftmax(dim=1)\n",
    "\n",
    "    def forward(self, input, hidden):\n",
    "        combined = torch.cat((input, hidden), 1)\n",
    "        hidden = self.i2h(combined)\n",
    "        output = self.i2o(combined)\n",
    "        output = self.softmax(output)\n",
    "        return output, hidden\n",
    "\n",
    "    def initHidden(self):\n",
    "        return torch.zeros(1, self.hidden_size)\n",
    "\n",
    "n_hidden = 128\n",
    "rnn = RNN(n_letters, n_hidden, n_categories)"
   ]
  },
  {
   "cell_type": "code",
   "execution_count": 6,
   "metadata": {},
   "outputs": [],
   "source": [
    "input = letterToTensor('A')\n",
    "hidden =torch.zeros(1, n_hidden)\n",
    "\n",
    "output, next_hidden = rnn(input, hidden)"
   ]
  },
  {
   "cell_type": "code",
   "execution_count": 7,
   "metadata": {},
   "outputs": [
    {
     "name": "stdout",
     "output_type": "stream",
     "text": [
      "tensor([[-2.8962, -2.9009, -2.9051, -2.9649, -2.8432, -2.8375, -2.7838, -2.8465,\n",
      "         -2.9419, -2.7760, -2.9343, -2.9386, -2.9524, -2.9173, -2.9206, -2.9080,\n",
      "         -2.8828, -2.9020]], grad_fn=<LogSoftmaxBackward>)\n"
     ]
    }
   ],
   "source": [
    "input = lineToTensor('Albert')\n",
    "hidden = torch.zeros(1, n_hidden)\n",
    "\n",
    "output, next_hidden = rnn(input[0], hidden)\n",
    "print(output)"
   ]
  },
  {
   "cell_type": "code",
   "execution_count": 8,
   "metadata": {},
   "outputs": [
    {
     "name": "stdout",
     "output_type": "stream",
     "text": [
      "('English', 9)\n"
     ]
    }
   ],
   "source": [
    "def categoryFromOutput(output):\n",
    "    top_n, top_i = output.topk(1)\n",
    "    category_i = top_i[0].item()\n",
    "    return all_categories[category_i], category_i\n",
    "\n",
    "print(categoryFromOutput(output))"
   ]
  },
  {
   "cell_type": "code",
   "execution_count": 10,
   "metadata": {},
   "outputs": [
    {
     "name": "stdout",
     "output_type": "stream",
     "text": [
      "category = Portuguese / line = Castro\n",
      "tensor([13])\n",
      "tensor([[[0., 0., 0., 0., 0., 0., 0., 0., 0., 0., 0., 0., 0., 0., 0., 0., 0.,\n",
      "          0., 0., 0., 0., 0., 0., 0., 0., 0., 0., 0., 1., 0., 0., 0., 0., 0.,\n",
      "          0., 0., 0., 0., 0., 0., 0., 0., 0., 0., 0., 0., 0., 0., 0., 0., 0.,\n",
      "          0., 0., 0., 0., 0., 0.]],\n",
      "\n",
      "        [[1., 0., 0., 0., 0., 0., 0., 0., 0., 0., 0., 0., 0., 0., 0., 0., 0.,\n",
      "          0., 0., 0., 0., 0., 0., 0., 0., 0., 0., 0., 0., 0., 0., 0., 0., 0.,\n",
      "          0., 0., 0., 0., 0., 0., 0., 0., 0., 0., 0., 0., 0., 0., 0., 0., 0.,\n",
      "          0., 0., 0., 0., 0., 0.]],\n",
      "\n",
      "        [[0., 0., 0., 0., 0., 0., 0., 0., 0., 0., 0., 0., 0., 0., 0., 0., 0.,\n",
      "          0., 1., 0., 0., 0., 0., 0., 0., 0., 0., 0., 0., 0., 0., 0., 0., 0.,\n",
      "          0., 0., 0., 0., 0., 0., 0., 0., 0., 0., 0., 0., 0., 0., 0., 0., 0.,\n",
      "          0., 0., 0., 0., 0., 0.]],\n",
      "\n",
      "        [[0., 0., 0., 0., 0., 0., 0., 0., 0., 0., 0., 0., 0., 0., 0., 0., 0.,\n",
      "          0., 0., 1., 0., 0., 0., 0., 0., 0., 0., 0., 0., 0., 0., 0., 0., 0.,\n",
      "          0., 0., 0., 0., 0., 0., 0., 0., 0., 0., 0., 0., 0., 0., 0., 0., 0.,\n",
      "          0., 0., 0., 0., 0., 0.]],\n",
      "\n",
      "        [[0., 0., 0., 0., 0., 0., 0., 0., 0., 0., 0., 0., 0., 0., 0., 0., 0.,\n",
      "          1., 0., 0., 0., 0., 0., 0., 0., 0., 0., 0., 0., 0., 0., 0., 0., 0.,\n",
      "          0., 0., 0., 0., 0., 0., 0., 0., 0., 0., 0., 0., 0., 0., 0., 0., 0.,\n",
      "          0., 0., 0., 0., 0., 0.]],\n",
      "\n",
      "        [[0., 0., 0., 0., 0., 0., 0., 0., 0., 0., 0., 0., 0., 0., 1., 0., 0.,\n",
      "          0., 0., 0., 0., 0., 0., 0., 0., 0., 0., 0., 0., 0., 0., 0., 0., 0.,\n",
      "          0., 0., 0., 0., 0., 0., 0., 0., 0., 0., 0., 0., 0., 0., 0., 0., 0.,\n",
      "          0., 0., 0., 0., 0., 0.]]])\n",
      "category = Vietnamese / line = Ha\n",
      "tensor([5])\n",
      "tensor([[[0., 0., 0., 0., 0., 0., 0., 0., 0., 0., 0., 0., 0., 0., 0., 0., 0.,\n",
      "          0., 0., 0., 0., 0., 0., 0., 0., 0., 0., 0., 0., 0., 0., 0., 0., 1.,\n",
      "          0., 0., 0., 0., 0., 0., 0., 0., 0., 0., 0., 0., 0., 0., 0., 0., 0.,\n",
      "          0., 0., 0., 0., 0., 0.]],\n",
      "\n",
      "        [[1., 0., 0., 0., 0., 0., 0., 0., 0., 0., 0., 0., 0., 0., 0., 0., 0.,\n",
      "          0., 0., 0., 0., 0., 0., 0., 0., 0., 0., 0., 0., 0., 0., 0., 0., 0.,\n",
      "          0., 0., 0., 0., 0., 0., 0., 0., 0., 0., 0., 0., 0., 0., 0., 0., 0.,\n",
      "          0., 0., 0., 0., 0., 0.]]])\n"
     ]
    }
   ],
   "source": [
    "import random\n",
    "\n",
    "def randomChoice(l):\n",
    "    return l[random.randint(0, len(l) - 1)]\n",
    "\n",
    "def randomTrainingExample():\n",
    "    category = randomChoice(all_categories)\n",
    "    line = randomChoice(category_lines[category])\n",
    "    category_tensor = torch.tensor([all_categories.index(category)], dtype=torch.long)\n",
    "    line_tensor = lineToTensor(line)\n",
    "    return category, line, category_tensor, line_tensor\n",
    "\n",
    "for i in range(2):\n",
    "    category, line, category_tensor, line_tensor = randomTrainingExample()\n",
    "    print('category =', category, '/ line =', line)\n",
    "    print(category_tensor)\n",
    "    print(line_tensor)"
   ]
  },
  {
   "cell_type": "code",
   "execution_count": 11,
   "metadata": {},
   "outputs": [],
   "source": [
    "criterion = nn.NLLLoss()"
   ]
  },
  {
   "cell_type": "code",
   "execution_count": 12,
   "metadata": {},
   "outputs": [],
   "source": [
    "learning_rate = 0.005 # If you set this too high, it might explode. If too low, it might not learn\n",
    "\n",
    "def train(category_tensor, line_tensor):\n",
    "    hidden = rnn.initHidden()\n",
    "\n",
    "    rnn.zero_grad()\n",
    "\n",
    "    for i in range(line_tensor.size()[0]):\n",
    "        output, hidden = rnn(line_tensor[i], hidden)\n",
    "\n",
    "    loss = criterion(output, category_tensor)\n",
    "    loss.backward()\n",
    "\n",
    "    # Add parameters' gradients to their values, multiplied by learning rate\n",
    "    for p in rnn.parameters():\n",
    "        p.data.add_(-learning_rate, p.grad.data)\n",
    "\n",
    "    return output, loss.item()"
   ]
  },
  {
   "cell_type": "code",
   "execution_count": 13,
   "metadata": {},
   "outputs": [
    {
     "name": "stdout",
     "output_type": "stream",
     "text": [
      "'=====category_tensor======'\n",
      "tensor([17])\n",
      "'=====output======'\n",
      "tensor([[-2.8092, -2.9627, -2.8646, -3.2150, -2.8359, -3.1485, -2.9226, -2.8344,\n",
      "         -2.7069, -3.0651, -3.0175, -2.7669, -3.1568, -2.9117, -2.4855, -2.8045,\n",
      "         -2.8345, -2.9547]], grad_fn=<LogSoftmaxBackward>)\n",
      "'=====loss======'\n",
      "2.9546990394592285\n",
      "5000 5% (0m 12s) 2.9547 Sobol / Scottish ✗ (Polish)\n",
      "'=====category_tensor======'\n",
      "tensor([13])\n",
      "'=====output======'\n",
      "tensor([[-2.9147, -3.4157, -2.8544, -1.7780, -5.0417, -4.6575, -3.0901, -3.1524,\n",
      "         -2.8451, -3.1587, -2.6073, -3.6418, -2.3736, -1.8326, -3.1521, -3.3998,\n",
      "         -4.7224, -3.1364]], grad_fn=<LogSoftmaxBackward>)\n",
      "'=====loss======'\n",
      "1.832608699798584\n",
      "10000 10% (0m 24s) 1.8326 Machado / Japanese ✗ (Portuguese)\n",
      "'=====category_tensor======'\n",
      "tensor([15])\n",
      "'=====output======'\n",
      "tensor([[-2.7894, -2.6140, -2.0051, -2.4560, -4.1638, -3.6683, -3.7387, -2.5922,\n",
      "         -2.5270, -2.3309, -2.7375, -4.7868, -2.8099, -2.6596, -3.1507, -3.2199,\n",
      "         -4.2675, -3.5749]], grad_fn=<LogSoftmaxBackward>)\n",
      "'=====loss======'\n",
      "3.2198712825775146\n",
      "15000 15% (0m 35s) 3.2199 Houte / Arabic ✗ (Dutch)\n",
      "'=====category_tensor======'\n",
      "tensor([0])\n",
      "'=====output======'\n",
      "tensor([[-1.9100, -2.2672, -1.7192, -4.5945, -4.7491, -3.9315, -4.1101, -2.8744,\n",
      "         -3.0488, -2.5919, -3.0584, -4.1916, -3.9464, -2.7702, -2.5530, -3.1944,\n",
      "         -5.2659, -2.6956]], grad_fn=<LogSoftmaxBackward>)\n",
      "'=====loss======'\n",
      "1.9099968671798706\n",
      "20000 20% (0m 46s) 1.9100 Peisar / Arabic ✗ (Czech)\n",
      "'=====category_tensor======'\n",
      "tensor([0])\n",
      "'=====output======'\n",
      "tensor([[ -1.5222,  -4.2016,  -5.8470,  -2.2475, -11.3144,  -8.5228,  -3.1712,\n",
      "          -3.6589,  -2.6613,  -3.9077,  -2.6424,  -4.8589,  -3.0621,  -2.5581,\n",
      "          -5.4175,  -4.1757,  -9.9615,  -1.2825]],\n",
      "       grad_fn=<LogSoftmaxBackward>)\n",
      "'=====loss======'\n",
      "1.522186279296875\n",
      "25000 25% (1m 2s) 1.5222 Borovka / Polish ✗ (Czech)\n",
      "'=====category_tensor======'\n",
      "tensor([16])\n",
      "'=====output======'\n",
      "tensor([[-4.2139, -4.0881, -4.8781, -4.3735, -1.8596, -0.8957, -4.6020, -4.0978,\n",
      "         -4.5114, -4.0910, -4.7970, -4.8503, -4.8841, -4.9901, -4.2093, -4.6801,\n",
      "         -1.3255, -4.6477]], grad_fn=<LogSoftmaxBackward>)\n",
      "'=====loss======'\n",
      "1.3255245685577393\n",
      "30000 30% (1m 13s) 1.3255 Gu / Vietnamese ✗ (Korean)\n",
      "'=====category_tensor======'\n",
      "tensor([14])\n",
      "'=====output======'\n",
      "tensor([[-4.0278, -2.9138, -6.2222, -4.4228, -9.2849, -9.8039, -4.6132, -2.6437,\n",
      "         -2.1533, -1.8929, -3.4023, -4.7216, -2.2720, -4.4461, -1.0732, -3.2857,\n",
      "         -8.3587, -3.5262]], grad_fn=<LogSoftmaxBackward>)\n",
      "'=====loss======'\n",
      "1.0731570720672607\n",
      "35000 35% (1m 22s) 1.0732 Macdonald / Scottish ✓\n",
      "'=====category_tensor======'\n",
      "tensor([7])\n",
      "'=====output======'\n",
      "tensor([[-3.1583, -4.5738, -2.2428, -4.6276, -9.5387, -7.7913, -3.2886, -3.2287,\n",
      "         -6.2537, -3.8214, -3.3569, -0.6653, -3.4240, -2.0964, -4.5799, -4.4407,\n",
      "         -8.4282, -5.7114]], grad_fn=<LogSoftmaxBackward>)\n",
      "'=====loss======'\n",
      "3.228682041168213\n",
      "40000 40% (1m 33s) 3.2287 Brisbois / Greek ✗ (French)\n",
      "'=====category_tensor======'\n",
      "tensor([1])\n",
      "'=====output======'\n",
      "tensor([[ -3.4077,  -1.9925, -10.5500,  -9.6383, -14.4938, -14.1254,  -3.3849,\n",
      "          -1.9175,  -3.3112,  -4.0002,  -2.5394,  -4.4627,  -5.1525,  -2.9901,\n",
      "         -10.7465,  -0.8129, -15.4100,  -5.3593]],\n",
      "       grad_fn=<LogSoftmaxBackward>)\n",
      "'=====loss======'\n",
      "1.992532730102539\n",
      "45000 45% (1m 43s) 1.9925 Von ingersleben / Dutch ✗ (German)\n",
      "'=====category_tensor======'\n",
      "tensor([12])\n",
      "'=====output======'\n",
      "tensor([[ -2.5831,  -3.9185,  -5.8070,  -6.0134,  -9.3989, -11.1139,  -3.5375,\n",
      "          -2.4492,  -5.5206,  -3.1433,  -2.7133,  -0.7015,  -3.2699,  -3.0767,\n",
      "          -3.5209,  -2.8912,  -9.1623,  -5.3032]],\n",
      "       grad_fn=<LogSoftmaxBackward>)\n",
      "'=====loss======'\n",
      "3.269893169403076\n",
      "50000 50% (1m 52s) 3.2699 De vitis / Greek ✗ (Italian)\n",
      "'=====category_tensor======'\n",
      "tensor([12])\n",
      "'=====output======'\n",
      "tensor([[-3.3387, -3.8217, -4.2023, -2.0470, -6.9678, -5.0288, -4.9473, -3.3476,\n",
      "         -3.0070, -4.0119, -1.4939, -6.3850, -1.5379, -1.5881, -5.5686, -4.3294,\n",
      "         -7.5748, -3.9949]], grad_fn=<LogSoftmaxBackward>)\n",
      "'=====loss======'\n",
      "1.5379397869110107\n",
      "55000 55% (2m 2s) 1.5379 Lagana / Spanish ✗ (Italian)\n",
      "'=====category_tensor======'\n",
      "tensor([4])\n",
      "'=====output======'\n",
      "tensor([[-5.0001, -5.3684, -3.8120, -6.4542, -0.9170, -3.1419, -4.5584, -5.1775,\n",
      "         -5.7187, -5.2103, -6.0387, -5.7727, -6.1406, -6.3520, -4.6298, -5.0546,\n",
      "         -0.7557, -6.2566]], grad_fn=<LogSoftmaxBackward>)\n",
      "'=====loss======'\n",
      "0.9169826507568359\n",
      "60000 60% (2m 12s) 0.9170 Gim / Korean ✗ (Chinese)\n",
      "'=====category_tensor======'\n",
      "tensor([13])\n",
      "'=====output======'\n",
      "tensor([[ -5.7475,  -4.6921,  -7.8409,  -8.0517, -10.7638,  -8.1384,  -7.2221,\n",
      "          -4.6443,  -4.9441,  -4.7574,  -2.4743,  -7.7429,  -1.6630,  -0.3920,\n",
      "          -5.0341,  -5.6080,  -9.1885,  -7.8819]],\n",
      "       grad_fn=<LogSoftmaxBackward>)\n",
      "'=====loss======'\n",
      "0.3920464515686035\n",
      "65000 65% (2m 22s) 0.3920 Ferro / Portuguese ✓\n",
      "'=====category_tensor======'\n",
      "tensor([5])\n",
      "'=====output======'\n",
      "tensor([[-5.2638, -5.3425, -5.3963, -5.5371, -1.9718, -0.2336, -6.3428, -4.1680,\n",
      "         -6.1612, -5.6411, -5.1900, -7.7521, -7.8890, -4.8907, -8.0434, -5.3843,\n",
      "         -5.7724, -5.1364]], grad_fn=<LogSoftmaxBackward>)\n",
      "'=====loss======'\n",
      "0.23360490798950195\n",
      "70000 70% (2m 32s) 0.2336 Tieu / Vietnamese ✓\n",
      "'=====category_tensor======'\n",
      "tensor([15])\n",
      "'=====output======'\n",
      "tensor([[ -2.7926,  -2.6864,  -4.1763,  -1.1463, -10.0962, -13.4153,  -3.1358,\n",
      "          -5.0712,  -6.2154,  -3.2700,  -6.5917,  -3.7813,  -6.1396,  -8.2518,\n",
      "          -4.2867,  -0.9038, -10.0979,  -6.0970]],\n",
      "       grad_fn=<LogSoftmaxBackward>)\n",
      "'=====loss======'\n",
      "0.9037513732910156\n",
      "75000 75% (2m 42s) 0.9038 Ryskamp / Dutch ✓\n",
      "'=====category_tensor======'\n",
      "tensor([10])\n",
      "'=====output======'\n",
      "tensor([[ -5.3530,  -3.7841,  -9.9603,  -7.3969,  -9.5600, -11.2748,  -5.5501,\n",
      "          -1.4826,  -0.8361,  -5.4355,  -3.8919,  -7.5628,  -1.8861,  -4.1810,\n",
      "          -5.0737,  -2.2173, -10.0294, -12.0689]],\n",
      "       grad_fn=<LogSoftmaxBackward>)\n",
      "'=====loss======'\n",
      "3.891890525817871\n",
      "80000 80% (2m 52s) 3.8919 De la fuente / Irish ✗ (Spanish)\n",
      "'=====category_tensor======'\n",
      "tensor([1])\n",
      "'=====output======'\n",
      "tensor([[-2.4417, -1.0483, -3.2157, -3.6274, -4.8653, -4.3634, -4.1804, -1.3151,\n",
      "         -5.5828, -2.8182, -4.3213, -7.5160, -5.3127, -4.0834, -6.0837, -2.8049,\n",
      "         -4.0372, -4.4222]], grad_fn=<LogSoftmaxBackward>)\n",
      "'=====loss======'\n",
      "1.048253059387207\n",
      "85000 85% (3m 2s) 1.0483 Haupt / German ✓\n",
      "'=====category_tensor======'\n",
      "tensor([4])\n",
      "'=====output======'\n",
      "tensor([[-5.7041, -3.1847, -9.2965, -8.8521, -0.2288, -5.1794, -7.2525, -4.8599,\n",
      "         -5.3861, -4.1077, -4.2123, -9.8589, -4.6868, -5.4798, -3.8790, -3.1311,\n",
      "         -3.4782, -6.9260]], grad_fn=<LogSoftmaxBackward>)\n",
      "'=====loss======'\n",
      "0.22879838943481445\n",
      "90000 90% (3m 12s) 0.2288 Feng / Chinese ✓\n",
      "'=====category_tensor======'\n",
      "tensor([7])\n",
      "'=====output======'\n",
      "tensor([[-2.5837, -2.9692, -9.2259, -5.3463, -7.4744, -8.8798, -2.5367, -2.0908,\n",
      "         -4.2366, -1.8725, -1.7560, -2.7199, -3.4099, -3.0222, -4.3888, -2.6720,\n",
      "         -7.6753, -2.3611]], grad_fn=<LogSoftmaxBackward>)\n",
      "'=====loss======'\n",
      "2.0907633304595947\n",
      "95000 95% (3m 22s) 2.0908 Pettigrew / Spanish ✗ (French)\n",
      "'=====category_tensor======'\n",
      "tensor([12])\n",
      "'=====output======'\n",
      "tensor([[ -5.5349,  -4.8519,  -8.0297,  -7.7379, -12.4174, -11.0579,  -7.0198,\n",
      "          -4.4895,  -6.1092,  -5.3512,  -1.8929,  -7.5595,  -1.3250,  -0.6328,\n",
      "          -6.5223,  -3.9916, -11.0708,  -8.0424]],\n",
      "       grad_fn=<LogSoftmaxBackward>)\n",
      "'=====loss======'\n",
      "1.3249521255493164\n",
      "100000 100% (3m 32s) 1.3250 Ferro / Portuguese ✗ (Italian)\n"
     ]
    }
   ],
   "source": [
    "import time\n",
    "import math\n",
    "import pprint\n",
    "\n",
    "n_iters = 100000\n",
    "print_every = 5000\n",
    "plot_every = 1000\n",
    "\n",
    "\n",
    "\n",
    "# Keep track of losses for plotting\n",
    "current_loss = 0\n",
    "all_losses = []\n",
    "\n",
    "def timeSince(since):\n",
    "    now = time.time()\n",
    "    s = now - since\n",
    "    m = math.floor(s / 60)\n",
    "    s -= m * 60\n",
    "    return '%dm %ds' % (m, s)\n",
    "\n",
    "start = time.time()\n",
    "\n",
    "for iter in range(1, n_iters + 1):\n",
    "    category, line, category_tensor, line_tensor = randomTrainingExample()\n",
    "    output, loss = train(category_tensor, line_tensor)\n",
    "    current_loss += loss\n",
    "\n",
    "    # Print iter number, loss, name and guess\n",
    "    if iter % print_every == 0:\n",
    "        pprint.pprint(\"=====category_tensor======\")\n",
    "        pprint.pprint(category_tensor)\n",
    "        pprint.pprint(\"=====output======\")\n",
    "        pprint.pprint(output)\n",
    "        pprint.pprint(\"=====loss======\")\n",
    "        pprint.pprint(loss)\n",
    "        guess, guess_i = categoryFromOutput(output)\n",
    "        correct = '✓' if guess == category else '✗ (%s)' % category\n",
    "        print('%d %d%% (%s) %.4f %s / %s %s' % (iter, iter / n_iters * 100, timeSince(start), loss, line, guess, correct))\n",
    "\n",
    "    # Add current loss avg to list of losses\n",
    "    if iter % plot_every == 0:\n",
    "        all_losses.append(current_loss / plot_every)\n",
    "        current_loss = 0"
   ]
  },
  {
   "cell_type": "code",
   "execution_count": 14,
   "metadata": {},
   "outputs": [
    {
     "data": {
      "text/plain": [
       "[<matplotlib.lines.Line2D at 0x11f51a160>]"
      ]
     },
     "execution_count": 14,
     "metadata": {},
     "output_type": "execute_result"
    },
    {
     "data": {
      "image/png": "[encoded data removed]",
      "text/plain": [
       "<Figure size 432x288 with 1 Axes>"
      ]
     },
     "metadata": {
      "needs_background": "light"
     },
     "output_type": "display_data"
    }
   ],
   "source": [
    "%matplotlib inline\n",
    "import matplotlib.pyplot as plt\n",
    "import matplotlib.ticker as ticker\n",
    "\n",
    "plt.figure()\n",
    "plt.plot(all_losses)\n"
   ]
  },
  {
   "cell_type": "code",
   "execution_count": 15,
   "metadata": {},
   "outputs": [
    {
     "data": {
      "image/png": "[encoded data removed]",
      "text/plain": [
       "<Figure size 432x288 with 2 Axes>"
      ]
     },
     "metadata": {
      "needs_background": "light"
     },
     "output_type": "display_data"
    }
   ],
   "source": [
    "# Keep track of correct guesses in a confusion matrix\n",
    "confusion = torch.zeros(n_categories, n_categories)\n",
    "n_confusion = 10000\n",
    "\n",
    "# Just return an output given a line\n",
    "def evaluate(line_tensor):\n",
    "    hidden = rnn.initHidden()\n",
    "\n",
    "    for i in range(line_tensor.size()[0]):\n",
    "        output, hidden = rnn(line_tensor[i], hidden)\n",
    "\n",
    "    return output\n",
    "\n",
    "# Go through a bunch of examples and record which are correctly guessed\n",
    "for i in range(n_confusion):\n",
    "    category, line, category_tensor, line_tensor = randomTrainingExample()\n",
    "    output = evaluate(line_tensor)\n",
    "    guess, guess_i = categoryFromOutput(output)\n",
    "    category_i = all_categories.index(category)\n",
    "    confusion[category_i][guess_i] += 1\n",
    "\n",
    "# Normalize by dividing every row by its sum\n",
    "for i in range(n_categories):\n",
    "    confusion[i] = confusion[i] / confusion[i].sum()\n",
    "\n",
    "# Set up plot\n",
    "fig = plt.figure()\n",
    "ax = fig.add_subplot(111)\n",
    "cax = ax.matshow(confusion.numpy())\n",
    "fig.colorbar(cax)\n",
    "\n",
    "# Set up axes\n",
    "ax.set_xticklabels([''] + all_categories, rotation=90)\n",
    "ax.set_yticklabels([''] + all_categories)\n",
    "\n",
    "# Force label at every tick\n",
    "ax.xaxis.set_major_locator(ticker.MultipleLocator(1))\n",
    "ax.yaxis.set_major_locator(ticker.MultipleLocator(1))\n",
    "\n",
    "# sphinx_gallery_thumbnail_number = 2\n",
    "plt.show()"
   ]
  },
  {
   "cell_type": "code",
   "execution_count": 16,
   "metadata": {},
   "outputs": [
    {
     "name": "stdout",
     "output_type": "stream",
     "text": [
      "\n",
      "> Dovesky\n",
      "(-0.09) Russian\n",
      "(-3.61) Czech\n",
      "(-3.79) English\n",
      "\n",
      "> Jackson\n",
      "(-0.87) Scottish\n",
      "(-1.06) English\n",
      "(-2.66) Russian\n",
      "\n",
      "> Satoshi\n",
      "(-0.95) Japanese\n",
      "(-1.19) Italian\n",
      "(-2.53) Arabic\n",
      "\n",
      "> Luong\n",
      "(-0.39) Vietnamese\n",
      "(-2.52) German\n",
      "(-3.01) Italian\n",
      "\n",
      "> Kafka\n",
      "(-0.99) Japanese\n",
      "(-1.14) Czech\n",
      "(-1.34) Polish\n",
      "\n",
      "> Muyskens\n",
      "(-0.37) Dutch\n",
      "(-2.16) German\n",
      "(-2.53) English\n"
     ]
    }
   ],
   "source": [
    "def predict(input_line, n_predictions=3):\n",
    "    print('\\n> %s' % input_line)\n",
    "    with torch.no_grad():\n",
    "        output = evaluate(lineToTensor(input_line))\n",
    "\n",
    "        # Get top N categories\n",
    "        topv, topi = output.topk(n_predictions, 1, True)\n",
    "        predictions = []\n",
    "\n",
    "        for i in range(n_predictions):\n",
    "            value = topv[0][i].item()\n",
    "            category_index = topi[0][i].item()\n",
    "            print('(%.2f) %s' % (value, all_categories[category_index]))\n",
    "            predictions.append([value, all_categories[category_index]])\n",
    "\n",
    "predict('Dovesky')\n",
    "predict('Jackson')\n",
    "predict('Satoshi')\n",
    "predict('Luong')\n",
    "predict('Kafka')\n",
    "predict('Muyskens')"
   ]
  },
  {
   "cell_type": "code",
   "execution_count": 17,
   "metadata": {},
   "outputs": [
    {
     "data": {
      "text/plain": [
       "RNN(\n",
       "  (i2h): Linear(in_features=185, out_features=128, bias=True)\n",
       "  (i2o): Linear(in_features=185, out_features=18, bias=True)\n",
       "  (softmax): LogSoftmax()\n",
       ")"
      ]
     },
     "execution_count": 17,
     "metadata": {},
     "output_type": "execute_result"
    }
   ],
   "source": [
    "rnn"
   ]
  },
  {
   "cell_type": "code",
   "execution_count": 18,
   "metadata": {},
   "outputs": [
    {
     "name": "stderr",
     "output_type": "stream",
     "text": [
      "/Users/hyundai/anaconda/envs/pytorch/lib/python3.6/site-packages/torch/serialization.py:241: UserWarning: Couldn't retrieve source code for container of type RNN. It won't be checked for correctness upon loading.\n",
      "  \"type \" + obj.__name__ + \". It won't be checked \"\n"
     ]
    }
   ],
   "source": [
    "torch.save(rnn,'model/rnn.pickle')"
   ]
  },
  {
   "cell_type": "code",
   "execution_count": 19,
   "metadata": {},
   "outputs": [
    {
     "data": {
      "text/plain": [
       "OrderedDict([('i2h.weight',\n",
       "              tensor([[-0.2057, -0.1287,  0.1036,  ...,  0.0653, -0.0549,  0.1070],\n",
       "                      [ 0.1995, -0.0265, -0.0051,  ..., -0.0102,  0.0277, -0.0607],\n",
       "                      [ 0.0288, -0.2054, -0.0105,  ..., -0.0131, -0.1042, -0.0492],\n",
       "                      ...,\n",
       "                      [-0.0529, -0.0846, -0.0458,  ...,  0.0023, -0.0427, -0.0583],\n",
       "                      [ 0.1903,  0.1741,  0.2179,  ...,  0.0598, -0.1981, -0.0768],\n",
       "                      [-0.1869, -0.2382, -0.0106,  ...,  0.1010,  0.0127,  0.0737]])),\n",
       "             ('i2h.bias',\n",
       "              tensor([ 0.0427, -0.0421, -0.0186, -0.1332, -0.0899, -0.0443,  0.0885,  0.0149,\n",
       "                       0.0309, -0.0407,  0.1000,  0.0126, -0.0012, -0.0033, -0.1386,  0.1038,\n",
       "                      -0.0530, -0.0303, -0.0121,  0.0535,  0.0451,  0.0216, -0.0390, -0.0524,\n",
       "                      -0.0562, -0.0341,  0.1087, -0.1413, -0.1140, -0.0272, -0.0377,  0.0895,\n",
       "                      -0.0120, -0.0468, -0.0184,  0.0084,  0.1495, -0.1011,  0.0599,  0.0526,\n",
       "                       0.0124,  0.1128, -0.0277,  0.0468,  0.1017,  0.0746,  0.0648, -0.0209,\n",
       "                      -0.0194,  0.0848, -0.1902, -0.0418,  0.0733, -0.0059, -0.0235,  0.0824,\n",
       "                      -0.0611,  0.0008, -0.0048, -0.0392, -0.0786, -0.0630,  0.0398, -0.0094,\n",
       "                      -0.0684,  0.0768,  0.0397, -0.0775, -0.0678,  0.0979, -0.0258,  0.1046,\n",
       "                       0.0475,  0.0522, -0.0552, -0.0082, -0.0318,  0.0945,  0.0720, -0.0299,\n",
       "                       0.0345, -0.0368, -0.0399, -0.0613, -0.0340,  0.0425,  0.0404, -0.0387,\n",
       "                      -0.0097,  0.1110,  0.0126, -0.0045, -0.1158, -0.0578,  0.1059, -0.0167,\n",
       "                      -0.0529,  0.0952,  0.0487, -0.0399, -0.0175, -0.0193,  0.0864, -0.0772,\n",
       "                       0.0040, -0.0105, -0.0577,  0.0105,  0.0658, -0.0392, -0.0445, -0.1022,\n",
       "                       0.1035, -0.0392,  0.0276, -0.0290,  0.0245, -0.0835, -0.0290,  0.0021,\n",
       "                      -0.0387,  0.1485, -0.1047, -0.0626,  0.0256, -0.0334,  0.0564, -0.0494])),\n",
       "             ('i2o.weight',\n",
       "              tensor([[ 1.1820,  0.0659,  0.2004,  ..., -0.2025, -0.0046,  0.2495],\n",
       "                      [-1.2916,  0.1238, -0.1914,  ..., -0.1021, -0.0332, -0.0542],\n",
       "                      [ 0.4456,  1.1471, -0.0846,  ...,  0.0957,  0.1493, -0.3021],\n",
       "                      ...,\n",
       "                      [-0.7445, -0.2001, -0.1454,  ...,  0.0219, -0.1591, -0.1813],\n",
       "                      [-0.3886, -0.1095, -0.0969,  ...,  0.0614,  0.0926,  0.0550],\n",
       "                      [ 0.5071, -0.0533,  0.5852,  ...,  0.2602, -0.0698,  0.3501]])),\n",
       "             ('i2o.bias',\n",
       "              tensor([ 0.2122,  0.3612,  0.0065, -0.3311,  0.1432,  0.3861, -0.0249,  0.2123,\n",
       "                       0.0378,  0.4495, -0.1927, -1.0468, -0.4290, -0.4865,  0.0100,  0.0018,\n",
       "                       0.8243, -0.2346]))])"
      ]
     },
     "execution_count": 19,
     "metadata": {},
     "output_type": "execute_result"
    }
   ],
   "source": [
    "rnn.state_dict()"
   ]
  },
  {
   "cell_type": "code",
   "execution_count": 20,
   "metadata": {},
   "outputs": [],
   "source": [
    "rnn2 = torch.load('model/rnn.pickle')"
   ]
  },
  {
   "cell_type": "code",
   "execution_count": 21,
   "metadata": {},
   "outputs": [
    {
     "data": {
      "text/plain": [
       "OrderedDict([('i2h.weight',\n",
       "              tensor([[-0.2057, -0.1287,  0.1036,  ...,  0.0653, -0.0549,  0.1070],\n",
       "                      [ 0.1995, -0.0265, -0.0051,  ..., -0.0102,  0.0277, -0.0607],\n",
       "                      [ 0.0288, -0.2054, -0.0105,  ..., -0.0131, -0.1042, -0.0492],\n",
       "                      ...,\n",
       "                      [-0.0529, -0.0846, -0.0458,  ...,  0.0023, -0.0427, -0.0583],\n",
       "                      [ 0.1903,  0.1741,  0.2179,  ...,  0.0598, -0.1981, -0.0768],\n",
       "                      [-0.1869, -0.2382, -0.0106,  ...,  0.1010,  0.0127,  0.0737]])),\n",
       "             ('i2h.bias',\n",
       "              tensor([ 0.0427, -0.0421, -0.0186, -0.1332, -0.0899, -0.0443,  0.0885,  0.0149,\n",
       "                       0.0309, -0.0407,  0.1000,  0.0126, -0.0012, -0.0033, -0.1386,  0.1038,\n",
       "                      -0.0530, -0.0303, -0.0121,  0.0535,  0.0451,  0.0216, -0.0390, -0.0524,\n",
       "                      -0.0562, -0.0341,  0.1087, -0.1413, -0.1140, -0.0272, -0.0377,  0.0895,\n",
       "                      -0.0120, -0.0468, -0.0184,  0.0084,  0.1495, -0.1011,  0.0599,  0.0526,\n",
       "                       0.0124,  0.1128, -0.0277,  0.0468,  0.1017,  0.0746,  0.0648, -0.0209,\n",
       "                      -0.0194,  0.0848, -0.1902, -0.0418,  0.0733, -0.0059, -0.0235,  0.0824,\n",
       "                      -0.0611,  0.0008, -0.0048, -0.0392, -0.0786, -0.0630,  0.0398, -0.0094,\n",
       "                      -0.0684,  0.0768,  0.0397, -0.0775, -0.0678,  0.0979, -0.0258,  0.1046,\n",
       "                       0.0475,  0.0522, -0.0552, -0.0082, -0.0318,  0.0945,  0.0720, -0.0299,\n",
       "                       0.0345, -0.0368, -0.0399, -0.0613, -0.0340,  0.0425,  0.0404, -0.0387,\n",
       "                      -0.0097,  0.1110,  0.0126, -0.0045, -0.1158, -0.0578,  0.1059, -0.0167,\n",
       "                      -0.0529,  0.0952,  0.0487, -0.0399, -0.0175, -0.0193,  0.0864, -0.0772,\n",
       "                       0.0040, -0.0105, -0.0577,  0.0105,  0.0658, -0.0392, -0.0445, -0.1022,\n",
       "                       0.1035, -0.0392,  0.0276, -0.0290,  0.0245, -0.0835, -0.0290,  0.0021,\n",
       "                      -0.0387,  0.1485, -0.1047, -0.0626,  0.0256, -0.0334,  0.0564, -0.0494])),\n",
       "             ('i2o.weight',\n",
       "              tensor([[ 1.1820,  0.0659,  0.2004,  ..., -0.2025, -0.0046,  0.2495],\n",
       "                      [-1.2916,  0.1238, -0.1914,  ..., -0.1021, -0.0332, -0.0542],\n",
       "                      [ 0.4456,  1.1471, -0.0846,  ...,  0.0957,  0.1493, -0.3021],\n",
       "                      ...,\n",
       "                      [-0.7445, -0.2001, -0.1454,  ...,  0.0219, -0.1591, -0.1813],\n",
       "                      [-0.3886, -0.1095, -0.0969,  ...,  0.0614,  0.0926,  0.0550],\n",
       "                      [ 0.5071, -0.0533,  0.5852,  ...,  0.2602, -0.0698,  0.3501]])),\n",
       "             ('i2o.bias',\n",
       "              tensor([ 0.2122,  0.3612,  0.0065, -0.3311,  0.1432,  0.3861, -0.0249,  0.2123,\n",
       "                       0.0378,  0.4495, -0.1927, -1.0468, -0.4290, -0.4865,  0.0100,  0.0018,\n",
       "                       0.8243, -0.2346]))])"
      ]
     },
     "execution_count": 21,
     "metadata": {},
     "output_type": "execute_result"
    }
   ],
   "source": [
    "rnn2.state_dict()"
   ]
  },
  {
   "cell_type": "code",
   "execution_count": 22,
   "metadata": {},
   "outputs": [
    {
     "name": "stdout",
     "output_type": "stream",
     "text": [
      "\n",
      "> Dovesky\n",
      "(-0.09) Russian\n",
      "(-3.61) Czech\n",
      "(-3.79) English\n",
      "\n",
      "> Jackson\n",
      "(-0.87) Scottish\n",
      "(-1.06) English\n",
      "(-2.66) Russian\n",
      "\n",
      "> Satoshi\n",
      "(-0.95) Japanese\n",
      "(-1.19) Italian\n",
      "(-2.53) Arabic\n"
     ]
    }
   ],
   "source": [
    "def evaluate2(line_tensor):\n",
    "    hidden = rnn2.initHidden()\n",
    "\n",
    "    for i in range(line_tensor.size()[0]):\n",
    "        output, hidden = rnn2(line_tensor[i], hidden)\n",
    "\n",
    "    return output\n",
    "\n",
    "def predict2(input_line, n_predictions=3):\n",
    "    print('\\n> %s' % input_line)\n",
    "    with torch.no_grad():\n",
    "        output = evaluate2(lineToTensor(input_line))\n",
    "\n",
    "        # Get top N categories\n",
    "        topv, topi = output.topk(n_predictions, 1, True)\n",
    "        predictions = []\n",
    "\n",
    "        for i in range(n_predictions):\n",
    "            value = topv[0][i].item()\n",
    "            category_index = topi[0][i].item()\n",
    "            print('(%.2f) %s' % (value, all_categories[category_index]))\n",
    "            predictions.append([value, all_categories[category_index]])\n",
    "\n",
    "predict('Dovesky')\n",
    "predict('Jackson')\n",
    "predict('Satoshi')"
   ]
  },
  {
   "cell_type": "code",
   "execution_count": null,
   "metadata": {},
   "outputs": [],
   "source": []
  }
 ],
 "metadata": {
  "kernelspec": {
   "display_name": "Python 3",
   "language": "python",
   "name": "python3"
  },
  "language_info": {
   "codemirror_mode": {
    "name": "ipython",
    "version": 3
   },
   "file_extension": ".py",
   "mimetype": "text/x-python",
   "name": "python",
   "nbconvert_exporter": "python",
   "pygments_lexer": "ipython3",
   "version": "3.6.6"
  }
 },
 "nbformat": 4,
 "nbformat_minor": 2
}
