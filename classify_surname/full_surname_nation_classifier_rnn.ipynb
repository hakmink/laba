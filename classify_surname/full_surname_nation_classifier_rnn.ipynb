{
 "cells": [
  {
   "cell_type": "code",
   "execution_count": 1,
   "metadata": {},
   "outputs": [
    {
     "name": "stdout",
     "output_type": "stream",
     "text": [
      "['data/names/Czech.txt', 'data/names/German.txt', 'data/names/Arabic.txt', 'data/names/Japanese.txt', 'data/names/Chinese.txt', 'data/names/Vietnamese.txt', 'data/names/Russian.txt', 'data/names/French.txt', 'data/names/Irish.txt', 'data/names/English.txt', 'data/names/Spanish.txt', 'data/names/Greek.txt', 'data/names/Italian.txt', 'data/names/Portuguese.txt', 'data/names/Scottish.txt', 'data/names/Dutch.txt', 'data/names/Korean.txt', 'data/names/Polish.txt']\n",
      "Slusarski\n"
     ]
    }
   ],
   "source": [
    "from io import open\n",
    "import glob\n",
    "import os\n",
    "\n",
    "def findFiles(path): return glob.glob(path)\n",
    "\n",
    "print(findFiles('data/names/*.txt'))\n",
    "\n",
    "import unicodedata\n",
    "import string\n",
    "\n",
    "all_letters = string.ascii_letters + \" .,;'\"\n",
    "n_letters = len(all_letters)\n",
    "\n",
    "# Turn a Unicode string to plain ASCII, thanks to http://stackoverflow.com/a/518232/2809427\n",
    "def unicodeToAscii(s):\n",
    "    return ''.join(\n",
    "        c for c in unicodedata.normalize('NFD', s)\n",
    "        if unicodedata.category(c) != 'Mn'\n",
    "        and c in all_letters\n",
    "    )\n",
    "\n",
    "print(unicodeToAscii('Ślusàrski'))\n",
    "\n",
    "# Build the category_lines dictionary, a list of names per language\n",
    "category_lines = {}\n",
    "all_categories = []\n",
    "\n",
    "# Read a file and split into lines\n",
    "def readLines(filename):\n",
    "    lines = open(filename, encoding='utf-8').read().strip().split('\\n')\n",
    "    return [unicodeToAscii(line) for line in lines]\n",
    "\n",
    "for filename in findFiles('data/names/*.txt'):\n",
    "    category = os.path.splitext(os.path.basename(filename))[0]\n",
    "    all_categories.append(category)\n",
    "    lines = readLines(filename)\n",
    "    category_lines[category] = lines\n",
    "\n",
    "n_categories = len(all_categories)"
   ]
  },
  {
   "cell_type": "code",
   "execution_count": 2,
   "metadata": {},
   "outputs": [
    {
     "name": "stdout",
     "output_type": "stream",
     "text": [
      "['Abandonato', 'Abatangelo', 'Abatantuono', 'Abate', 'Abategiovanni']\n"
     ]
    }
   ],
   "source": [
    "print(category_lines['Italian'][:5])"
   ]
  },
  {
   "cell_type": "code",
   "execution_count": 3,
   "metadata": {},
   "outputs": [
    {
     "data": {
      "text/plain": [
       "['Abandonato', 'Abatangelo', 'Abatantuono', 'Abate', 'Abategiovanni']"
      ]
     },
     "execution_count": 3,
     "metadata": {},
     "output_type": "execute_result"
    }
   ],
   "source": [
    "category_lines['Italian'][0:5]"
   ]
  },
  {
   "cell_type": "code",
   "execution_count": 4,
   "metadata": {},
   "outputs": [
    {
     "name": "stdout",
     "output_type": "stream",
     "text": [
      "tensor([[0., 0., 0., 0., 0., 0., 0., 0., 0., 0., 0., 0., 0., 0., 0., 0., 0., 0.,\n",
      "         0., 0., 0., 0., 0., 0., 0., 0., 0., 0., 0., 0., 0., 0., 0., 0., 0., 1.,\n",
      "         0., 0., 0., 0., 0., 0., 0., 0., 0., 0., 0., 0., 0., 0., 0., 0., 0., 0.,\n",
      "         0., 0., 0.]])\n",
      "torch.Size([5, 1, 57])\n"
     ]
    }
   ],
   "source": [
    "import torch\n",
    "\n",
    "# Find letter index from all_letters, e.g. \"a\" = 0\n",
    "def letterToIndex(letter):\n",
    "    return all_letters.find(letter)\n",
    "\n",
    "# Just for demonstration, turn a letter into a <1 x n_letters> Tensor\n",
    "def letterToTensor(letter):\n",
    "    tensor = torch.zeros(1, n_letters)\n",
    "    tensor[0][letterToIndex(letter)] = 1\n",
    "    return tensor\n",
    "\n",
    "# Turn a line into a <line_length x 1 x n_letters>,\n",
    "# or an array of one-hot letter vectors\n",
    "def lineToTensor(line):\n",
    "    tensor = torch.zeros(len(line), 1, n_letters)\n",
    "    for li, letter in enumerate(line):\n",
    "        tensor[li][0][letterToIndex(letter)] = 1\n",
    "    return tensor\n",
    "\n",
    "print(letterToTensor('J'))\n",
    "\n",
    "print(lineToTensor('Jones').size())"
   ]
  },
  {
   "cell_type": "code",
   "execution_count": 5,
   "metadata": {},
   "outputs": [],
   "source": [
    "import torch.nn as nn\n",
    "\n",
    "class RNN(nn.Module):\n",
    "    def __init__(self, input_size, hidden_size, output_size):\n",
    "        super(RNN, self).__init__()\n",
    "\n",
    "        self.hidden_size = hidden_size\n",
    "\n",
    "        self.i2h = nn.Linear(input_size + hidden_size, hidden_size)\n",
    "        self.i2o = nn.Linear(input_size + hidden_size, output_size)\n",
    "        self.softmax = nn.LogSoftmax(dim=1)\n",
    "\n",
    "    def forward(self, input, hidden):\n",
    "        combined = torch.cat((input, hidden), 1)\n",
    "        hidden = self.i2h(combined)\n",
    "        output = self.i2o(combined)\n",
    "        output = self.softmax(output)\n",
    "        return output, hidden\n",
    "\n",
    "    def initHidden(self):\n",
    "        return torch.zeros(1, self.hidden_size)\n",
    "\n",
    "n_hidden = 128\n",
    "rnn = RNN(n_letters, n_hidden, n_categories)"
   ]
  },
  {
   "cell_type": "code",
   "execution_count": 6,
   "metadata": {},
   "outputs": [],
   "source": [
    "input = letterToTensor('A')\n",
    "hidden =torch.zeros(1, n_hidden)\n",
    "\n",
    "output, next_hidden = rnn(input, hidden)"
   ]
  },
  {
   "cell_type": "code",
   "execution_count": 7,
   "metadata": {},
   "outputs": [
    {
     "name": "stdout",
     "output_type": "stream",
     "text": [
      "tensor([[-2.8539, -2.9475, -2.8500, -2.8243, -2.9286, -2.8502, -3.0026, -2.8864,\n",
      "         -2.8973, -2.9343, -2.9257, -2.8455, -2.8712, -2.9035, -2.8333, -2.9098,\n",
      "         -2.8655, -2.9154]], grad_fn=<LogSoftmaxBackward>)\n"
     ]
    }
   ],
   "source": [
    "input = lineToTensor('Albert')\n",
    "hidden = torch.zeros(1, n_hidden)\n",
    "\n",
    "output, next_hidden = rnn(input[0], hidden)\n",
    "print(output)"
   ]
  },
  {
   "cell_type": "code",
   "execution_count": 8,
   "metadata": {},
   "outputs": [
    {
     "name": "stdout",
     "output_type": "stream",
     "text": [
      "('Japanese', 3)\n"
     ]
    }
   ],
   "source": [
    "def categoryFromOutput(output):\n",
    "    top_n, top_i = output.topk(1)\n",
    "    category_i = top_i[0].item()\n",
    "    return all_categories[category_i], category_i\n",
    "\n",
    "print(categoryFromOutput(output))"
   ]
  },
  {
   "cell_type": "code",
   "execution_count": 9,
   "metadata": {},
   "outputs": [
    {
     "name": "stdout",
     "output_type": "stream",
     "text": [
      "category = Greek / line = Protopsaltis\n",
      "category = Greek / line = Panayiotopoulos\n",
      "category = Dutch / line = Donk\n",
      "category = Spanish / line = Fierro\n",
      "category = Dutch / line = Koeman\n",
      "category = German / line = Lorenz\n",
      "category = Russian / line = Portyanik\n",
      "category = Chinese / line = Sheng\n",
      "category = Japanese / line = Kobi\n",
      "category = Chinese / line = Tian\n"
     ]
    }
   ],
   "source": [
    "import random\n",
    "\n",
    "def randomChoice(l):\n",
    "    return l[random.randint(0, len(l) - 1)]\n",
    "\n",
    "def randomTrainingExample():\n",
    "    category = randomChoice(all_categories)\n",
    "    line = randomChoice(category_lines[category])\n",
    "    category_tensor = torch.tensor([all_categories.index(category)], dtype=torch.long)\n",
    "    line_tensor = lineToTensor(line)\n",
    "    return category, line, category_tensor, line_tensor\n",
    "\n",
    "for i in range(10):\n",
    "    category, line, category_tensor, line_tensor = randomTrainingExample()\n",
    "    print('category =', category, '/ line =', line)"
   ]
  },
  {
   "cell_type": "code",
   "execution_count": 10,
   "metadata": {},
   "outputs": [],
   "source": [
    "criterion = nn.NLLLoss()"
   ]
  },
  {
   "cell_type": "code",
   "execution_count": 11,
   "metadata": {},
   "outputs": [],
   "source": [
    "learning_rate = 0.005 # If you set this too high, it might explode. If too low, it might not learn\n",
    "\n",
    "def train(category_tensor, line_tensor):\n",
    "    hidden = rnn.initHidden()\n",
    "\n",
    "    rnn.zero_grad()\n",
    "\n",
    "    for i in range(line_tensor.size()[0]):\n",
    "        output, hidden = rnn(line_tensor[i], hidden)\n",
    "\n",
    "    loss = criterion(output, category_tensor)\n",
    "    loss.backward()\n",
    "\n",
    "    # Add parameters' gradients to their values, multiplied by learning rate\n",
    "    for p in rnn.parameters():\n",
    "        p.data.add_(-learning_rate, p.grad.data)\n",
    "\n",
    "    return output, loss.item()"
   ]
  },
  {
   "cell_type": "code",
   "execution_count": 12,
   "metadata": {},
   "outputs": [
    {
     "name": "stdout",
     "output_type": "stream",
     "text": [
      "5000 5% (0m 10s) 2.5051 Mackay / Irish ✗ (Scottish)\n",
      "10000 10% (0m 21s) 1.1764 Dubanowski / Polish ✓\n",
      "15000 15% (0m 32s) 1.9779 Potenza / Czech ✗ (Italian)\n",
      "20000 20% (0m 43s) 1.8372 Bagaev / Arabic ✗ (Russian)\n",
      "25000 25% (1m 0s) 0.1829 Karameros / Greek ✓\n",
      "30000 30% (1m 11s) 1.2265 Perez / Spanish ✓\n",
      "35000 35% (1m 22s) 1.6470 Slootmaekers / Greek ✗ (Dutch)\n",
      "40000 40% (1m 34s) 0.9594 Abukara / Japanese ✓\n",
      "45000 45% (1m 46s) 1.5588 Xiang / Vietnamese ✗ (Chinese)\n",
      "50000 50% (1m 57s) 2.0647 Ramaker / German ✗ (Dutch)\n",
      "55000 55% (2m 11s) 0.3107 O'Leary / Irish ✓\n",
      "60000 60% (2m 28s) 1.2339 Altimari / Japanese ✗ (Italian)\n",
      "65000 65% (2m 43s) 1.1924 San / Chinese ✗ (Korean)\n",
      "70000 70% (2m 57s) 0.2939 Batsakis / Greek ✓\n",
      "75000 75% (3m 14s) 1.0003 Cao / Chinese ✓\n",
      "80000 80% (3m 26s) 0.0053 Papadopulos / Greek ✓\n",
      "85000 85% (3m 39s) 1.3608 Kruessel / German ✗ (Czech)\n",
      "90000 90% (4m 1s) 3.6439 Hagan / Irish ✗ (English)\n",
      "95000 95% (4m 17s) 0.4102 Kong / Chinese ✓\n",
      "100000 100% (4m 34s) 1.1334 Sokolik / Polish ✗ (Czech)\n"
     ]
    }
   ],
   "source": [
    "import time\n",
    "import math\n",
    "\n",
    "n_iters = 100000\n",
    "print_every = 5000\n",
    "plot_every = 1000\n",
    "\n",
    "\n",
    "\n",
    "# Keep track of losses for plotting\n",
    "current_loss = 0\n",
    "all_losses = []\n",
    "\n",
    "def timeSince(since):\n",
    "    now = time.time()\n",
    "    s = now - since\n",
    "    m = math.floor(s / 60)\n",
    "    s -= m * 60\n",
    "    return '%dm %ds' % (m, s)\n",
    "\n",
    "start = time.time()\n",
    "\n",
    "for iter in range(1, n_iters + 1):\n",
    "    category, line, category_tensor, line_tensor = randomTrainingExample()\n",
    "    output, loss = train(category_tensor, line_tensor)\n",
    "    current_loss += loss\n",
    "\n",
    "    # Print iter number, loss, name and guess\n",
    "    if iter % print_every == 0:\n",
    "        guess, guess_i = categoryFromOutput(output)\n",
    "        correct = '✓' if guess == category else '✗ (%s)' % category\n",
    "        print('%d %d%% (%s) %.4f %s / %s %s' % (iter, iter / n_iters * 100, timeSince(start), loss, line, guess, correct))\n",
    "\n",
    "    # Add current loss avg to list of losses\n",
    "    if iter % plot_every == 0:\n",
    "        all_losses.append(current_loss / plot_every)\n",
    "        current_loss = 0"
   ]
  },
  {
   "cell_type": "code",
   "execution_count": 13,
   "metadata": {},
   "outputs": [
    {
     "data": {
      "text/plain": [
       "[<matplotlib.lines.Line2D at 0x11a0c9438>]"
      ]
     },
     "execution_count": 13,
     "metadata": {},
     "output_type": "execute_result"
    },
    {
     "data": {
      "image/png": "[encoded data removed]",
      "text/plain": [
       "<Figure size 432x288 with 1 Axes>"
      ]
     },
     "metadata": {
      "needs_background": "light"
     },
     "output_type": "display_data"
    }
   ],
   "source": [
    "%matplotlib inline\n",
    "import matplotlib.pyplot as plt\n",
    "import matplotlib.ticker as ticker\n",
    "\n",
    "plt.figure()\n",
    "plt.plot(all_losses)\n"
   ]
  },
  {
   "cell_type": "code",
   "execution_count": 14,
   "metadata": {},
   "outputs": [
    {
     "data": {
      "image/png": "[encoded data removed]",
      "text/plain": [
       "<Figure size 432x288 with 2 Axes>"
      ]
     },
     "metadata": {
      "needs_background": "light"
     },
     "output_type": "display_data"
    }
   ],
   "source": [
    "# Keep track of correct guesses in a confusion matrix\n",
    "confusion = torch.zeros(n_categories, n_categories)\n",
    "n_confusion = 10000\n",
    "\n",
    "# Just return an output given a line\n",
    "def evaluate(line_tensor):\n",
    "    hidden = rnn.initHidden()\n",
    "\n",
    "    for i in range(line_tensor.size()[0]):\n",
    "        output, hidden = rnn(line_tensor[i], hidden)\n",
    "\n",
    "    return output\n",
    "\n",
    "# Go through a bunch of examples and record which are correctly guessed\n",
    "for i in range(n_confusion):\n",
    "    category, line, category_tensor, line_tensor = randomTrainingExample()\n",
    "    output = evaluate(line_tensor)\n",
    "    guess, guess_i = categoryFromOutput(output)\n",
    "    category_i = all_categories.index(category)\n",
    "    confusion[category_i][guess_i] += 1\n",
    "\n",
    "# Normalize by dividing every row by its sum\n",
    "for i in range(n_categories):\n",
    "    confusion[i] = confusion[i] / confusion[i].sum()\n",
    "\n",
    "# Set up plot\n",
    "fig = plt.figure()\n",
    "ax = fig.add_subplot(111)\n",
    "cax = ax.matshow(confusion.numpy())\n",
    "fig.colorbar(cax)\n",
    "\n",
    "# Set up axes\n",
    "ax.set_xticklabels([''] + all_categories, rotation=90)\n",
    "ax.set_yticklabels([''] + all_categories)\n",
    "\n",
    "# Force label at every tick\n",
    "ax.xaxis.set_major_locator(ticker.MultipleLocator(1))\n",
    "ax.yaxis.set_major_locator(ticker.MultipleLocator(1))\n",
    "\n",
    "# sphinx_gallery_thumbnail_number = 2\n",
    "plt.show()"
   ]
  },
  {
   "cell_type": "code",
   "execution_count": 15,
   "metadata": {},
   "outputs": [
    {
     "name": "stdout",
     "output_type": "stream",
     "text": [
      "\n",
      "> Dovesky\n",
      "(-0.95) Czech\n",
      "(-1.08) Russian\n",
      "(-1.86) Polish\n",
      "\n",
      "> Jackson\n",
      "(-0.09) Scottish\n",
      "(-2.90) English\n",
      "(-4.79) Korean\n",
      "\n",
      "> Satoshi\n",
      "(-0.53) Italian\n",
      "(-2.15) Japanese\n",
      "(-2.55) Arabic\n"
     ]
    }
   ],
   "source": [
    "def predict(input_line, n_predictions=3):\n",
    "    print('\\n> %s' % input_line)\n",
    "    with torch.no_grad():\n",
    "        output = evaluate(lineToTensor(input_line))\n",
    "\n",
    "        # Get top N categories\n",
    "        topv, topi = output.topk(n_predictions, 1, True)\n",
    "        predictions = []\n",
    "\n",
    "        for i in range(n_predictions):\n",
    "            value = topv[0][i].item()\n",
    "            category_index = topi[0][i].item()\n",
    "            print('(%.2f) %s' % (value, all_categories[category_index]))\n",
    "            predictions.append([value, all_categories[category_index]])\n",
    "\n",
    "predict('Dovesky')\n",
    "predict('Jackson')\n",
    "predict('Satoshi')"
   ]
  },
  {
   "cell_type": "code",
   "execution_count": 16,
   "metadata": {},
   "outputs": [
    {
     "data": {
      "text/plain": [
       "RNN(\n",
       "  (i2h): Linear(in_features=185, out_features=128, bias=True)\n",
       "  (i2o): Linear(in_features=185, out_features=18, bias=True)\n",
       "  (softmax): LogSoftmax()\n",
       ")"
      ]
     },
     "execution_count": 16,
     "metadata": {},
     "output_type": "execute_result"
    }
   ],
   "source": [
    "rnn"
   ]
  },
  {
   "cell_type": "code",
   "execution_count": 22,
   "metadata": {},
   "outputs": [
    {
     "name": "stderr",
     "output_type": "stream",
     "text": [
      "/Users/hyundai/anaconda/envs/pytorch/lib/python3.6/site-packages/torch/serialization.py:241: UserWarning: Couldn't retrieve source code for container of type RNN. It won't be checked for correctness upon loading.\n",
      "  \"type \" + obj.__name__ + \". It won't be checked \"\n"
     ]
    }
   ],
   "source": [
    "torch.save(rnn,'model/rnn.pickle')"
   ]
  },
  {
   "cell_type": "code",
   "execution_count": 23,
   "metadata": {},
   "outputs": [
    {
     "data": {
      "text/plain": [
       "OrderedDict([('i2h.weight',\n",
       "              tensor([[-0.0767, -0.0144,  0.1630,  ...,  0.0111, -0.0961, -0.0327],\n",
       "                      [-0.0397, -0.0538,  0.0145,  ..., -0.0388, -0.1375, -0.0752],\n",
       "                      [-0.0894, -0.0096,  0.2504,  ...,  0.0251, -0.0054,  0.0649],\n",
       "                      ...,\n",
       "                      [ 0.1129,  0.1852, -0.1814,  ...,  0.0054, -0.0141, -0.0362],\n",
       "                      [-0.1338,  0.1638,  0.0429,  ..., -0.0177, -0.0268,  0.1126],\n",
       "                      [ 0.1823,  0.0181,  0.0175,  ...,  0.0071,  0.1029, -0.0015]])),\n",
       "             ('i2h.bias',\n",
       "              tensor([ 0.1586,  0.1318, -0.0327,  0.1588,  0.0583, -0.0433,  0.1242,  0.1008,\n",
       "                      -0.0148, -0.1621, -0.0639, -0.0266, -0.0401, -0.0495, -0.0156, -0.0410,\n",
       "                       0.0634,  0.0907, -0.0257,  0.0163,  0.0037,  0.0470,  0.0414,  0.0419,\n",
       "                      -0.0325,  0.0050,  0.0322,  0.0347, -0.0358,  0.1237,  0.0414,  0.0348,\n",
       "                      -0.0856, -0.0074,  0.0677,  0.0949, -0.0616,  0.1255, -0.0143, -0.1549,\n",
       "                       0.0053,  0.0106,  0.0616, -0.0210, -0.1326,  0.0457,  0.0501,  0.0160,\n",
       "                       0.0246, -0.0152,  0.1010, -0.0967,  0.0388, -0.1679,  0.0540,  0.0051,\n",
       "                       0.1301,  0.0925,  0.0203, -0.0446, -0.1055,  0.0394,  0.1718, -0.1457,\n",
       "                       0.0299,  0.0260, -0.1146, -0.0902, -0.0121, -0.0921,  0.0124, -0.0137,\n",
       "                       0.0270, -0.0855, -0.0185,  0.0680,  0.0849,  0.0117, -0.0196,  0.0470,\n",
       "                       0.0346,  0.0809,  0.0669, -0.0497,  0.0706,  0.0135, -0.0753, -0.1806,\n",
       "                      -0.2067,  0.0365, -0.0921, -0.1050, -0.1100, -0.1153, -0.1159,  0.0859,\n",
       "                       0.0343,  0.1035, -0.0693,  0.0513, -0.1001,  0.0820,  0.0410, -0.1169,\n",
       "                      -0.0229, -0.0049,  0.1755, -0.0089, -0.0531,  0.2224, -0.1723, -0.0035,\n",
       "                       0.0292, -0.0419,  0.0409, -0.0518,  0.0170, -0.0889,  0.0641,  0.0538,\n",
       "                      -0.0844, -0.0569, -0.0619,  0.0093,  0.1055, -0.1229,  0.0764, -0.0434])),\n",
       "             ('i2o.weight',\n",
       "              tensor([[ 1.1106,  0.0182,  0.1960,  ...,  0.1364,  0.1348, -0.0334],\n",
       "                      [-1.2171,  0.0900, -0.0664,  ..., -0.2476,  0.1166, -0.0540],\n",
       "                      [ 0.4046,  1.0374, -0.1390,  ...,  0.0816, -0.0247,  0.0674],\n",
       "                      ...,\n",
       "                      [-0.7585, -0.1395, -0.1203,  ..., -0.1774, -0.0025,  0.0270],\n",
       "                      [-0.3750, -0.0808, -0.0806,  ...,  0.0177,  0.0708, -0.3074],\n",
       "                      [ 0.4115, -0.0369,  0.5073,  ..., -0.0443,  0.1653, -0.1392]])),\n",
       "             ('i2o.bias',\n",
       "              tensor([ 0.2135,  0.3220, -0.0415, -0.3327,  0.1457,  0.5254,  0.0467,  0.1531,\n",
       "                      -0.0499,  0.4689, -0.1229, -1.0433, -0.4384, -0.3834,  0.0869,  0.0645,\n",
       "                       0.7380, -0.2054]))])"
      ]
     },
     "execution_count": 23,
     "metadata": {},
     "output_type": "execute_result"
    }
   ],
   "source": [
    "rnn.state_dict()"
   ]
  },
  {
   "cell_type": "code",
   "execution_count": 24,
   "metadata": {},
   "outputs": [],
   "source": [
    "rnn2 = torch.load('model/rnn.pickle')"
   ]
  },
  {
   "cell_type": "code",
   "execution_count": 25,
   "metadata": {},
   "outputs": [
    {
     "data": {
      "text/plain": [
       "OrderedDict([('i2h.weight',\n",
       "              tensor([[-0.0767, -0.0144,  0.1630,  ...,  0.0111, -0.0961, -0.0327],\n",
       "                      [-0.0397, -0.0538,  0.0145,  ..., -0.0388, -0.1375, -0.0752],\n",
       "                      [-0.0894, -0.0096,  0.2504,  ...,  0.0251, -0.0054,  0.0649],\n",
       "                      ...,\n",
       "                      [ 0.1129,  0.1852, -0.1814,  ...,  0.0054, -0.0141, -0.0362],\n",
       "                      [-0.1338,  0.1638,  0.0429,  ..., -0.0177, -0.0268,  0.1126],\n",
       "                      [ 0.1823,  0.0181,  0.0175,  ...,  0.0071,  0.1029, -0.0015]])),\n",
       "             ('i2h.bias',\n",
       "              tensor([ 0.1586,  0.1318, -0.0327,  0.1588,  0.0583, -0.0433,  0.1242,  0.1008,\n",
       "                      -0.0148, -0.1621, -0.0639, -0.0266, -0.0401, -0.0495, -0.0156, -0.0410,\n",
       "                       0.0634,  0.0907, -0.0257,  0.0163,  0.0037,  0.0470,  0.0414,  0.0419,\n",
       "                      -0.0325,  0.0050,  0.0322,  0.0347, -0.0358,  0.1237,  0.0414,  0.0348,\n",
       "                      -0.0856, -0.0074,  0.0677,  0.0949, -0.0616,  0.1255, -0.0143, -0.1549,\n",
       "                       0.0053,  0.0106,  0.0616, -0.0210, -0.1326,  0.0457,  0.0501,  0.0160,\n",
       "                       0.0246, -0.0152,  0.1010, -0.0967,  0.0388, -0.1679,  0.0540,  0.0051,\n",
       "                       0.1301,  0.0925,  0.0203, -0.0446, -0.1055,  0.0394,  0.1718, -0.1457,\n",
       "                       0.0299,  0.0260, -0.1146, -0.0902, -0.0121, -0.0921,  0.0124, -0.0137,\n",
       "                       0.0270, -0.0855, -0.0185,  0.0680,  0.0849,  0.0117, -0.0196,  0.0470,\n",
       "                       0.0346,  0.0809,  0.0669, -0.0497,  0.0706,  0.0135, -0.0753, -0.1806,\n",
       "                      -0.2067,  0.0365, -0.0921, -0.1050, -0.1100, -0.1153, -0.1159,  0.0859,\n",
       "                       0.0343,  0.1035, -0.0693,  0.0513, -0.1001,  0.0820,  0.0410, -0.1169,\n",
       "                      -0.0229, -0.0049,  0.1755, -0.0089, -0.0531,  0.2224, -0.1723, -0.0035,\n",
       "                       0.0292, -0.0419,  0.0409, -0.0518,  0.0170, -0.0889,  0.0641,  0.0538,\n",
       "                      -0.0844, -0.0569, -0.0619,  0.0093,  0.1055, -0.1229,  0.0764, -0.0434])),\n",
       "             ('i2o.weight',\n",
       "              tensor([[ 1.1106,  0.0182,  0.1960,  ...,  0.1364,  0.1348, -0.0334],\n",
       "                      [-1.2171,  0.0900, -0.0664,  ..., -0.2476,  0.1166, -0.0540],\n",
       "                      [ 0.4046,  1.0374, -0.1390,  ...,  0.0816, -0.0247,  0.0674],\n",
       "                      ...,\n",
       "                      [-0.7585, -0.1395, -0.1203,  ..., -0.1774, -0.0025,  0.0270],\n",
       "                      [-0.3750, -0.0808, -0.0806,  ...,  0.0177,  0.0708, -0.3074],\n",
       "                      [ 0.4115, -0.0369,  0.5073,  ..., -0.0443,  0.1653, -0.1392]])),\n",
       "             ('i2o.bias',\n",
       "              tensor([ 0.2135,  0.3220, -0.0415, -0.3327,  0.1457,  0.5254,  0.0467,  0.1531,\n",
       "                      -0.0499,  0.4689, -0.1229, -1.0433, -0.4384, -0.3834,  0.0869,  0.0645,\n",
       "                       0.7380, -0.2054]))])"
      ]
     },
     "execution_count": 25,
     "metadata": {},
     "output_type": "execute_result"
    }
   ],
   "source": [
    "rnn2.state_dict()"
   ]
  },
  {
   "cell_type": "code",
   "execution_count": 26,
   "metadata": {},
   "outputs": [
    {
     "name": "stdout",
     "output_type": "stream",
     "text": [
      "\n",
      "> Dovesky\n",
      "(-0.95) Czech\n",
      "(-1.08) Russian\n",
      "(-1.86) Polish\n",
      "\n",
      "> Jackson\n",
      "(-0.09) Scottish\n",
      "(-2.90) English\n",
      "(-4.79) Korean\n",
      "\n",
      "> Satoshi\n",
      "(-0.53) Italian\n",
      "(-2.15) Japanese\n",
      "(-2.55) Arabic\n"
     ]
    }
   ],
   "source": [
    "def evaluate2(line_tensor):\n",
    "    hidden = rnn2.initHidden()\n",
    "\n",
    "    for i in range(line_tensor.size()[0]):\n",
    "        output, hidden = rnn2(line_tensor[i], hidden)\n",
    "\n",
    "    return output\n",
    "\n",
    "def predict2(input_line, n_predictions=3):\n",
    "    print('\\n> %s' % input_line)\n",
    "    with torch.no_grad():\n",
    "        output = evaluate2(lineToTensor(input_line))\n",
    "\n",
    "        # Get top N categories\n",
    "        topv, topi = output.topk(n_predictions, 1, True)\n",
    "        predictions = []\n",
    "\n",
    "        for i in range(n_predictions):\n",
    "            value = topv[0][i].item()\n",
    "            category_index = topi[0][i].item()\n",
    "            print('(%.2f) %s' % (value, all_categories[category_index]))\n",
    "            predictions.append([value, all_categories[category_index]])\n",
    "\n",
    "predict('Dovesky')\n",
    "predict('Jackson')\n",
    "predict('Satoshi')"
   ]
  },
  {
   "cell_type": "code",
   "execution_count": null,
   "metadata": {},
   "outputs": [],
   "source": []
  }
 ],
 "metadata": {
  "kernelspec": {
   "display_name": "Python 3",
   "language": "python",
   "name": "python3"
  },
  "language_info": {
   "codemirror_mode": {
    "name": "ipython",
    "version": 3
   },
   "file_extension": ".py",
   "mimetype": "text/x-python",
   "name": "python",
   "nbconvert_exporter": "python",
   "pygments_lexer": "ipython3",
   "version": "3.6.5"
  }
 },
 "nbformat": 4,
 "nbformat_minor": 2
}
