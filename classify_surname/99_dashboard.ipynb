{
 "cells": [
  {
   "cell_type": "markdown",
   "metadata": {},
   "source": [
    "# Load Train Test Dataset"
   ]
  },
  {
   "cell_type": "code",
   "execution_count": 1,
   "metadata": {},
   "outputs": [],
   "source": [
    "import pandas as pd\n",
    "import modeling.surname_data as sd\n",
    "import modeling.surname_classifier as cl\n",
    "\n",
    "\n",
    "df_train, df_test = sd.load_df_surnames()\n",
    "df_categories = sd.load_df_categories()"
   ]
  },
  {
   "cell_type": "markdown",
   "metadata": {},
   "source": [
    "# Load RNN Model"
   ]
  },
  {
   "cell_type": "code",
   "execution_count": 2,
   "metadata": {},
   "outputs": [],
   "source": [
    "rnn = cl.load_model()"
   ]
  },
  {
   "cell_type": "code",
   "execution_count": 3,
   "metadata": {},
   "outputs": [
    {
     "name": "stdout",
     "output_type": "stream",
     "text": [
      "topv=\n",
      "tensor([[-1.2361, -1.6366, -1.8439]])\n",
      "topi=\n",
      "tensor([[ 0,  4, 14]])\n"
     ]
    },
    {
     "data": {
      "text/plain": [
       "[[-1.236072301864624, 0], [-1.6365981101989746, 4], [-1.8438832759857178, 14]]"
      ]
     },
     "execution_count": 3,
     "metadata": {},
     "output_type": "execute_result"
    }
   ],
   "source": [
    "import modeling.surname_classifier as cl\n",
    "\n",
    "cl.predict(rnn, 'james')"
   ]
  },
  {
   "cell_type": "markdown",
   "metadata": {},
   "source": [
    "# Dashbaord program"
   ]
  },
  {
   "cell_type": "code",
   "execution_count": 4,
   "metadata": {},
   "outputs": [
    {
     "data": {
      "text/html": [
       "<style>\n",
       "table.dataframe {\n",
       "    width: 100%\n",
       "}\n",
       "iframe.wiki {\n",
       "    width: 100%;\n",
       "    height: 400px;\n",
       "}\n",
       "</style>"
      ],
      "text/plain": [
       "<IPython.core.display.HTML object>"
      ]
     },
     "metadata": {},
     "output_type": "display_data"
    }
   ],
   "source": [
    "%%html\n",
    "<style>\n",
    "table.dataframe {\n",
    "    width: 100%\n",
    "}\n",
    "iframe.wiki {\n",
    "    width: 100%;\n",
    "    height: 400px;\n",
    "}\n",
    "</style>"
   ]
  },
  {
   "cell_type": "code",
   "execution_count": 5,
   "metadata": {},
   "outputs": [],
   "source": [
    "from IPython.display import display, clear_output, HTML, Javascript\n",
    "import ipywidgets as widgets\n",
    "\n",
    "\n",
    "def get_sample_df_surnames(category, dataset, n):\n",
    "    if dataset is 'test':\n",
    "        df = df_test\n",
    "    else:\n",
    "        df = df_train\n",
    "    return df[df['category'].str.match(category)].sample(n)\n",
    "\n",
    "def on_pick_category(category, dataset, n):\n",
    "    df = get_sample_df_surnames(category, dataset, n)\n",
    "    html = HTML(df.to_html(escape=False))\n",
    "    return display(html)\n",
    "\n",
    "def on_describe_dataset(dataset):\n",
    "    if dataset is 'test':\n",
    "        df = df_test.describe()\n",
    "    elif dataset is 'train':\n",
    "        df = df_train.describe()\n",
    "    else:\n",
    "        df = df_categories\n",
    "    html = HTML(df.to_html(escape=False))\n",
    "    return display(html)"
   ]
  },
  {
   "cell_type": "markdown",
   "metadata": {},
   "source": [
    "## browse dataset"
   ]
  },
  {
   "cell_type": "code",
   "execution_count": 6,
   "metadata": {},
   "outputs": [
    {
     "data": {
      "application/vnd.jupyter.widget-view+json": {
       "model_id": "38a2d0ead6764ea481da2dc2f9ee875a",
       "version_major": 2,
       "version_minor": 0
      },
      "text/plain": [
       "interactive(children=(Dropdown(description='category', options=('Arabic', 'Chinese', 'Czech', 'Dutch', 'Englis…"
      ]
     },
     "metadata": {},
     "output_type": "display_data"
    }
   ],
   "source": [
    "picker_w = widgets.interact(on_pick_category, category=list(df_categories['category']), dataset=['train','test'], n=5)"
   ]
  },
  {
   "cell_type": "code",
   "execution_count": 7,
   "metadata": {},
   "outputs": [
    {
     "data": {
      "application/vnd.jupyter.widget-view+json": {
       "model_id": "ce72cd4dad9e4ce6b0bb032a38f83b9e",
       "version_major": 2,
       "version_minor": 0
      },
      "text/plain": [
       "interactive(children=(Dropdown(description='dataset', options=('train', 'test', 'categies'), value='train'), O…"
      ]
     },
     "metadata": {},
     "output_type": "display_data"
    }
   ],
   "source": [
    "picker_w2 = widgets.interact(on_describe_dataset, dataset=['train','test', 'categies'])"
   ]
  },
  {
   "cell_type": "markdown",
   "metadata": {},
   "source": [
    "# Predict Classification"
   ]
  },
  {
   "cell_type": "markdown",
   "metadata": {},
   "source": [
    "## 1. search surname from train or test dataset"
   ]
  },
  {
   "cell_type": "code",
   "execution_count": 8,
   "metadata": {},
   "outputs": [
    {
     "data": {
      "application/vnd.jupyter.widget-view+json": {
       "model_id": "6e4886bc90f74992aacdfc70283e55b8",
       "version_major": 2,
       "version_minor": 0
      },
      "text/plain": [
       "interactive(children=(Text(value='james', description='surname'), Dropdown(description='dataset', options=('tr…"
      ]
     },
     "metadata": {},
     "output_type": "display_data"
    }
   ],
   "source": [
    "def on_search_surname(surname, dataset):\n",
    "    if dataset is 'test':\n",
    "        df_search_result = df_test[df_test['surname'].str.contains(surname, case=False)]\n",
    "    else:\n",
    "        df_search_result = df_train[df_train['surname'].str.contains(surname, case=False)]\n",
    "    html = HTML(df_search_result.to_html(escape=False))\n",
    "    return display(html)\n",
    "    \n",
    "    \n",
    "search_w = widgets.interact(on_search_surname, surname='james', dataset=['train','test'])"
   ]
  },
  {
   "cell_type": "markdown",
   "metadata": {},
   "source": [
    "## 2. Predict"
   ]
  },
  {
   "cell_type": "code",
   "execution_count": 9,
   "metadata": {},
   "outputs": [
    {
     "data": {
      "application/vnd.jupyter.widget-view+json": {
       "model_id": "dbe4a5c653154372aa5a9333aeb86859",
       "version_major": 2,
       "version_minor": 0
      },
      "text/plain": [
       "Textarea(value='')"
      ]
     },
     "metadata": {},
     "output_type": "display_data"
    }
   ],
   "source": [
    "output_text = widgets.Textarea()\n",
    "output_text"
   ]
  },
  {
   "cell_type": "code",
   "execution_count": 10,
   "metadata": {},
   "outputs": [
    {
     "data": {
      "application/vnd.jupyter.widget-view+json": {
       "model_id": "77a79faa72284fe69a588b659b0de59c",
       "version_major": 2,
       "version_minor": 0
      },
      "text/plain": [
       "Text(value='')"
      ]
     },
     "metadata": {},
     "output_type": "display_data"
    }
   ],
   "source": [
    "import pprint\n",
    "import json\n",
    "\n",
    "input_text = widgets.Text()\n",
    "\n",
    "def on_classify_surname(sender):\n",
    "    result = ''\n",
    "    output = cl.predict(rnn, input_text.value)\n",
    "    for (prob, cat) in output:\n",
    "        key = df_categories.loc[cat,'category']\n",
    "        value = prob\n",
    "        result = '\\n'.join([result, ','.join([str(key), str(value)])])\n",
    "    output_text.value = '\\n'.join([input_text.value, '', '>> Infered class is ', result])\n",
    "\n",
    "    \n",
    "input_text.on_submit(on_classify_surname)\n",
    "input_text"
   ]
  }
 ],
 "metadata": {
  "kernelspec": {
   "display_name": "Python 3",
   "language": "python",
   "name": "python3"
  },
  "language_info": {
   "codemirror_mode": {
    "name": "ipython",
    "version": 3
   },
   "file_extension": ".py",
   "mimetype": "text/x-python",
   "name": "python",
   "nbconvert_exporter": "python",
   "pygments_lexer": "ipython3",
   "version": "3.6.0"
  }
 },
 "nbformat": 4,
 "nbformat_minor": 2
}
