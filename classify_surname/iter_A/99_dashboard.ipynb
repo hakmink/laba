{
 "cells": [
  {
   "cell_type": "markdown",
   "metadata": {},
   "source": [
    "# Load Train Test Dataset"
   ]
  },
  {
   "cell_type": "code",
   "execution_count": 1,
   "metadata": {},
   "outputs": [],
   "source": [
    "import pandas as pd\n",
    "import modeling.surname_data as sd\n",
    "import modeling.surname_classifier as cl\n",
    "\n",
    "\n",
    "df_train, df_test = sd.load_df_surnames()\n",
    "df_categories = sd.load_df_categories()"
   ]
  },
  {
   "cell_type": "markdown",
   "metadata": {},
   "source": [
    "# Load RNN Model"
   ]
  },
  {
   "cell_type": "code",
   "execution_count": 2,
   "metadata": {},
   "outputs": [],
   "source": [
    "rnn = cl.load_model()"
   ]
  },
  {
   "cell_type": "code",
   "execution_count": 3,
   "metadata": {},
   "outputs": [
    {
     "data": {
      "text/plain": [
       "[[-1.5324797630310059, 4], [-1.6965794563293457, 3], [-1.9889233112335205, 2]]"
      ]
     },
     "execution_count": 3,
     "metadata": {},
     "output_type": "execute_result"
    }
   ],
   "source": [
    "import modeling.surname_classifier as cl\n",
    "\n",
    "cl.predict(rnn, 'james')"
   ]
  },
  {
   "cell_type": "markdown",
   "metadata": {},
   "source": [
    "# Dashbaord program"
   ]
  },
  {
   "cell_type": "code",
   "execution_count": 4,
   "metadata": {},
   "outputs": [
    {
     "data": {
      "text/html": [
       "<style>\n",
       "table.dataframe {\n",
       "    width: 100%\n",
       "}\n",
       "iframe.wiki {\n",
       "    width: 100%;\n",
       "    height: 400px;\n",
       "}\n",
       "</style>"
      ],
      "text/plain": [
       "<IPython.core.display.HTML object>"
      ]
     },
     "metadata": {},
     "output_type": "display_data"
    }
   ],
   "source": [
    "%%html\n",
    "<style>\n",
    "table.dataframe {\n",
    "    width: 100%\n",
    "}\n",
    "iframe.wiki {\n",
    "    width: 100%;\n",
    "    height: 400px;\n",
    "}\n",
    "</style>"
   ]
  },
  {
   "cell_type": "code",
   "execution_count": 5,
   "metadata": {},
   "outputs": [],
   "source": [
    "from IPython.display import display, clear_output, HTML, Javascript\n",
    "import ipywidgets as widgets\n",
    "\n",
    "\n",
    "def get_sample_df_surnames(category, dataset, n):\n",
    "    if dataset is 'test':\n",
    "        df = df_test\n",
    "    else:\n",
    "        df = df_train\n",
    "    return df[df['category'].str.match(category)].sample(n)\n",
    "\n",
    "def on_pick_category(category, dataset, n):\n",
    "    df = get_sample_df_surnames(category, dataset, n)\n",
    "    html = HTML(df.to_html(escape=False))\n",
    "    return display(html)\n",
    "\n",
    "def on_describe_dataset(dataset):\n",
    "    if dataset is 'test':\n",
    "        df = df_test.describe()\n",
    "    elif dataset is 'train':\n",
    "        df = df_train.describe()\n",
    "    else:\n",
    "        df = df_categories\n",
    "    html = HTML(df.to_html(escape=False))\n",
    "    return display(html)"
   ]
  },
  {
   "cell_type": "markdown",
   "metadata": {},
   "source": [
    "## browse dataset"
   ]
  },
  {
   "cell_type": "code",
   "execution_count": 6,
   "metadata": {},
   "outputs": [
    {
     "data": {
      "application/vnd.jupyter.widget-view+json": {
       "model_id": "e3ab493b356d413bb5f0f4732bc4632a",
       "version_major": 2,
       "version_minor": 0
      },
      "text/plain": [
       "interactive(children=(Dropdown(description='category', options=('Arabic', 'Chinese', 'Czech', 'Dutch', 'Englis…"
      ]
     },
     "metadata": {},
     "output_type": "display_data"
    }
   ],
   "source": [
    "picker_w = widgets.interact(on_pick_category, category=list(df_categories['category']), dataset=['train','test'], n=5)"
   ]
  },
  {
   "cell_type": "code",
   "execution_count": 7,
   "metadata": {},
   "outputs": [
    {
     "data": {
      "application/vnd.jupyter.widget-view+json": {
       "model_id": "9c0a2a778954487d9bc43f82788725ec",
       "version_major": 2,
       "version_minor": 0
      },
      "text/plain": [
       "interactive(children=(Dropdown(description='dataset', options=('train', 'test', 'categies'), value='train'), O…"
      ]
     },
     "metadata": {},
     "output_type": "display_data"
    }
   ],
   "source": [
    "picker_w2 = widgets.interact(on_describe_dataset, dataset=['train','test', 'categies'])"
   ]
  },
  {
   "cell_type": "markdown",
   "metadata": {},
   "source": [
    "# Predict Classification"
   ]
  },
  {
   "cell_type": "markdown",
   "metadata": {},
   "source": [
    "## 1. search surname from train or test dataset"
   ]
  },
  {
   "cell_type": "code",
   "execution_count": 8,
   "metadata": {},
   "outputs": [
    {
     "data": {
      "application/vnd.jupyter.widget-view+json": {
       "model_id": "03a731d01cf740edbc46db1c14c32ab1",
       "version_major": 2,
       "version_minor": 0
      },
      "text/plain": [
       "interactive(children=(Text(value='James', description='surname'), Dropdown(description='dataset', options=('tr…"
      ]
     },
     "metadata": {},
     "output_type": "display_data"
    }
   ],
   "source": [
    "def on_search_surname(surname, dataset):\n",
    "    if dataset is 'test':\n",
    "        df_search_result = df_test[df_test['surname'].str.contains(surname, case=False)]\n",
    "    else:\n",
    "        df_search_result = df_train[df_train['surname'].str.contains(surname, case=False)]\n",
    "    html = HTML(df_search_result.to_html(escape=False))\n",
    "    return display(html)\n",
    "    \n",
    "    \n",
    "search_w = widgets.interact(on_search_surname, surname='James', dataset=['train','test'])"
   ]
  },
  {
   "cell_type": "markdown",
   "metadata": {},
   "source": [
    "## 2. Predict"
   ]
  },
  {
   "cell_type": "code",
   "execution_count": 16,
   "metadata": {},
   "outputs": [],
   "source": []
  },
  {
   "cell_type": "code",
   "execution_count": 18,
   "metadata": {},
   "outputs": [
    {
     "data": {
      "application/vnd.jupyter.widget-view+json": {
       "model_id": "fbf07c9c5093469cae76b5c76be736dd",
       "version_major": 2,
       "version_minor": 0
      },
      "text/plain": [
       "Text(value='')"
      ]
     },
     "metadata": {},
     "output_type": "display_data"
    },
    {
     "data": {
      "application/vnd.jupyter.widget-view+json": {
       "model_id": "f35aa2a0c362466c959d45cdcc8f0e3c",
       "version_major": 2,
       "version_minor": 0
      },
      "text/plain": [
       "Textarea(value='')"
      ]
     },
     "metadata": {},
     "output_type": "display_data"
    }
   ],
   "source": [
    "import pprint\n",
    "import json\n",
    "\n",
    "\n",
    "def on_classify_surname(sender):\n",
    "    result = ''\n",
    "    output = cl.predict(rnn, input_text.value)\n",
    "    for (prob, cat) in output:\n",
    "        key = df_categories.loc[cat,'category']\n",
    "        value = prob\n",
    "        result = '\\n'.join([result, ','.join([str(key), str(value)])])\n",
    "    output_text.value = '\\n'.join([input_text.value, '', '>> Infered class is ', result])\n",
    "\n",
    "    \n",
    "input_text = widgets.Text()\n",
    "output_text = widgets.Textarea()\n",
    "input_text.on_submit(on_classify_surname)\n",
    "\n",
    "display(input_text)\n",
    "display(output_text)"
   ]
  },
  {
   "cell_type": "code",
   "execution_count": null,
   "metadata": {},
   "outputs": [],
   "source": []
  }
 ],
 "metadata": {
  "kernelspec": {
   "display_name": "Python 3",
   "language": "python",
   "name": "python3"
  },
  "language_info": {
   "codemirror_mode": {
    "name": "ipython",
    "version": 3
   },
   "file_extension": ".py",
   "mimetype": "text/x-python",
   "name": "python",
   "nbconvert_exporter": "python",
   "pygments_lexer": "ipython3",
   "version": "3.6.0"
  }
 },
 "nbformat": 4,
 "nbformat_minor": 2
}
