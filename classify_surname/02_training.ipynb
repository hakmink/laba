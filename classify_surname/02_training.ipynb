{
 "cells": [
  {
   "cell_type": "code",
   "execution_count": 16,
   "metadata": {},
   "outputs": [],
   "source": [
    "import modeling.surname_classifier as cl\n",
    "import modeling.surname_data as sd\n",
    "import modeling.surname_common as sc\n",
    "import torch.nn as nn\n",
    "import torch\n",
    "\n"
   ]
  },
  {
   "cell_type": "code",
   "execution_count": 38,
   "metadata": {},
   "outputs": [],
   "source": [
    "df_categories = sd.load_df_categories()\n",
    "df_training, df_test = sd.load_df_surnames()"
   ]
  },
  {
   "cell_type": "code",
   "execution_count": 7,
   "metadata": {},
   "outputs": [],
   "source": [
    "n_hidden = 128\n",
    "n_categories = len(df_categories)\n",
    "rnn = cl.RNN(sc.N_LETTERS, n_hidden, n_categories)"
   ]
  },
  {
   "cell_type": "code",
   "execution_count": 10,
   "metadata": {},
   "outputs": [],
   "source": [
    "hidden =torch.zeros(1, n_hidden)"
   ]
  },
  {
   "cell_type": "code",
   "execution_count": 13,
   "metadata": {},
   "outputs": [],
   "source": [
    "input = sc.letter_to_tensor('A')\n",
    "output, next_hidden = rnn(input, hidden)"
   ]
  },
  {
   "cell_type": "code",
   "execution_count": 14,
   "metadata": {},
   "outputs": [],
   "source": [
    "input = sc.surname_to_tensor('Albert')\n",
    "hidden = torch.zeros(1, n_hidden)\n",
    "\n",
    "output, next_hidden = rnn(input[0], hidden)"
   ]
  },
  {
   "cell_type": "code",
   "execution_count": 17,
   "metadata": {},
   "outputs": [],
   "source": [
    "criterion = nn.NLLLoss()"
   ]
  },
  {
   "cell_type": "code",
   "execution_count": 18,
   "metadata": {},
   "outputs": [],
   "source": [
    "cl.LEARNING_RATE = 0.005 "
   ]
  },
  {
   "cell_type": "code",
   "execution_count": 19,
   "metadata": {},
   "outputs": [],
   "source": [
    "def train(category_tensor, surname_tensor):\n",
    "    hidden = rnn.initHidden()\n",
    "\n",
    "    rnn.zero_grad()\n",
    "\n",
    "    for i in range(surname_tensor.size()[0]):\n",
    "        output, hidden = rnn(surname_tensor[i], hidden)\n",
    "\n",
    "    loss = criterion(output, category_tensor)\n",
    "    loss.backward()\n",
    "\n",
    "    # Add parameters' gradients to their values, multiplied by learning rate\n",
    "    for p in rnn.parameters():\n",
    "        p.data.add_(-cl.LEARNING_RATE, p.grad.data)\n",
    "\n",
    "    return output, loss.item()"
   ]
  },
  {
   "cell_type": "code",
   "execution_count": 78,
   "metadata": {},
   "outputs": [
    {
     "name": "stdout",
     "output_type": "stream",
     "text": [
      "tensor([16])\n"
     ]
    }
   ],
   "source": [
    "example = df_training.iloc[1]\n",
    "surname_tensor = sc.surname_to_tensor(example['normalized'])\n",
    "category_tensor = torch.tensor([int(df_categories[df_categories['category'] == example['category']]['index'])])\n",
    "print(category_tensor)"
   ]
  },
  {
   "cell_type": "code",
   "execution_count": 109,
   "metadata": {},
   "outputs": [
    {
     "name": "stdout",
     "output_type": "stream",
     "text": [
      "2.7569572925567627\n",
      "2.366332530975342\n",
      "2.9685089588165283\n",
      "2.3418092727661133\n",
      "0.727475643157959\n",
      "3.866908073425293\n",
      "0.39691638946533203\n",
      "0.3667154312133789\n",
      "2.594465732574463\n",
      "0.16710424423217773\n",
      "1.5123193264007568\n",
      "1.5906217098236084\n",
      "1.371978521347046\n",
      "0.6301910877227783\n",
      "1.0447921752929688\n",
      "0.5450763702392578\n",
      "3.6713852882385254\n",
      "1.9992893934249878\n",
      "2.085850477218628\n",
      "2.032996654510498\n",
      "0.2861795425415039\n",
      "1.3608720302581787\n",
      "0.043761253356933594\n",
      "0.6757445335388184\n",
      "1.2281408309936523\n",
      "1.4503154754638672\n",
      "0.4978067874908447\n",
      "3.538618803024292\n",
      "1.2626335620880127\n",
      "1.4289023876190186\n",
      "1.1449460983276367\n",
      "2.6895108222961426\n",
      "1.3286616802215576\n",
      "0.2486262321472168\n",
      "3.4068102836608887\n",
      "3.8934152126312256\n",
      "0.2222909927368164\n",
      "1.2577195167541504\n",
      "2.372375249862671\n",
      "0.10960054397583008\n",
      "1.8627066612243652\n",
      "0.08706426620483398\n",
      "0.6778597831726074\n",
      "2.687189817428589\n",
      "0.9294288158416748\n",
      "0.07575416564941406\n",
      "0.40099430084228516\n",
      "1.389535665512085\n",
      "1.5651230812072754\n",
      "1.289027214050293\n",
      "0.14660406112670898\n",
      "2.800637722015381\n",
      "1.2981452941894531\n",
      "0.6677143573760986\n",
      "4.419865131378174\n",
      "1.199202537536621\n",
      "0.12186956405639648\n",
      "0.6412417888641357\n",
      "3.031224012374878\n",
      "0.6353054046630859\n",
      "0.9677155017852783\n",
      "0.19273662567138672\n",
      "0.5892050266265869\n",
      "2.1507723331451416\n",
      "2.8407578468322754\n",
      "0.06891059875488281\n",
      "1.1040310859680176\n",
      "0.4819817543029785\n",
      "2.721251964569092\n",
      "0.49094533920288086\n",
      "0.2457280158996582\n",
      "1.2449901103973389\n",
      "0.07558584213256836\n",
      "0.3587605953216553\n",
      "2.537478446960449\n",
      "1.9205141067504883\n",
      "3.6704823970794678\n",
      "2.498335361480713\n",
      "0.13982295989990234\n",
      "0.2830014228820801\n",
      "0.3505997657775879\n",
      "0.1665339469909668\n",
      "3.380389451980591\n",
      "2.797391891479492\n",
      "0.2524452209472656\n",
      "4.531987190246582\n",
      "0.09739303588867188\n",
      "0.1630091667175293\n",
      "1.1622834205627441\n",
      "3.468815565109253\n",
      "5.575240135192871\n",
      "1.9598690271377563\n",
      "2.7629261016845703\n",
      "2.225616455078125\n",
      "2.7795233726501465\n",
      "0.6387314796447754\n",
      "0.5363588333129883\n",
      "2.3606791496276855\n",
      "0.03142738342285156\n",
      "0.09289836883544922\n",
      "1.4743280410766602\n",
      "0.09481382369995117\n",
      "0.21896886825561523\n",
      "2.182163715362549\n",
      "0.29349374771118164\n",
      "0.7858858108520508\n",
      "0.6210072040557861\n",
      "1.324840784072876\n",
      "0.1888723373413086\n",
      "1.9563075304031372\n",
      "4.574753284454346\n",
      "3.2270262241363525\n",
      "0.7179532051086426\n",
      "0.5370099544525146\n",
      "0.053466796875\n",
      "1.1815617084503174\n",
      "0.15912151336669922\n",
      "0.2954540252685547\n",
      "0.3536248207092285\n",
      "2.743764638900757\n",
      "0.5852341651916504\n",
      "0.3083796501159668\n",
      "1.8135981559753418\n",
      "1.3145935535430908\n",
      "3.6819701194763184\n",
      "0.5638916492462158\n",
      "0.015084266662597656\n",
      "0.13801288604736328\n",
      "0.7709097862243652\n",
      "2.0598034858703613\n",
      "0.009231090545654297\n",
      "0.07529926300048828\n",
      "2.264087677001953\n",
      "0.10380840301513672\n",
      "0.11620759963989258\n",
      "0.03378009796142578\n",
      "0.5186862945556641\n",
      "1.2674973011016846\n",
      "0.5249667167663574\n",
      "1.0873713493347168\n",
      "0.0873255729675293\n",
      "3.523064613342285\n",
      "0.518563985824585\n",
      "0.722430944442749\n",
      "1.0523569583892822\n",
      "0.02303934097290039\n",
      "0.048575401306152344\n",
      "0.7530932426452637\n",
      "3.936152935028076\n",
      "0.15593862533569336\n",
      "0.01820516586303711\n"
     ]
    }
   ],
   "source": [
    "current_loss = 0\n",
    "for iter in range(0,len(df_training)-1):\n",
    "    example = df_training.iloc[iter]\n",
    "    surname_tensor = sc.surname_to_tensor(example['normalized'])\n",
    "    category_tensor = torch.tensor([int(df_categories[df_categories['category'] == example['category']]['index'])])\n",
    "    output, loss = train(category_tensor, surname_tensor)\n",
    "    current_loss += loss\n",
    "    if iter % 100 == 0:\n",
    "        print(loss)"
   ]
  },
  {
   "cell_type": "code",
   "execution_count": 107,
   "metadata": {},
   "outputs": [
    {
     "data": {
      "text/plain": [
       "15055"
      ]
     },
     "execution_count": 107,
     "metadata": {},
     "output_type": "execute_result"
    }
   ],
   "source": [
    "len(df_training)"
   ]
  },
  {
   "cell_type": "code",
   "execution_count": 115,
   "metadata": {},
   "outputs": [
    {
     "data": {
      "text/plain": [
       "'[[-0.35572338104248047, 10], [-1.9404892921447754, 0], [-2.8636114597320557, 14]]'"
      ]
     },
     "execution_count": 115,
     "metadata": {},
     "output_type": "execute_result"
    }
   ],
   "source": [
    "cl.predict(rnn,'Nakata')"
   ]
  },
  {
   "cell_type": "code",
   "execution_count": 116,
   "metadata": {},
   "outputs": [],
   "source": [
    "torch.save(rnn,'data/model/rnn.pickle')"
   ]
  },
  {
   "cell_type": "code",
   "execution_count": null,
   "metadata": {},
   "outputs": [],
   "source": []
  }
 ],
 "metadata": {
  "kernelspec": {
   "display_name": "Python 3",
   "language": "python",
   "name": "python3"
  },
  "language_info": {
   "codemirror_mode": {
    "name": "ipython",
    "version": 3
   },
   "file_extension": ".py",
   "mimetype": "text/x-python",
   "name": "python",
   "nbconvert_exporter": "python",
   "pygments_lexer": "ipython3",
   "version": "3.6.5"
  }
 },
 "nbformat": 4,
 "nbformat_minor": 2
}
