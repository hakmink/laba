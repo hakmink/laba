{
 "cells": [
  {
   "cell_type": "markdown",
   "metadata": {},
   "source": [
    "# AutoML 맛보기 "
   ]
  },
  {
   "cell_type": "markdown",
   "metadata": {},
   "source": [
    "## TPOT으로 하는 모델링"
   ]
  },
  {
   "cell_type": "code",
   "execution_count": 1,
   "metadata": {
    "scrolled": true
   },
   "outputs": [
    {
     "name": "stderr",
     "output_type": "stream",
     "text": [
      "/usr/local/lib/python3.6/site-packages/sklearn/cross_validation.py:41: DeprecationWarning: This module was deprecated in version 0.18 in favor of the model_selection module into which all the refactored classes and functions are moved. Also note that the interface of the new CV iterators are different from that of this module. This module will be removed in 0.20.\n",
      "  \"This module will be removed in 0.20.\", DeprecationWarning)\n"
     ]
    }
   ],
   "source": [
    "# Import required libraries\n",
    "from tpot import TPOTClassifier\n",
    "from sklearn.cross_validation import train_test_split\n",
    "\n"
   ]
  },
  {
   "cell_type": "code",
   "execution_count": 2,
   "metadata": {
    "collapsed": true
   },
   "outputs": [],
   "source": [
    "from eval_score import *"
   ]
  },
  {
   "cell_type": "markdown",
   "metadata": {},
   "source": [
    " - 데이터셋 : 포르투갈 은행 연합의 TM 마케팅 정보를 나타낸 데이터셋 이다. \n",
    " - Y : 고객이 정기 예금을 신청할 것인가? "
   ]
  },
  {
   "cell_type": "code",
   "execution_count": 3,
   "metadata": {
    "collapsed": true
   },
   "outputs": [],
   "source": [
    "pd.set_option('display.max_columns', 200)\n",
    "pd.set_option('display.max_rows', 200)"
   ]
  },
  {
   "cell_type": "code",
   "execution_count": 4,
   "metadata": {},
   "outputs": [
    {
     "data": {
      "text/html": [
       "<div>\n",
       "<style scoped>\n",
       "    .dataframe tbody tr th:only-of-type {\n",
       "        vertical-align: middle;\n",
       "    }\n",
       "\n",
       "    .dataframe tbody tr th {\n",
       "        vertical-align: top;\n",
       "    }\n",
       "\n",
       "    .dataframe thead th {\n",
       "        text-align: right;\n",
       "    }\n",
       "</style>\n",
       "<table border=\"1\" class=\"dataframe\">\n",
       "  <thead>\n",
       "    <tr style=\"text-align: right;\">\n",
       "      <th></th>\n",
       "      <th>age</th>\n",
       "      <th>job</th>\n",
       "      <th>marital</th>\n",
       "      <th>education</th>\n",
       "      <th>default</th>\n",
       "      <th>housing</th>\n",
       "      <th>loan</th>\n",
       "      <th>contact</th>\n",
       "      <th>month</th>\n",
       "      <th>day_of_week</th>\n",
       "      <th>duration</th>\n",
       "      <th>campaign</th>\n",
       "      <th>pdays</th>\n",
       "      <th>previous</th>\n",
       "      <th>poutcome</th>\n",
       "      <th>emp.var.rate</th>\n",
       "      <th>cons.price.idx</th>\n",
       "      <th>cons.conf.idx</th>\n",
       "      <th>euribor3m</th>\n",
       "      <th>nr.employed</th>\n",
       "      <th>y</th>\n",
       "    </tr>\n",
       "  </thead>\n",
       "  <tbody>\n",
       "    <tr>\n",
       "      <th>0</th>\n",
       "      <td>56</td>\n",
       "      <td>housemaid</td>\n",
       "      <td>married</td>\n",
       "      <td>basic.4y</td>\n",
       "      <td>no</td>\n",
       "      <td>no</td>\n",
       "      <td>no</td>\n",
       "      <td>telephone</td>\n",
       "      <td>may</td>\n",
       "      <td>mon</td>\n",
       "      <td>261</td>\n",
       "      <td>1</td>\n",
       "      <td>999</td>\n",
       "      <td>0</td>\n",
       "      <td>nonexistent</td>\n",
       "      <td>1.1</td>\n",
       "      <td>93.994</td>\n",
       "      <td>-36.4</td>\n",
       "      <td>4.857</td>\n",
       "      <td>5191.0</td>\n",
       "      <td>no</td>\n",
       "    </tr>\n",
       "    <tr>\n",
       "      <th>1</th>\n",
       "      <td>57</td>\n",
       "      <td>services</td>\n",
       "      <td>married</td>\n",
       "      <td>high.school</td>\n",
       "      <td>unknown</td>\n",
       "      <td>no</td>\n",
       "      <td>no</td>\n",
       "      <td>telephone</td>\n",
       "      <td>may</td>\n",
       "      <td>mon</td>\n",
       "      <td>149</td>\n",
       "      <td>1</td>\n",
       "      <td>999</td>\n",
       "      <td>0</td>\n",
       "      <td>nonexistent</td>\n",
       "      <td>1.1</td>\n",
       "      <td>93.994</td>\n",
       "      <td>-36.4</td>\n",
       "      <td>4.857</td>\n",
       "      <td>5191.0</td>\n",
       "      <td>no</td>\n",
       "    </tr>\n",
       "    <tr>\n",
       "      <th>2</th>\n",
       "      <td>37</td>\n",
       "      <td>services</td>\n",
       "      <td>married</td>\n",
       "      <td>high.school</td>\n",
       "      <td>no</td>\n",
       "      <td>yes</td>\n",
       "      <td>no</td>\n",
       "      <td>telephone</td>\n",
       "      <td>may</td>\n",
       "      <td>mon</td>\n",
       "      <td>226</td>\n",
       "      <td>1</td>\n",
       "      <td>999</td>\n",
       "      <td>0</td>\n",
       "      <td>nonexistent</td>\n",
       "      <td>1.1</td>\n",
       "      <td>93.994</td>\n",
       "      <td>-36.4</td>\n",
       "      <td>4.857</td>\n",
       "      <td>5191.0</td>\n",
       "      <td>no</td>\n",
       "    </tr>\n",
       "    <tr>\n",
       "      <th>3</th>\n",
       "      <td>40</td>\n",
       "      <td>admin.</td>\n",
       "      <td>married</td>\n",
       "      <td>basic.6y</td>\n",
       "      <td>no</td>\n",
       "      <td>no</td>\n",
       "      <td>no</td>\n",
       "      <td>telephone</td>\n",
       "      <td>may</td>\n",
       "      <td>mon</td>\n",
       "      <td>151</td>\n",
       "      <td>1</td>\n",
       "      <td>999</td>\n",
       "      <td>0</td>\n",
       "      <td>nonexistent</td>\n",
       "      <td>1.1</td>\n",
       "      <td>93.994</td>\n",
       "      <td>-36.4</td>\n",
       "      <td>4.857</td>\n",
       "      <td>5191.0</td>\n",
       "      <td>no</td>\n",
       "    </tr>\n",
       "    <tr>\n",
       "      <th>4</th>\n",
       "      <td>56</td>\n",
       "      <td>services</td>\n",
       "      <td>married</td>\n",
       "      <td>high.school</td>\n",
       "      <td>no</td>\n",
       "      <td>no</td>\n",
       "      <td>yes</td>\n",
       "      <td>telephone</td>\n",
       "      <td>may</td>\n",
       "      <td>mon</td>\n",
       "      <td>307</td>\n",
       "      <td>1</td>\n",
       "      <td>999</td>\n",
       "      <td>0</td>\n",
       "      <td>nonexistent</td>\n",
       "      <td>1.1</td>\n",
       "      <td>93.994</td>\n",
       "      <td>-36.4</td>\n",
       "      <td>4.857</td>\n",
       "      <td>5191.0</td>\n",
       "      <td>no</td>\n",
       "    </tr>\n",
       "  </tbody>\n",
       "</table>\n",
       "</div>"
      ],
      "text/plain": [
       "   age        job  marital    education  default housing loan    contact  \\\n",
       "0   56  housemaid  married     basic.4y       no      no   no  telephone   \n",
       "1   57   services  married  high.school  unknown      no   no  telephone   \n",
       "2   37   services  married  high.school       no     yes   no  telephone   \n",
       "3   40     admin.  married     basic.6y       no      no   no  telephone   \n",
       "4   56   services  married  high.school       no      no  yes  telephone   \n",
       "\n",
       "  month day_of_week  duration  campaign  pdays  previous     poutcome  \\\n",
       "0   may         mon       261         1    999         0  nonexistent   \n",
       "1   may         mon       149         1    999         0  nonexistent   \n",
       "2   may         mon       226         1    999         0  nonexistent   \n",
       "3   may         mon       151         1    999         0  nonexistent   \n",
       "4   may         mon       307         1    999         0  nonexistent   \n",
       "\n",
       "   emp.var.rate  cons.price.idx  cons.conf.idx  euribor3m  nr.employed   y  \n",
       "0           1.1          93.994          -36.4      4.857       5191.0  no  \n",
       "1           1.1          93.994          -36.4      4.857       5191.0  no  \n",
       "2           1.1          93.994          -36.4      4.857       5191.0  no  \n",
       "3           1.1          93.994          -36.4      4.857       5191.0  no  \n",
       "4           1.1          93.994          -36.4      4.857       5191.0  no  "
      ]
     },
     "execution_count": 4,
     "metadata": {},
     "output_type": "execute_result"
    }
   ],
   "source": [
    "#Load the data\n",
    "Marketing=pd.read_csv('datasets/Data_FinalProject.csv')\n",
    "Marketing.head(5)"
   ]
  },
  {
   "cell_type": "code",
   "execution_count": 5,
   "metadata": {},
   "outputs": [
    {
     "ename": "SyntaxError",
     "evalue": "invalid syntax (<ipython-input-5-aaf79ee03b2b>, line 1)",
     "output_type": "error",
     "traceback": [
      "\u001b[0;36m  File \u001b[0;32m\"<ipython-input-5-aaf79ee03b2b>\"\u001b[0;36m, line \u001b[0;32m1\u001b[0m\n\u001b[0;31m    Input variables:\u001b[0m\n\u001b[0m                  ^\u001b[0m\n\u001b[0;31mSyntaxError\u001b[0m\u001b[0;31m:\u001b[0m invalid syntax\n"
     ]
    }
   ],
   "source": [
    "Input variables:\n",
    "# bank client data:\n",
    "1 - age (numeric)\n",
    "2 - job : type of job (categorical: 'admin.','blue-collar','entrepreneur','housemaid','management','retired','self-employed','services','student','technician','unemployed','unknown')\n",
    "3 - marital : marital status (categorical: 'divorced','married','single','unknown'; note: 'divorced' means divorced or widowed)\n",
    "4 - education (categorical: 'basic.4y','basic.6y','basic.9y','high.school','illiterate','professional.course','university.degree','unknown')\n",
    "5 - default: has credit in default? (categorical: 'no','yes','unknown')\n",
    "6 - housing: has housing loan? (categorical: 'no','yes','unknown')\n",
    "7 - loan: has personal loan? (categorical: 'no','yes','unknown')\n",
    "# related with the last contact of the current campaign:\n",
    "8 - contact: contact communication type (categorical: 'cellular','telephone') \n",
    "9 - month: last contact month of year (categorical: 'jan', 'feb', 'mar', ..., 'nov', 'dec')\n",
    "10 - day_of_week: last contact day of the week (categorical: 'mon','tue','wed','thu','fri')\n",
    "11 - duration: last contact duration, in seconds (numeric). Important note: this attribute highly affects the output target (e.g., if duration=0 then y='no'). \n",
    "    Yet, the duration is not known before a call is performed. Also, after the end of the call y is obviously known. Thus, this input should only be included for benchmark purposes and should be discarded if the intention is to have a realistic predictive model.\n",
    "# other attributes:\n",
    "12 - campaign: number of contacts performed during this campaign and for this client (numeric, includes last contact)\n",
    "13 - pdays: number of days that passed by after the client was last contacted from a previous campaign (numeric; 999 means client was not previously contacted)\n",
    "14 - previous: number of contacts performed before this campaign and for this client (numeric)\n",
    "15 - poutcome: outcome of the previous marketing campaign (categorical: 'failure','nonexistent','success')\n",
    "# social and economic context attributes\n",
    "16 - emp.var.rate: employment variation rate - quarterly indicator (numeric)\n",
    "17 - cons.price.idx: consumer price index - monthly indicator (numeric) \n",
    "18 - cons.conf.idx: consumer confidence index - monthly indicator (numeric) \n",
    "19 - euribor3m: euribor 3 month rate - daily indicator (numeric)\n",
    "20 - nr.employed: number of employees - quarterly indicator (numeric)\n",
    "\n",
    "Output variable (desired target):\n",
    "21 - y - has the client subscribed a term deposit? (binary: 'yes','no')\n",
    "\n"
   ]
  },
  {
   "cell_type": "markdown",
   "metadata": {},
   "source": [
    "## DATA EXPLORATION"
   ]
  },
  {
   "cell_type": "code",
   "execution_count": 6,
   "metadata": {},
   "outputs": [
    {
     "data": {
      "text/plain": [
       "array(['age', 'job', 'marital', 'education', 'default', 'housing', 'loan',\n",
       "       'contact', 'month', 'day_of_week', 'duration', 'campaign', 'pdays',\n",
       "       'previous', 'poutcome', 'emp.var.rate', 'cons.price.idx',\n",
       "       'cons.conf.idx', 'euribor3m', 'nr.employed', 'y'], dtype=object)"
      ]
     },
     "execution_count": 6,
     "metadata": {},
     "output_type": "execute_result"
    }
   ],
   "source": [
    "Marketing.columns.values"
   ]
  },
  {
   "cell_type": "code",
   "execution_count": 7,
   "metadata": {},
   "outputs": [
    {
     "data": {
      "text/plain": [
       "loan     y  \n",
       "no       no     30100\n",
       "         yes     3850\n",
       "unknown  no       883\n",
       "         yes      107\n",
       "yes      no      5565\n",
       "         yes      683\n",
       "Name: y, dtype: int64"
      ]
     },
     "execution_count": 7,
     "metadata": {},
     "output_type": "execute_result"
    }
   ],
   "source": [
    "Marketing.groupby('loan').y.value_counts()"
   ]
  },
  {
   "cell_type": "code",
   "execution_count": 8,
   "metadata": {},
   "outputs": [
    {
     "data": {
      "text/plain": [
       "loan     marital   y  \n",
       "no       divorced  no      3420\n",
       "                   yes      396\n",
       "         married   no     18469\n",
       "                   yes     2098\n",
       "         single    no      8155\n",
       "                   yes     1345\n",
       "         unknown   no        56\n",
       "                   yes       11\n",
       "unknown  divorced  no       113\n",
       "                   yes        8\n",
       "         married   no       528\n",
       "                   yes       60\n",
       "         single    no       241\n",
       "                   yes       39\n",
       "         unknown   no         1\n",
       "yes      divorced  no       603\n",
       "                   yes       72\n",
       "         married   no      3399\n",
       "                   yes      374\n",
       "         single    no      1552\n",
       "                   yes      236\n",
       "         unknown   no        11\n",
       "                   yes        1\n",
       "Name: y, dtype: int64"
      ]
     },
     "execution_count": 8,
     "metadata": {},
     "output_type": "execute_result"
    }
   ],
   "source": [
    "Marketing.groupby(['loan','marital']).y.value_counts()"
   ]
  },
  {
   "cell_type": "markdown",
   "metadata": {},
   "source": [
    "## DATA WRANGLING"
   ]
  },
  {
   "cell_type": "code",
   "execution_count": 9,
   "metadata": {
    "collapsed": true
   },
   "outputs": [],
   "source": [
    "Marketing.rename(columns={'y': 'class'}, inplace=True)"
   ]
  },
  {
   "cell_type": "code",
   "execution_count": 10,
   "metadata": {},
   "outputs": [
    {
     "data": {
      "text/plain": [
       "array(['no', 'yes'], dtype=object)"
      ]
     },
     "execution_count": 10,
     "metadata": {},
     "output_type": "execute_result"
    }
   ],
   "source": [
    "Marketing['class'].unique()"
   ]
  },
  {
   "cell_type": "code",
   "execution_count": 11,
   "metadata": {},
   "outputs": [
    {
     "data": {
      "text/plain": [
       "age                 int64\n",
       "job                object\n",
       "marital            object\n",
       "education          object\n",
       "default            object\n",
       "housing            object\n",
       "loan               object\n",
       "contact            object\n",
       "month              object\n",
       "day_of_week        object\n",
       "duration            int64\n",
       "campaign            int64\n",
       "pdays               int64\n",
       "previous            int64\n",
       "poutcome           object\n",
       "emp.var.rate      float64\n",
       "cons.price.idx    float64\n",
       "cons.conf.idx     float64\n",
       "euribor3m         float64\n",
       "nr.employed       float64\n",
       "class              object\n",
       "dtype: object"
      ]
     },
     "execution_count": 11,
     "metadata": {},
     "output_type": "execute_result"
    }
   ],
   "source": [
    "Marketing.dtypes"
   ]
  },
  {
   "cell_type": "code",
   "execution_count": 12,
   "metadata": {},
   "outputs": [
    {
     "name": "stdout",
     "output_type": "stream",
     "text": [
      "Number of levels in category 'job': 12.00 \n",
      "Number of levels in category 'marital': 4.00 \n",
      "Number of levels in category 'education': 8.00 \n",
      "Number of levels in category 'default': 3.00 \n",
      "Number of levels in category 'housing': 3.00 \n",
      "Number of levels in category 'loan': 3.00 \n",
      "Number of levels in category 'contact': 2.00 \n",
      "Number of levels in category 'month': 10.00 \n",
      "Number of levels in category 'day_of_week': 5.00 \n",
      "Number of levels in category 'poutcome': 3.00 \n",
      "Number of levels in category 'class': 2.00 \n"
     ]
    }
   ],
   "source": [
    "# check the number of levels of the categorical variables\n",
    "for  cat  in  ['job',  'marital', 'education', 'default', 'housing', 'loan', 'contact', 'month', 'day_of_week', 'poutcome' ,'class']:\n",
    "    print(\"Number of levels in category '{0}': \\b {1:2.2f} \".format(cat, Marketing[cat].unique().size))"
   ]
  },
  {
   "cell_type": "markdown",
   "metadata": {},
   "source": [
    "categorical 변수들 중 category가 많지 않은 변수들은 numeric 변수로 변환"
   ]
  },
  {
   "cell_type": "code",
   "execution_count": 13,
   "metadata": {},
   "outputs": [
    {
     "name": "stdout",
     "output_type": "stream",
     "text": [
      "Levels for catgeory 'contact': ['telephone' 'cellular']\n",
      "Levels for catgeory 'poutcome': ['nonexistent' 'failure' 'success']\n",
      "Levels for catgeory 'class': ['no' 'yes']\n",
      "Levels for catgeory 'marital': ['married' 'single' 'divorced' 'unknown']\n",
      "Levels for catgeory 'default': ['no' 'unknown' 'yes']\n",
      "Levels for catgeory 'housing': ['no' 'yes' 'unknown']\n",
      "Levels for catgeory 'loan': ['no' 'yes' 'unknown']\n"
     ]
    }
   ],
   "source": [
    "for cat in ['contact', 'poutcome','class', 'marital', 'default', 'housing', 'loan']:\n",
    "    print(\"Levels for catgeory '{0}': {1}\".format(cat, Marketing[cat].unique()))"
   ]
  },
  {
   "cell_type": "code",
   "execution_count": 14,
   "metadata": {
    "collapsed": true
   },
   "outputs": [],
   "source": [
    "Marketing['marital'] = Marketing['marital'].map({'married':0,'single':1,'divorced':2,'unknown':3})\n",
    "Marketing['default'] = Marketing['default'].map({'no':0,'yes':1,'unknown':2})\n",
    "Marketing['housing'] = Marketing['housing'].map({'no':0,'yes':1,'unknown':2})\n",
    "Marketing['loan'] = Marketing['loan'].map({'no':0,'yes':1,'unknown':2})\n",
    "Marketing['contact'] = Marketing['contact'].map({'telephone':0,'cellular':1})\n",
    "Marketing['poutcome'] = Marketing['poutcome'].map({'nonexistent':0,'failure':1,'success':2})\n",
    "Marketing['class'] = Marketing['class'].map({'no':0,'yes':1})"
   ]
  },
  {
   "cell_type": "markdown",
   "metadata": {},
   "source": [
    "Numeric 변수 중 nan 을 갖고 있는 row 는 -999로 변환"
   ]
  },
  {
   "cell_type": "code",
   "execution_count": 15,
   "metadata": {},
   "outputs": [
    {
     "data": {
      "text/plain": [
       "age               False\n",
       "job               False\n",
       "marital           False\n",
       "education         False\n",
       "default           False\n",
       "housing           False\n",
       "loan              False\n",
       "contact           False\n",
       "month             False\n",
       "day_of_week       False\n",
       "duration          False\n",
       "campaign          False\n",
       "pdays             False\n",
       "previous          False\n",
       "poutcome          False\n",
       "emp.var.rate      False\n",
       "cons.price.idx    False\n",
       "cons.conf.idx     False\n",
       "euribor3m         False\n",
       "nr.employed       False\n",
       "class             False\n",
       "dtype: bool"
      ]
     },
     "execution_count": 15,
     "metadata": {},
     "output_type": "execute_result"
    }
   ],
   "source": [
    "Marketing = Marketing.fillna(-999)\n",
    "pd.isnull(Marketing).any()"
   ]
  },
  {
   "cell_type": "markdown",
   "metadata": {},
   "source": [
    "categorical 변수들 중 category가 많은 변수는 MultiLabelBinarizer 사용"
   ]
  },
  {
   "cell_type": "code",
   "execution_count": 16,
   "metadata": {
    "collapsed": true
   },
   "outputs": [],
   "source": [
    "from sklearn.preprocessing import MultiLabelBinarizer\n",
    "mlb = MultiLabelBinarizer()\n",
    "\n",
    "job_Trans = mlb.fit_transform([{str(val)} for val in Marketing['job'].values])\n",
    "education_Trans = mlb.fit_transform([{str(val)} for val in Marketing['education'].values])\n",
    "month_Trans = mlb.fit_transform([{str(val)} for val in Marketing['month'].values])\n",
    "day_of_week_Trans = mlb.fit_transform([{str(val)} for val in Marketing['day_of_week'].values])"
   ]
  },
  {
   "cell_type": "code",
   "execution_count": 17,
   "metadata": {},
   "outputs": [
    {
     "data": {
      "text/plain": [
       "array([[0, 1, 0, 0, 0],\n",
       "       [0, 1, 0, 0, 0],\n",
       "       [0, 1, 0, 0, 0],\n",
       "       ...,\n",
       "       [1, 0, 0, 0, 0],\n",
       "       [1, 0, 0, 0, 0],\n",
       "       [1, 0, 0, 0, 0]])"
      ]
     },
     "execution_count": 17,
     "metadata": {},
     "output_type": "execute_result"
    }
   ],
   "source": [
    "day_of_week_Trans"
   ]
  },
  {
   "cell_type": "code",
   "execution_count": 18,
   "metadata": {
    "collapsed": true
   },
   "outputs": [],
   "source": [
    "marketing_new = Marketing.drop(['marital','default','housing','loan','contact'\n",
    "                                ,'poutcome','class','job','education','month'\n",
    "                                ,'day_of_week'], axis=1)"
   ]
  },
  {
   "cell_type": "code",
   "execution_count": 19,
   "metadata": {
    "collapsed": true
   },
   "outputs": [],
   "source": [
    "marketing_new = np.hstack((marketing_new.values, job_Trans, education_Trans, month_Trans, day_of_week_Trans))"
   ]
  },
  {
   "cell_type": "code",
   "execution_count": 20,
   "metadata": {},
   "outputs": [
    {
     "data": {
      "text/plain": [
       "array([[ 56., 261.,   1., ...,   0.,   0.,   0.],\n",
       "       [ 57., 149.,   1., ...,   0.,   0.,   0.],\n",
       "       [ 37., 226.,   1., ...,   0.,   0.,   0.],\n",
       "       ...,\n",
       "       [ 56., 189.,   2., ...,   0.,   0.,   0.],\n",
       "       [ 44., 442.,   1., ...,   0.,   0.,   0.],\n",
       "       [ 74., 239.,   3., ...,   0.,   0.,   0.]])"
      ]
     },
     "execution_count": 20,
     "metadata": {},
     "output_type": "execute_result"
    }
   ],
   "source": [
    "marketing_new"
   ]
  },
  {
   "cell_type": "code",
   "execution_count": 21,
   "metadata": {
    "collapsed": true
   },
   "outputs": [],
   "source": [
    "marketing_class = Marketing['class'].values"
   ]
  },
  {
   "cell_type": "code",
   "execution_count": 22,
   "metadata": {},
   "outputs": [
    {
     "data": {
      "text/plain": [
       "0    36548\n",
       "1     4640\n",
       "Name: 0, dtype: int64"
      ]
     },
     "execution_count": 22,
     "metadata": {},
     "output_type": "execute_result"
    }
   ],
   "source": [
    "pd.DataFrame(marketing_class)[0].value_counts()"
   ]
  },
  {
   "cell_type": "code",
   "execution_count": 23,
   "metadata": {},
   "outputs": [
    {
     "data": {
      "text/plain": [
       "(30891, 10297)"
      ]
     },
     "execution_count": 23,
     "metadata": {},
     "output_type": "execute_result"
    }
   ],
   "source": [
    "training_indices, validation_indices = training_indices, testing_indices = train_test_split(Marketing.index, stratify = marketing_class, train_size=0.75, test_size=0.25)\n",
    "training_indices.size, validation_indices.size"
   ]
  },
  {
   "cell_type": "markdown",
   "metadata": {},
   "source": [
    "## DATA ANALYSIS USING LIGHTGBM"
   ]
  },
  {
   "cell_type": "code",
   "execution_count": 24,
   "metadata": {
    "collapsed": true
   },
   "outputs": [],
   "source": [
    "import lightgbm as lgb\n",
    "\n",
    "from sklearn.metrics import mean_squared_error\n",
    "from sklearn.model_selection import GridSearchCV"
   ]
  },
  {
   "cell_type": "code",
   "execution_count": 25,
   "metadata": {
    "collapsed": true
   },
   "outputs": [],
   "source": [
    "X_train = lgb.Dataset(marketing_new[training_indices], label= marketing_class[training_indices])\n",
    "X_valid = lgb.Dataset(marketing_new[validation_indices], label= marketing_class[validation_indices],\n",
    "                     reference=X_train)\n",
    "\n",
    "num_boost_rounds = 1000\n",
    "early_stopping_rounds = 200\n",
    "cutoff_pred = 0.5"
   ]
  },
  {
   "cell_type": "code",
   "execution_count": 26,
   "metadata": {},
   "outputs": [
    {
     "name": "stdout",
     "output_type": "stream",
     "text": [
      "[1]\tvalid_0's auc: 0.935038\n",
      "Training until validation scores don't improve for 200 rounds.\n",
      "[2]\tvalid_0's auc: 0.939971\n",
      "[3]\tvalid_0's auc: 0.940865\n",
      "[4]\tvalid_0's auc: 0.942637\n",
      "[5]\tvalid_0's auc: 0.943727\n",
      "[6]\tvalid_0's auc: 0.944494\n",
      "[7]\tvalid_0's auc: 0.945307\n",
      "[8]\tvalid_0's auc: 0.945534\n",
      "[9]\tvalid_0's auc: 0.94554\n",
      "[10]\tvalid_0's auc: 0.946988\n",
      "[11]\tvalid_0's auc: 0.947813\n",
      "[12]\tvalid_0's auc: 0.947955\n",
      "[13]\tvalid_0's auc: 0.947698\n",
      "[14]\tvalid_0's auc: 0.947776\n",
      "[15]\tvalid_0's auc: 0.947736\n",
      "[16]\tvalid_0's auc: 0.948212\n",
      "[17]\tvalid_0's auc: 0.948061\n",
      "[18]\tvalid_0's auc: 0.94897\n",
      "[19]\tvalid_0's auc: 0.949094\n",
      "[20]\tvalid_0's auc: 0.949225\n",
      "[21]\tvalid_0's auc: 0.949419\n",
      "[22]\tvalid_0's auc: 0.949874\n",
      "[23]\tvalid_0's auc: 0.949992\n",
      "[24]\tvalid_0's auc: 0.950135\n",
      "[25]\tvalid_0's auc: 0.950105\n",
      "[26]\tvalid_0's auc: 0.950372\n",
      "[27]\tvalid_0's auc: 0.95046\n",
      "[28]\tvalid_0's auc: 0.950545\n",
      "[29]\tvalid_0's auc: 0.950637\n",
      "[30]\tvalid_0's auc: 0.950556\n",
      "[31]\tvalid_0's auc: 0.950781\n",
      "[32]\tvalid_0's auc: 0.950809\n",
      "[33]\tvalid_0's auc: 0.950824\n",
      "[34]\tvalid_0's auc: 0.951008\n",
      "[35]\tvalid_0's auc: 0.951051\n",
      "[36]\tvalid_0's auc: 0.951199\n",
      "[37]\tvalid_0's auc: 0.951189\n",
      "[38]\tvalid_0's auc: 0.95124\n",
      "[39]\tvalid_0's auc: 0.951048\n",
      "[40]\tvalid_0's auc: 0.951056\n",
      "[41]\tvalid_0's auc: 0.951048\n",
      "[42]\tvalid_0's auc: 0.950978\n",
      "[43]\tvalid_0's auc: 0.950969\n",
      "[44]\tvalid_0's auc: 0.951045\n",
      "[45]\tvalid_0's auc: 0.951147\n",
      "[46]\tvalid_0's auc: 0.951269\n",
      "[47]\tvalid_0's auc: 0.95114\n",
      "[48]\tvalid_0's auc: 0.951176\n",
      "[49]\tvalid_0's auc: 0.951329\n",
      "[50]\tvalid_0's auc: 0.951331\n",
      "[51]\tvalid_0's auc: 0.951414\n",
      "[52]\tvalid_0's auc: 0.951555\n",
      "[53]\tvalid_0's auc: 0.951467\n",
      "[54]\tvalid_0's auc: 0.951464\n",
      "[55]\tvalid_0's auc: 0.951389\n",
      "[56]\tvalid_0's auc: 0.951493\n",
      "[57]\tvalid_0's auc: 0.951493\n",
      "[58]\tvalid_0's auc: 0.951519\n",
      "[59]\tvalid_0's auc: 0.951493\n",
      "[60]\tvalid_0's auc: 0.951463\n",
      "[61]\tvalid_0's auc: 0.951442\n",
      "[62]\tvalid_0's auc: 0.951409\n",
      "[63]\tvalid_0's auc: 0.951314\n",
      "[64]\tvalid_0's auc: 0.951415\n",
      "[65]\tvalid_0's auc: 0.951267\n",
      "[66]\tvalid_0's auc: 0.951173\n",
      "[67]\tvalid_0's auc: 0.951127\n",
      "[68]\tvalid_0's auc: 0.951087\n",
      "[69]\tvalid_0's auc: 0.950989\n",
      "[70]\tvalid_0's auc: 0.950882\n",
      "[71]\tvalid_0's auc: 0.950836\n",
      "[72]\tvalid_0's auc: 0.950808\n",
      "[73]\tvalid_0's auc: 0.950902\n",
      "[74]\tvalid_0's auc: 0.95092\n",
      "[75]\tvalid_0's auc: 0.950944\n",
      "[76]\tvalid_0's auc: 0.950936\n",
      "[77]\tvalid_0's auc: 0.950726\n",
      "[78]\tvalid_0's auc: 0.950746\n",
      "[79]\tvalid_0's auc: 0.95069\n",
      "[80]\tvalid_0's auc: 0.950666\n",
      "[81]\tvalid_0's auc: 0.950746\n",
      "[82]\tvalid_0's auc: 0.950679\n",
      "[83]\tvalid_0's auc: 0.950565\n",
      "[84]\tvalid_0's auc: 0.950509\n",
      "[85]\tvalid_0's auc: 0.95048\n",
      "[86]\tvalid_0's auc: 0.95036\n",
      "[87]\tvalid_0's auc: 0.950327\n",
      "[88]\tvalid_0's auc: 0.950345\n",
      "[89]\tvalid_0's auc: 0.950331\n",
      "[90]\tvalid_0's auc: 0.950197\n",
      "[91]\tvalid_0's auc: 0.950087\n",
      "[92]\tvalid_0's auc: 0.950165\n",
      "[93]\tvalid_0's auc: 0.95013\n",
      "[94]\tvalid_0's auc: 0.950106\n",
      "[95]\tvalid_0's auc: 0.950125\n",
      "[96]\tvalid_0's auc: 0.950091\n",
      "[97]\tvalid_0's auc: 0.950031\n",
      "[98]\tvalid_0's auc: 0.949956\n",
      "[99]\tvalid_0's auc: 0.949968\n",
      "[100]\tvalid_0's auc: 0.949943\n",
      "[101]\tvalid_0's auc: 0.949909\n",
      "[102]\tvalid_0's auc: 0.949993\n",
      "[103]\tvalid_0's auc: 0.949934\n",
      "[104]\tvalid_0's auc: 0.949894\n",
      "[105]\tvalid_0's auc: 0.949828\n",
      "[106]\tvalid_0's auc: 0.949895\n",
      "[107]\tvalid_0's auc: 0.949869\n",
      "[108]\tvalid_0's auc: 0.949811\n",
      "[109]\tvalid_0's auc: 0.949884\n",
      "[110]\tvalid_0's auc: 0.949959\n",
      "[111]\tvalid_0's auc: 0.949926\n",
      "[112]\tvalid_0's auc: 0.950003\n",
      "[113]\tvalid_0's auc: 0.950053\n",
      "[114]\tvalid_0's auc: 0.949861\n",
      "[115]\tvalid_0's auc: 0.94994\n",
      "[116]\tvalid_0's auc: 0.949802\n",
      "[117]\tvalid_0's auc: 0.949755\n",
      "[118]\tvalid_0's auc: 0.949709\n",
      "[119]\tvalid_0's auc: 0.949637\n",
      "[120]\tvalid_0's auc: 0.949665\n",
      "[121]\tvalid_0's auc: 0.949658\n",
      "[122]\tvalid_0's auc: 0.949543\n",
      "[123]\tvalid_0's auc: 0.94957\n",
      "[124]\tvalid_0's auc: 0.9495\n",
      "[125]\tvalid_0's auc: 0.949467\n",
      "[126]\tvalid_0's auc: 0.949204\n",
      "[127]\tvalid_0's auc: 0.9492\n",
      "[128]\tvalid_0's auc: 0.949168\n",
      "[129]\tvalid_0's auc: 0.949125\n",
      "[130]\tvalid_0's auc: 0.949154\n",
      "[131]\tvalid_0's auc: 0.949179\n",
      "[132]\tvalid_0's auc: 0.949156\n",
      "[133]\tvalid_0's auc: 0.949164\n",
      "[134]\tvalid_0's auc: 0.949249\n",
      "[135]\tvalid_0's auc: 0.94913\n",
      "[136]\tvalid_0's auc: 0.949043\n",
      "[137]\tvalid_0's auc: 0.948928\n",
      "[138]\tvalid_0's auc: 0.948793\n",
      "[139]\tvalid_0's auc: 0.948738\n",
      "[140]\tvalid_0's auc: 0.948781\n",
      "[141]\tvalid_0's auc: 0.9487\n",
      "[142]\tvalid_0's auc: 0.94861\n",
      "[143]\tvalid_0's auc: 0.948708\n",
      "[144]\tvalid_0's auc: 0.94877\n",
      "[145]\tvalid_0's auc: 0.948727\n",
      "[146]\tvalid_0's auc: 0.948593\n",
      "[147]\tvalid_0's auc: 0.94858\n",
      "[148]\tvalid_0's auc: 0.948564\n",
      "[149]\tvalid_0's auc: 0.948559\n",
      "[150]\tvalid_0's auc: 0.948449\n",
      "[151]\tvalid_0's auc: 0.948406\n",
      "[152]\tvalid_0's auc: 0.948439\n",
      "[153]\tvalid_0's auc: 0.948373\n",
      "[154]\tvalid_0's auc: 0.948413\n",
      "[155]\tvalid_0's auc: 0.948437\n",
      "[156]\tvalid_0's auc: 0.948202\n",
      "[157]\tvalid_0's auc: 0.948168\n",
      "[158]\tvalid_0's auc: 0.948176\n",
      "[159]\tvalid_0's auc: 0.948013\n",
      "[160]\tvalid_0's auc: 0.947955\n",
      "[161]\tvalid_0's auc: 0.948078\n",
      "[162]\tvalid_0's auc: 0.948132\n",
      "[163]\tvalid_0's auc: 0.948104\n",
      "[164]\tvalid_0's auc: 0.948118\n",
      "[165]\tvalid_0's auc: 0.948044\n",
      "[166]\tvalid_0's auc: 0.94811\n",
      "[167]\tvalid_0's auc: 0.948154\n",
      "[168]\tvalid_0's auc: 0.948102\n",
      "[169]\tvalid_0's auc: 0.948111\n",
      "[170]\tvalid_0's auc: 0.948038\n",
      "[171]\tvalid_0's auc: 0.947982\n",
      "[172]\tvalid_0's auc: 0.947922\n",
      "[173]\tvalid_0's auc: 0.948015\n",
      "[174]\tvalid_0's auc: 0.947895\n",
      "[175]\tvalid_0's auc: 0.947872\n",
      "[176]\tvalid_0's auc: 0.947893\n",
      "[177]\tvalid_0's auc: 0.947885\n",
      "[178]\tvalid_0's auc: 0.94785\n",
      "[179]\tvalid_0's auc: 0.947707\n",
      "[180]\tvalid_0's auc: 0.947704\n",
      "[181]\tvalid_0's auc: 0.947747\n",
      "[182]\tvalid_0's auc: 0.94778\n",
      "[183]\tvalid_0's auc: 0.947876\n",
      "[184]\tvalid_0's auc: 0.947794\n",
      "[185]\tvalid_0's auc: 0.947788\n",
      "[186]\tvalid_0's auc: 0.947738\n",
      "[187]\tvalid_0's auc: 0.947716\n",
      "[188]\tvalid_0's auc: 0.947643\n",
      "[189]\tvalid_0's auc: 0.947625\n",
      "[190]\tvalid_0's auc: 0.947676\n",
      "[191]\tvalid_0's auc: 0.947662\n",
      "[192]\tvalid_0's auc: 0.947717\n",
      "[193]\tvalid_0's auc: 0.947705\n",
      "[194]\tvalid_0's auc: 0.947701\n",
      "[195]\tvalid_0's auc: 0.947715\n",
      "[196]\tvalid_0's auc: 0.947746\n",
      "[197]\tvalid_0's auc: 0.947849\n",
      "[198]\tvalid_0's auc: 0.947881\n",
      "[199]\tvalid_0's auc: 0.947729\n",
      "[200]\tvalid_0's auc: 0.947676\n",
      "[201]\tvalid_0's auc: 0.947639\n",
      "[202]\tvalid_0's auc: 0.947662\n",
      "[203]\tvalid_0's auc: 0.947591\n",
      "[204]\tvalid_0's auc: 0.947404\n",
      "[205]\tvalid_0's auc: 0.947369\n",
      "[206]\tvalid_0's auc: 0.947386\n",
      "[207]\tvalid_0's auc: 0.947328\n",
      "[208]\tvalid_0's auc: 0.947297\n",
      "[209]\tvalid_0's auc: 0.947305\n",
      "[210]\tvalid_0's auc: 0.947342\n",
      "[211]\tvalid_0's auc: 0.947346\n",
      "[212]\tvalid_0's auc: 0.947442\n",
      "[213]\tvalid_0's auc: 0.947408\n",
      "[214]\tvalid_0's auc: 0.947303\n",
      "[215]\tvalid_0's auc: 0.947397\n",
      "[216]\tvalid_0's auc: 0.947417\n",
      "[217]\tvalid_0's auc: 0.947458\n",
      "[218]\tvalid_0's auc: 0.947519\n",
      "[219]\tvalid_0's auc: 0.947462\n",
      "[220]\tvalid_0's auc: 0.947508\n",
      "[221]\tvalid_0's auc: 0.947513\n",
      "[222]\tvalid_0's auc: 0.94739\n",
      "[223]\tvalid_0's auc: 0.94738\n",
      "[224]\tvalid_0's auc: 0.94744\n",
      "[225]\tvalid_0's auc: 0.947399\n",
      "[226]\tvalid_0's auc: 0.947391\n",
      "[227]\tvalid_0's auc: 0.94744\n",
      "[228]\tvalid_0's auc: 0.947397\n",
      "[229]\tvalid_0's auc: 0.947357\n",
      "[230]\tvalid_0's auc: 0.947428\n",
      "[231]\tvalid_0's auc: 0.947413\n",
      "[232]\tvalid_0's auc: 0.947456\n",
      "[233]\tvalid_0's auc: 0.947388\n",
      "[234]\tvalid_0's auc: 0.947367\n",
      "[235]\tvalid_0's auc: 0.947259\n",
      "[236]\tvalid_0's auc: 0.947012\n",
      "[237]\tvalid_0's auc: 0.946871\n",
      "[238]\tvalid_0's auc: 0.946889\n",
      "[239]\tvalid_0's auc: 0.946933\n",
      "[240]\tvalid_0's auc: 0.946967\n",
      "[241]\tvalid_0's auc: 0.946999\n",
      "[242]\tvalid_0's auc: 0.947064\n",
      "[243]\tvalid_0's auc: 0.947017\n",
      "[244]\tvalid_0's auc: 0.946975\n",
      "[245]\tvalid_0's auc: 0.946931\n",
      "[246]\tvalid_0's auc: 0.946939\n",
      "[247]\tvalid_0's auc: 0.946958\n",
      "[248]\tvalid_0's auc: 0.946973\n",
      "[249]\tvalid_0's auc: 0.946953\n",
      "[250]\tvalid_0's auc: 0.946896\n",
      "[251]\tvalid_0's auc: 0.946944\n",
      "[252]\tvalid_0's auc: 0.946938\n",
      "Early stopping, best iteration is:\n",
      "[52]\tvalid_0's auc: 0.951555\n",
      "CPU times: user 3.47 s, sys: 3.11 s, total: 6.59 s\n",
      "Wall time: 2.59 s\n"
     ]
    }
   ],
   "source": [
    "%%time\n",
    "default_params = {\n",
    "    'metric' : 'auc',\n",
    "    'objective' : 'binary',\n",
    "    'is_unbalance' : 'true',\n",
    "    'boosting' : 'goss'\n",
    "}\n",
    "\n",
    "lgb_class = lgb.train(default_params, X_train, valid_sets= X_valid,\n",
    "                     num_boost_round = num_boost_rounds,\n",
    "                     early_stopping_rounds = early_stopping_rounds)"
   ]
  },
  {
   "cell_type": "code",
   "execution_count": 27,
   "metadata": {},
   "outputs": [
    {
     "name": "stdout",
     "output_type": "stream",
     "text": [
      "99.99999999999999% data are computed\n",
      "The distribution of scores:\n",
      "[0.0, 0.1)    64.611052\n",
      "[0.1, 0.2)     4.195397\n",
      "[0.2, 0.3)     2.962028\n",
      "[0.3, 0.4)     2.418180\n",
      "[0.4, 0.5)     2.359911\n",
      "[0.5, 0.6)     2.534719\n",
      "[0.6, 0.7)     2.894047\n",
      "[0.7, 0.8)     4.078858\n",
      "[0.8, 0.9)     7.040886\n",
      "[0.9, 1.0)     6.904924\n",
      "[1.0, 1.1)     0.000000\n",
      "dtype: float64\n"
     ]
    },
    {
     "data": {
      "image/png": "[encoded data removed]",
      "text/plain": [
       "<Figure size 576x432 with 1 Axes>"
      ]
     },
     "metadata": {},
     "output_type": "display_data"
    },
    {
     "data": {
      "image/png": "[encoded data removed]",
      "text/plain": [
       "<Figure size 432x288 with 1 Axes>"
      ]
     },
     "metadata": {},
     "output_type": "display_data"
    },
    {
     "data": {
      "image/png": "[encoded data removed]",
      "text/plain": [
       "<Figure size 432x288 with 1 Axes>"
      ]
     },
     "metadata": {},
     "output_type": "display_data"
    },
    {
     "name": "stdout",
     "output_type": "stream",
     "text": [
      "Confusion matrix at threshold 0.5\n",
      "             precision    recall  f1-score   support\n",
      "\n",
      "          0       0.99      0.85      0.92      9137\n",
      "          1       0.45      0.93      0.60      1160\n",
      "\n",
      "avg / total       0.93      0.86      0.88     10297\n",
      "\n"
     ]
    },
    {
     "data": {
      "image/png": "[encoded data removed]",
      "text/plain": [
       "<Figure size 288x288 with 2 Axes>"
      ]
     },
     "metadata": {},
     "output_type": "display_data"
    },
    {
     "name": "stdout",
     "output_type": "stream",
     "text": [
      "The Model Performance Evaluation:\n",
      "    AUROC   AUPRC     MCC  Accuracy  Precision  Recall      F1\n",
      "0  0.9516  0.6754  0.5857    0.8626     0.4472   0.931  0.6042\n"
     ]
    }
   ],
   "source": [
    "y_pred_lgb = lgb_class.predict(marketing_new[testing_indices])\n",
    "\n",
    "lgb_result = evaluate_result(marketing_class[testing_indices],  y_pred_lgb, threshold=0.5)"
   ]
  },
  {
   "cell_type": "markdown",
   "metadata": {},
   "source": [
    "## DATA ANALYSIS USING TPOT"
   ]
  },
  {
   "cell_type": "code",
   "execution_count": 28,
   "metadata": {
    "scrolled": true
   },
   "outputs": [
    {
     "name": "stderr",
     "output_type": "stream",
     "text": [
      "Optimization Progress: 52pipeline [00:53,  1.22pipeline/s]                  "
     ]
    },
    {
     "name": "stdout",
     "output_type": "stream",
     "text": [
      "Generation 1 - Current best internal CV score: 0.6069201705879612\n"
     ]
    },
    {
     "name": "stderr",
     "output_type": "stream",
     "text": [
      "Optimization Progress: 73pipeline [01:40,  3.32s/pipeline]"
     ]
    },
    {
     "name": "stdout",
     "output_type": "stream",
     "text": [
      "Generation 2 - Current best internal CV score: 0.6069201705879612\n"
     ]
    },
    {
     "name": "stderr",
     "output_type": "stream",
     "text": [
      "Optimization Progress: 93pipeline [01:55,  1.17s/pipeline]"
     ]
    },
    {
     "name": "stdout",
     "output_type": "stream",
     "text": [
      "Generation 3 - Current best internal CV score: 0.6069201705879612\n"
     ]
    },
    {
     "name": "stderr",
     "output_type": "stream",
     "text": [
      "Optimization Progress: 113pipeline [02:14,  1.01s/pipeline]"
     ]
    },
    {
     "name": "stdout",
     "output_type": "stream",
     "text": [
      "Generation 4 - Current best internal CV score: 0.6069201705879612\n"
     ]
    },
    {
     "name": "stderr",
     "output_type": "stream",
     "text": [
      "Optimization Progress: 132pipeline [02:30,  1.21pipeline/s]"
     ]
    },
    {
     "name": "stdout",
     "output_type": "stream",
     "text": [
      "Generation 5 - Current best internal CV score: 0.6069201705879612\n"
     ]
    },
    {
     "name": "stderr",
     "output_type": "stream",
     "text": [
      "Optimization Progress: 153pipeline [02:50,  1.20s/pipeline]"
     ]
    },
    {
     "name": "stdout",
     "output_type": "stream",
     "text": [
      "Generation 6 - Current best internal CV score: 0.6119924269382757\n"
     ]
    },
    {
     "name": "stderr",
     "output_type": "stream",
     "text": [
      "Optimization Progress: 172pipeline [03:16,  1.35s/pipeline]"
     ]
    },
    {
     "name": "stdout",
     "output_type": "stream",
     "text": [
      "Generation 7 - Current best internal CV score: 0.6119924269382757\n"
     ]
    },
    {
     "name": "stderr",
     "output_type": "stream",
     "text": [
      "Optimization Progress: 196pipeline [04:45,  1.32s/pipeline]"
     ]
    },
    {
     "name": "stdout",
     "output_type": "stream",
     "text": [
      "Generation 8 - Current best internal CV score: 0.6316084186204802\n"
     ]
    },
    {
     "name": "stderr",
     "output_type": "stream",
     "text": []
    },
    {
     "name": "stdout",
     "output_type": "stream",
     "text": [
      "\n",
      "5.0315434 minutes have elapsed. TPOT will close down.\n",
      "TPOT closed prematurely. Will use the current best pipeline.\n",
      "\n",
      "Best pipeline: LinearSVC(DecisionTreeClassifier(input_matrix, criterion=gini, max_depth=7, min_samples_leaf=4, min_samples_split=9), C=5.0, dual=False, loss=squared_hinge, penalty=l2, tol=0.0001)\n"
     ]
    },
    {
     "data": {
      "text/plain": [
       "TPOTClassifier(config_dict={'sklearn.naive_bayes.GaussianNB': {}, 'sklearn.naive_bayes.BernoulliNB': {'alpha': [0.001, 0.01, 0.1, 1.0, 10.0, 100.0], 'fit_prior': [True, False]}, 'sklearn.naive_bayes.MultinomialNB': {'alpha': [0.001, 0.01, 0.1, 1.0, 10.0, 100.0], 'fit_prior': [True, False]}, 'sklearn.tree.DecisionT....3 , 0.35, 0.4 , 0.45, 0.5 , 0.55,\n",
       "       0.6 , 0.65, 0.7 , 0.75, 0.8 , 0.85, 0.9 , 0.95, 1.  ])}}}},\n",
       "        crossover_rate=0.1, cv=5, disable_update_check=False,\n",
       "        early_stop=10, generations=1000000, max_eval_time_mins=0.04,\n",
       "        max_time_mins=5, memory=None, mutation_rate=0.9, n_jobs=1,\n",
       "        offspring_size=15, periodic_checkpoint_folder=None,\n",
       "        population_size=15, random_state=None, scoring=None, subsample=1.0,\n",
       "        verbosity=2, warm_start=False)"
      ]
     },
     "execution_count": 28,
     "metadata": {},
     "output_type": "execute_result"
    }
   ],
   "source": [
    "tpot = TPOTClassifier(verbosity=2, max_time_mins=50, max_eval_time_mins=4, mutation_rate=0.9,\n",
    "                      early_stop=10, population_size=15, generations=20, scoring = 'average_precision')\n",
    "tpot.fit(marketing_new[training_indices], marketing_class[training_indices])"
   ]
  },
  {
   "cell_type": "code",
   "execution_count": 29,
   "metadata": {},
   "outputs": [
    {
     "data": {
      "text/plain": [
       "0.6486178967556245"
      ]
     },
     "execution_count": 29,
     "metadata": {},
     "output_type": "execute_result"
    }
   ],
   "source": [
    "tpot.score(marketing_new[validation_indices], Marketing.loc[validation_indices, 'class'].values)"
   ]
  },
  {
   "cell_type": "code",
   "execution_count": 30,
   "metadata": {},
   "outputs": [
    {
     "data": {
      "text/plain": [
       "True"
      ]
     },
     "execution_count": 30,
     "metadata": {},
     "output_type": "execute_result"
    }
   ],
   "source": [
    "tpot.export('tpot_marketing_pipeline.py')"
   ]
  },
  {
   "cell_type": "code",
   "execution_count": 33,
   "metadata": {
    "collapsed": true
   },
   "outputs": [],
   "source": [
    "y_pred = tpot.predict(marketing_new[testing_indices])\n",
    "# y_score = tpot.predict_proba(marketing_new[testing_indices])"
   ]
  },
  {
   "cell_type": "code",
   "execution_count": null,
   "metadata": {
    "collapsed": true
   },
   "outputs": [],
   "source": [
    "lgb_result = evaluate_result(marketing_class[testing_indices],  y_pred_lgb, threshold=0.5)"
   ]
  },
  {
   "cell_type": "code",
   "execution_count": 35,
   "metadata": {},
   "outputs": [
    {
     "name": "stdout",
     "output_type": "stream",
     "text": [
      "100.0% data are computed\n",
      "The distribution of scores:\n",
      "[0.0, 0.1)    90.336991\n",
      "[0.1, 0.2)     0.000000\n",
      "[0.2, 0.3)     0.000000\n",
      "[0.3, 0.4)     0.000000\n",
      "[0.4, 0.5)     0.000000\n",
      "[0.5, 0.6)     0.000000\n",
      "[0.6, 0.7)     0.000000\n",
      "[0.7, 0.8)     0.000000\n",
      "[0.8, 0.9)     0.000000\n",
      "[0.9, 1.0)     0.000000\n",
      "[1.0, 1.1)     9.663009\n",
      "dtype: float64\n"
     ]
    },
    {
     "data": {
      "image/png": "[encoded data removed]",
      "text/plain": [
       "<Figure size 576x432 with 1 Axes>"
      ]
     },
     "metadata": {},
     "output_type": "display_data"
    },
    {
     "data": {
      "image/png": "[encoded data removed]",
      "text/plain": [
       "<Figure size 432x288 with 1 Axes>"
      ]
     },
     "metadata": {},
     "output_type": "display_data"
    },
    {
     "data": {
      "image/png": "[encoded data removed]",
      "text/plain": [
       "<Figure size 432x288 with 1 Axes>"
      ]
     },
     "metadata": {},
     "output_type": "display_data"
    },
    {
     "name": "stdout",
     "output_type": "stream",
     "text": [
      "Confusion matrix at threshold 0.5\n",
      "             precision    recall  f1-score   support\n",
      "\n",
      "          0       0.95      0.96      0.95      9137\n",
      "          1       0.66      0.56      0.61      1160\n",
      "\n",
      "avg / total       0.91      0.92      0.92     10297\n",
      "\n"
     ]
    },
    {
     "data": {
      "image/png": "[encoded data removed]",
      "text/plain": [
       "<Figure size 288x288 with 2 Axes>"
      ]
     },
     "metadata": {},
     "output_type": "display_data"
    },
    {
     "name": "stdout",
     "output_type": "stream",
     "text": [
      "The Model Performance Evaluation:\n",
      "    AUROC   AUPRC     MCC  Accuracy  Precision  Recall      F1\n",
      "0  0.7637  0.4208  0.5644    0.9179     0.6583  0.5647  0.6079\n"
     ]
    }
   ],
   "source": [
    "tpot_result = evaluate_result(marketing_class[testing_indices],  y_pred, threshold=0.5)"
   ]
  },
  {
   "cell_type": "markdown",
   "metadata": {},
   "source": [
    "## DATA ANALYSIS USING H2O"
   ]
  },
  {
   "cell_type": "code",
   "execution_count": 36,
   "metadata": {
    "collapsed": true
   },
   "outputs": [],
   "source": [
    "import h2o\n",
    "from h2o.automl import H2OAutoML"
   ]
  },
  {
   "cell_type": "code",
   "execution_count": 37,
   "metadata": {},
   "outputs": [
    {
     "name": "stdout",
     "output_type": "stream",
     "text": [
      "Checking whether there is an H2O instance running at http://localhost:54321. connected.\n"
     ]
    },
    {
     "data": {
      "text/html": [
       "<div style=\"overflow:auto\"><table style=\"width:50%\"><tr><td>H2O cluster uptime:</td>\n",
       "<td>1 min 52 secs</td></tr>\n",
       "<tr><td>H2O cluster timezone:</td>\n",
       "<td>Asia/Seoul</td></tr>\n",
       "<tr><td>H2O data parsing timezone:</td>\n",
       "<td>UTC</td></tr>\n",
       "<tr><td>H2O cluster version:</td>\n",
       "<td>3.20.0.7</td></tr>\n",
       "<tr><td>H2O cluster version age:</td>\n",
       "<td>12 days </td></tr>\n",
       "<tr><td>H2O cluster name:</td>\n",
       "<td>H2O_from_python_406480_6i1w2d</td></tr>\n",
       "<tr><td>H2O cluster total nodes:</td>\n",
       "<td>1</td></tr>\n",
       "<tr><td>H2O cluster free memory:</td>\n",
       "<td>3.545 Gb</td></tr>\n",
       "<tr><td>H2O cluster total cores:</td>\n",
       "<td>8</td></tr>\n",
       "<tr><td>H2O cluster allowed cores:</td>\n",
       "<td>8</td></tr>\n",
       "<tr><td>H2O cluster status:</td>\n",
       "<td>locked, healthy</td></tr>\n",
       "<tr><td>H2O connection url:</td>\n",
       "<td>http://localhost:54321</td></tr>\n",
       "<tr><td>H2O connection proxy:</td>\n",
       "<td>None</td></tr>\n",
       "<tr><td>H2O internal security:</td>\n",
       "<td>False</td></tr>\n",
       "<tr><td>H2O API Extensions:</td>\n",
       "<td>XGBoost, Algos, AutoML, Core V3, Core V4</td></tr>\n",
       "<tr><td>Python version:</td>\n",
       "<td>3.6.5 final</td></tr></table></div>"
      ],
      "text/plain": [
       "--------------------------  ----------------------------------------\n",
       "H2O cluster uptime:         1 min 52 secs\n",
       "H2O cluster timezone:       Asia/Seoul\n",
       "H2O data parsing timezone:  UTC\n",
       "H2O cluster version:        3.20.0.7\n",
       "H2O cluster version age:    12 days\n",
       "H2O cluster name:           H2O_from_python_406480_6i1w2d\n",
       "H2O cluster total nodes:    1\n",
       "H2O cluster free memory:    3.545 Gb\n",
       "H2O cluster total cores:    8\n",
       "H2O cluster allowed cores:  8\n",
       "H2O cluster status:         locked, healthy\n",
       "H2O connection url:         http://localhost:54321\n",
       "H2O connection proxy:\n",
       "H2O internal security:      False\n",
       "H2O API Extensions:         XGBoost, Algos, AutoML, Core V3, Core V4\n",
       "Python version:             3.6.5 final\n",
       "--------------------------  ----------------------------------------"
      ]
     },
     "metadata": {},
     "output_type": "display_data"
    }
   ],
   "source": [
    "h2o.init()"
   ]
  },
  {
   "cell_type": "code",
   "execution_count": 72,
   "metadata": {
    "collapsed": true
   },
   "outputs": [],
   "source": [
    "origin_df =  Marketing.drop(['marital','default','housing','loan','contact'\n",
    "                                ,'poutcome','job','education','month'\n",
    "                                ,'day_of_week'], axis=1)"
   ]
  },
  {
   "cell_type": "code",
   "execution_count": 73,
   "metadata": {
    "collapsed": true
   },
   "outputs": [],
   "source": [
    "X_train , X_test = train_test_split(origin_df, test_size = 0.33)"
   ]
  },
  {
   "cell_type": "code",
   "execution_count": 74,
   "metadata": {},
   "outputs": [
    {
     "name": "stdout",
     "output_type": "stream",
     "text": [
      "(27595, 11) (13593, 11)\n"
     ]
    }
   ],
   "source": [
    "print(X_train.shape, X_test.shape)"
   ]
  },
  {
   "cell_type": "code",
   "execution_count": 75,
   "metadata": {},
   "outputs": [
    {
     "name": "stderr",
     "output_type": "stream",
     "text": [
      "/usr/local/lib/python3.6/site-packages/h2o/utils/shared_utils.py:177: FutureWarning: Method .as_matrix will be removed in a future version. Use .values instead.\n",
      "  data = _handle_python_lists(python_obj.as_matrix().tolist(), -1)[1]\n"
     ]
    },
    {
     "name": "stdout",
     "output_type": "stream",
     "text": [
      "Parse progress: |█████████████████████████████████████████████████████████| 100%\n",
      "Parse progress: |█████████████████████████████████████████████████████████| 100%\n"
     ]
    }
   ],
   "source": [
    "train = h2o.H2OFrame(X_train)\n",
    "test = h2o.H2OFrame(X_test)"
   ]
  },
  {
   "cell_type": "code",
   "execution_count": null,
   "metadata": {
    "collapsed": true
   },
   "outputs": [],
   "source": []
  },
  {
   "cell_type": "code",
   "execution_count": 85,
   "metadata": {
    "collapsed": true
   },
   "outputs": [],
   "source": [
    "# Identify predictors and response\n",
    "X = train.columns\n",
    "y = 'class'\n",
    "X.remove(y)"
   ]
  },
  {
   "cell_type": "code",
   "execution_count": 86,
   "metadata": {
    "collapsed": true
   },
   "outputs": [],
   "source": [
    "train['class'] = train['class'].asfactor()\n",
    "test['class'] = test['class'].asfactor()"
   ]
  },
  {
   "cell_type": "code",
   "execution_count": 87,
   "metadata": {},
   "outputs": [
    {
     "name": "stdout",
     "output_type": "stream",
     "text": [
      "AutoML progress: |████████████████████████████████████████████████████████| 100%\n"
     ]
    }
   ],
   "source": [
    "aml = H2OAutoML(max_runtime_secs= 120)\n",
    "aml.train(x= X, y = y, training_frame = train)"
   ]
  },
  {
   "cell_type": "code",
   "execution_count": 88,
   "metadata": {},
   "outputs": [
    {
     "data": {
      "text/html": [
       "<table>\n",
       "<thead>\n",
       "<tr><th>model_id                                             </th><th style=\"text-align: right;\">     auc</th><th style=\"text-align: right;\">  logloss</th><th style=\"text-align: right;\">  mean_per_class_error</th><th style=\"text-align: right;\">    rmse</th><th style=\"text-align: right;\">      mse</th></tr>\n",
       "</thead>\n",
       "<tbody>\n",
       "<tr><td>GBM_grid_0_AutoML_20180914_010952_model_1            </td><td style=\"text-align: right;\">0.946941</td><td style=\"text-align: right;\"> 0.178473</td><td style=\"text-align: right;\">              0.153739</td><td style=\"text-align: right;\">0.238996</td><td style=\"text-align: right;\">0.0571193</td></tr>\n",
       "<tr><td>StackedEnsemble_AllModels_0_AutoML_20180914_010952   </td><td style=\"text-align: right;\">0.94653 </td><td style=\"text-align: right;\"> 0.196292</td><td style=\"text-align: right;\">              0.147693</td><td style=\"text-align: right;\">0.243491</td><td style=\"text-align: right;\">0.0592877</td></tr>\n",
       "<tr><td>GBM_grid_0_AutoML_20180914_010952_model_4            </td><td style=\"text-align: right;\">0.946463</td><td style=\"text-align: right;\"> 0.175834</td><td style=\"text-align: right;\">              0.141374</td><td style=\"text-align: right;\">0.237421</td><td style=\"text-align: right;\">0.0563687</td></tr>\n",
       "<tr><td>StackedEnsemble_BestOfFamily_0_AutoML_20180914_010952</td><td style=\"text-align: right;\">0.945893</td><td style=\"text-align: right;\"> 0.198635</td><td style=\"text-align: right;\">              0.143433</td><td style=\"text-align: right;\">0.244766</td><td style=\"text-align: right;\">0.0599106</td></tr>\n",
       "<tr><td>GBM_grid_0_AutoML_20180914_010952_model_0            </td><td style=\"text-align: right;\">0.945802</td><td style=\"text-align: right;\"> 0.180062</td><td style=\"text-align: right;\">              0.153492</td><td style=\"text-align: right;\">0.239519</td><td style=\"text-align: right;\">0.0573693</td></tr>\n",
       "<tr><td>GBM_grid_0_AutoML_20180914_010952_model_2            </td><td style=\"text-align: right;\">0.945784</td><td style=\"text-align: right;\"> 0.180316</td><td style=\"text-align: right;\">              0.161161</td><td style=\"text-align: right;\">0.240338</td><td style=\"text-align: right;\">0.0577622</td></tr>\n",
       "<tr><td>GBM_grid_0_AutoML_20180914_010952_model_3            </td><td style=\"text-align: right;\">0.944436</td><td style=\"text-align: right;\"> 0.183893</td><td style=\"text-align: right;\">              0.148675</td><td style=\"text-align: right;\">0.242889</td><td style=\"text-align: right;\">0.058995 </td></tr>\n",
       "<tr><td>GBM_grid_0_AutoML_20180914_010952_model_5            </td><td style=\"text-align: right;\">0.93633 </td><td style=\"text-align: right;\"> 0.210201</td><td style=\"text-align: right;\">              0.171199</td><td style=\"text-align: right;\">0.250757</td><td style=\"text-align: right;\">0.0628792</td></tr>\n",
       "<tr><td>DRF_0_AutoML_20180914_010952                         </td><td style=\"text-align: right;\">0.936118</td><td style=\"text-align: right;\"> 0.191775</td><td style=\"text-align: right;\">              0.15509 </td><td style=\"text-align: right;\">0.24477 </td><td style=\"text-align: right;\">0.0599122</td></tr>\n",
       "<tr><td>GBM_grid_0_AutoML_20180914_010952_model_6            </td><td style=\"text-align: right;\">0.935166</td><td style=\"text-align: right;\"> 0.232182</td><td style=\"text-align: right;\">              0.16959 </td><td style=\"text-align: right;\">0.261267</td><td style=\"text-align: right;\">0.0682606</td></tr>\n",
       "</tbody>\n",
       "</table>"
      ]
     },
     "metadata": {},
     "output_type": "display_data"
    },
    {
     "data": {
      "text/plain": []
     },
     "execution_count": 88,
     "metadata": {},
     "output_type": "execute_result"
    }
   ],
   "source": [
    "# View the AutoML Leaderboard\n",
    "lb = aml.leaderboard\n",
    "lb"
   ]
  },
  {
   "cell_type": "code",
   "execution_count": 89,
   "metadata": {},
   "outputs": [
    {
     "name": "stdout",
     "output_type": "stream",
     "text": [
      "gbm prediction progress: |████████████████████████████████████████████████| 100%\n",
      "gbm prediction progress: |████████████████████████████████████████████████| 100%\n"
     ]
    }
   ],
   "source": [
    "# The leader model is stored here\n",
    "aml.leader\n",
    "\n",
    "# If you need to generate predictions on a test set, you can make\n",
    "# predictions directly on the `\"H2OAutoML\"` object, or on the leader\n",
    "# model object directly\n",
    "\n",
    "preds = aml.predict(test)\n",
    "\n",
    "# or:\n",
    "preds = aml.leader.predict(test)"
   ]
  },
  {
   "cell_type": "code",
   "execution_count": 115,
   "metadata": {},
   "outputs": [
    {
     "name": "stdout",
     "output_type": "stream",
     "text": [
      "Model Details\n",
      "=============\n",
      "H2OGradientBoostingEstimator :  Gradient Boosting Machine\n",
      "Model Key:  GBM_grid_0_AutoML_20180914_010952_model_1\n",
      "\n",
      "\n",
      "ModelMetricsBinomial: gbm\n",
      "** Reported on train data. **\n",
      "\n",
      "MSE: 0.04153287276452869\n",
      "RMSE: 0.20379615493067746\n",
      "LogLoss: 0.13730071773810995\n",
      "Mean Per-Class Error: 0.08564329949795091\n",
      "AUC: 0.9712880185953371\n",
      "Gini: 0.9425760371906742\n",
      "Confusion Matrix (Act/Pred) for max f1 @ threshold = 0.4547541371646059: \n"
     ]
    },
    {
     "data": {
      "text/html": [
       "<div style=\"overflow:auto\"><table style=\"width:50%\"><tr><td><b></b></td>\n",
       "<td><b>0</b></td>\n",
       "<td><b>1</b></td>\n",
       "<td><b>Error</b></td>\n",
       "<td><b>Rate</b></td></tr>\n",
       "<tr><td>0</td>\n",
       "<td>18990.0</td>\n",
       "<td>563.0</td>\n",
       "<td>0.0288</td>\n",
       "<td> (563.0/19553.0)</td></tr>\n",
       "<tr><td>1</td>\n",
       "<td>686.0</td>\n",
       "<td>1771.0</td>\n",
       "<td>0.2792</td>\n",
       "<td> (686.0/2457.0)</td></tr>\n",
       "<tr><td>Total</td>\n",
       "<td>19676.0</td>\n",
       "<td>2334.0</td>\n",
       "<td>0.0567</td>\n",
       "<td> (1249.0/22010.0)</td></tr></table></div>"
      ],
      "text/plain": [
       "       0      1     Error    Rate\n",
       "-----  -----  ----  -------  ----------------\n",
       "0      18990  563   0.0288   (563.0/19553.0)\n",
       "1      686    1771  0.2792   (686.0/2457.0)\n",
       "Total  19676  2334  0.0567   (1249.0/22010.0)"
      ]
     },
     "metadata": {},
     "output_type": "display_data"
    },
    {
     "name": "stdout",
     "output_type": "stream",
     "text": [
      "Maximum Metrics: Maximum metrics at their respective thresholds\n",
      "\n"
     ]
    },
    {
     "data": {
      "text/html": [
       "<div style=\"overflow:auto\"><table style=\"width:50%\"><tr><td><b>metric</b></td>\n",
       "<td><b>threshold</b></td>\n",
       "<td><b>value</b></td>\n",
       "<td><b>idx</b></td></tr>\n",
       "<tr><td>max f1</td>\n",
       "<td>0.4547541</td>\n",
       "<td>0.7393029</td>\n",
       "<td>168.0</td></tr>\n",
       "<tr><td>max f2</td>\n",
       "<td>0.1721563</td>\n",
       "<td>0.8098916</td>\n",
       "<td>280.0</td></tr>\n",
       "<tr><td>max f0point5</td>\n",
       "<td>0.5739262</td>\n",
       "<td>0.7792282</td>\n",
       "<td>122.0</td></tr>\n",
       "<tr><td>max accuracy</td>\n",
       "<td>0.5172689</td>\n",
       "<td>0.9439800</td>\n",
       "<td>144.0</td></tr>\n",
       "<tr><td>max precision</td>\n",
       "<td>0.9670761</td>\n",
       "<td>1.0</td>\n",
       "<td>0.0</td></tr>\n",
       "<tr><td>max recall</td>\n",
       "<td>0.0047559</td>\n",
       "<td>1.0</td>\n",
       "<td>392.0</td></tr>\n",
       "<tr><td>max specificity</td>\n",
       "<td>0.9670761</td>\n",
       "<td>1.0</td>\n",
       "<td>0.0</td></tr>\n",
       "<tr><td>max absolute_mcc</td>\n",
       "<td>0.4547541</td>\n",
       "<td>0.7077814</td>\n",
       "<td>168.0</td></tr>\n",
       "<tr><td>max min_per_class_accuracy</td>\n",
       "<td>0.2029034</td>\n",
       "<td>0.9093745</td>\n",
       "<td>266.0</td></tr>\n",
       "<tr><td>max mean_per_class_accuracy</td>\n",
       "<td>0.1650692</td>\n",
       "<td>0.9143567</td>\n",
       "<td>283.0</td></tr></table></div>"
      ],
      "text/plain": [
       "metric                       threshold    value     idx\n",
       "---------------------------  -----------  --------  -----\n",
       "max f1                       0.454754     0.739303  168\n",
       "max f2                       0.172156     0.809892  280\n",
       "max f0point5                 0.573926     0.779228  122\n",
       "max accuracy                 0.517269     0.94398   144\n",
       "max precision                0.967076     1         0\n",
       "max recall                   0.00475592   1         392\n",
       "max specificity              0.967076     1         0\n",
       "max absolute_mcc             0.454754     0.707781  168\n",
       "max min_per_class_accuracy   0.202903     0.909375  266\n",
       "max mean_per_class_accuracy  0.165069     0.914357  283"
      ]
     },
     "metadata": {},
     "output_type": "display_data"
    },
    {
     "name": "stdout",
     "output_type": "stream",
     "text": [
      "Gains/Lift Table: Avg response rate: 11.16 %, avg score: 11.17 %\n",
      "\n"
     ]
    },
    {
     "data": {
      "text/html": [
       "<div style=\"overflow:auto\"><table style=\"width:50%\"><tr><td><b></b></td>\n",
       "<td><b>group</b></td>\n",
       "<td><b>cumulative_data_fraction</b></td>\n",
       "<td><b>lower_threshold</b></td>\n",
       "<td><b>lift</b></td>\n",
       "<td><b>cumulative_lift</b></td>\n",
       "<td><b>response_rate</b></td>\n",
       "<td><b>score</b></td>\n",
       "<td><b>cumulative_response_rate</b></td>\n",
       "<td><b>cumulative_score</b></td>\n",
       "<td><b>capture_rate</b></td>\n",
       "<td><b>cumulative_capture_rate</b></td>\n",
       "<td><b>gain</b></td>\n",
       "<td><b>cumulative_gain</b></td></tr>\n",
       "<tr><td></td>\n",
       "<td>1</td>\n",
       "<td>0.0100409</td>\n",
       "<td>0.8797360</td>\n",
       "<td>8.9580790</td>\n",
       "<td>8.9580790</td>\n",
       "<td>1.0</td>\n",
       "<td>0.9095936</td>\n",
       "<td>1.0</td>\n",
       "<td>0.9095936</td>\n",
       "<td>0.0899471</td>\n",
       "<td>0.0899471</td>\n",
       "<td>795.8078958</td>\n",
       "<td>795.8078958</td></tr>\n",
       "<tr><td></td>\n",
       "<td>2</td>\n",
       "<td>0.0200363</td>\n",
       "<td>0.8293406</td>\n",
       "<td>8.7952048</td>\n",
       "<td>8.8768265</td>\n",
       "<td>0.9818182</td>\n",
       "<td>0.8564382</td>\n",
       "<td>0.9909297</td>\n",
       "<td>0.8830761</td>\n",
       "<td>0.0879121</td>\n",
       "<td>0.1778592</td>\n",
       "<td>779.5204795</td>\n",
       "<td>787.6826541</td></tr>\n",
       "<tr><td></td>\n",
       "<td>3</td>\n",
       "<td>0.0300318</td>\n",
       "<td>0.7685739</td>\n",
       "<td>8.5508936</td>\n",
       "<td>8.7683466</td>\n",
       "<td>0.9545455</td>\n",
       "<td>0.7994310</td>\n",
       "<td>0.9788200</td>\n",
       "<td>0.8552366</td>\n",
       "<td>0.0854701</td>\n",
       "<td>0.2633293</td>\n",
       "<td>755.0893551</td>\n",
       "<td>776.8346575</td></tr>\n",
       "<tr><td></td>\n",
       "<td>4</td>\n",
       "<td>0.0400273</td>\n",
       "<td>0.7126227</td>\n",
       "<td>7.9401154</td>\n",
       "<td>8.5615238</td>\n",
       "<td>0.8863636</td>\n",
       "<td>0.7393778</td>\n",
       "<td>0.9557321</td>\n",
       "<td>0.8263048</td>\n",
       "<td>0.0793651</td>\n",
       "<td>0.3426943</td>\n",
       "<td>694.0115440</td>\n",
       "<td>756.1523817</td></tr>\n",
       "<tr><td></td>\n",
       "<td>5</td>\n",
       "<td>0.0500227</td>\n",
       "<td>0.6603048</td>\n",
       "<td>7.2479002</td>\n",
       "<td>8.2990377</td>\n",
       "<td>0.8090909</td>\n",
       "<td>0.6844113</td>\n",
       "<td>0.9264305</td>\n",
       "<td>0.7979519</td>\n",
       "<td>0.0724461</td>\n",
       "<td>0.4151404</td>\n",
       "<td>624.7900248</td>\n",
       "<td>729.9037727</td></tr>\n",
       "<tr><td></td>\n",
       "<td>6</td>\n",
       "<td>0.1</td>\n",
       "<td>0.4749867</td>\n",
       "<td>5.5295778</td>\n",
       "<td>6.9149369</td>\n",
       "<td>0.6172727</td>\n",
       "<td>0.5609957</td>\n",
       "<td>0.7719219</td>\n",
       "<td>0.6795276</td>\n",
       "<td>0.2763533</td>\n",
       "<td>0.6914937</td>\n",
       "<td>452.9577830</td>\n",
       "<td>591.4936915</td></tr>\n",
       "<tr><td></td>\n",
       "<td>7</td>\n",
       "<td>0.1500227</td>\n",
       "<td>0.2980344</td>\n",
       "<td>3.0755257</td>\n",
       "<td>5.6347456</td>\n",
       "<td>0.3433243</td>\n",
       "<td>0.3851948</td>\n",
       "<td>0.6290127</td>\n",
       "<td>0.5813870</td>\n",
       "<td>0.1538462</td>\n",
       "<td>0.8453398</td>\n",
       "<td>207.5525746</td>\n",
       "<td>463.4745607</td></tr>\n",
       "<tr><td></td>\n",
       "<td>8</td>\n",
       "<td>0.2</td>\n",
       "<td>0.1579737</td>\n",
       "<td>1.8079032</td>\n",
       "<td>4.6784697</td>\n",
       "<td>0.2018182</td>\n",
       "<td>0.2232151</td>\n",
       "<td>0.5222626</td>\n",
       "<td>0.4918847</td>\n",
       "<td>0.0903541</td>\n",
       "<td>0.9356939</td>\n",
       "<td>80.7903208</td>\n",
       "<td>367.8469678</td></tr>\n",
       "<tr><td></td>\n",
       "<td>9</td>\n",
       "<td>0.3</td>\n",
       "<td>0.0365934</td>\n",
       "<td>0.5128205</td>\n",
       "<td>3.2899200</td>\n",
       "<td>0.0572467</td>\n",
       "<td>0.0816861</td>\n",
       "<td>0.3672573</td>\n",
       "<td>0.3551518</td>\n",
       "<td>0.0512821</td>\n",
       "<td>0.9869760</td>\n",
       "<td>-48.7179487</td>\n",
       "<td>228.9919957</td></tr>\n",
       "<tr><td></td>\n",
       "<td>10</td>\n",
       "<td>0.4</td>\n",
       "<td>0.0122241</td>\n",
       "<td>0.1017501</td>\n",
       "<td>2.4928775</td>\n",
       "<td>0.0113585</td>\n",
       "<td>0.0209787</td>\n",
       "<td>0.2782826</td>\n",
       "<td>0.2716085</td>\n",
       "<td>0.0101750</td>\n",
       "<td>0.9971510</td>\n",
       "<td>-89.8249898</td>\n",
       "<td>149.2877493</td></tr>\n",
       "<tr><td></td>\n",
       "<td>11</td>\n",
       "<td>0.5</td>\n",
       "<td>0.0069089</td>\n",
       "<td>0.0040700</td>\n",
       "<td>1.9951160</td>\n",
       "<td>0.0004543</td>\n",
       "<td>0.0090758</td>\n",
       "<td>0.2227169</td>\n",
       "<td>0.2191020</td>\n",
       "<td>0.0004070</td>\n",
       "<td>0.9975580</td>\n",
       "<td>-99.5929996</td>\n",
       "<td>99.5115995</td></tr>\n",
       "<tr><td></td>\n",
       "<td>12</td>\n",
       "<td>0.6000454</td>\n",
       "<td>0.0052667</td>\n",
       "<td>0.0203408</td>\n",
       "<td>1.6658622</td>\n",
       "<td>0.0022707</td>\n",
       "<td>0.0060102</td>\n",
       "<td>0.1859620</td>\n",
       "<td>0.1835732</td>\n",
       "<td>0.0020350</td>\n",
       "<td>0.9995930</td>\n",
       "<td>-97.9659221</td>\n",
       "<td>66.5862188</td></tr>\n",
       "<tr><td></td>\n",
       "<td>13</td>\n",
       "<td>0.7</td>\n",
       "<td>0.0044247</td>\n",
       "<td>0.0040719</td>\n",
       "<td>1.4285714</td>\n",
       "<td>0.0004545</td>\n",
       "<td>0.0047805</td>\n",
       "<td>0.1594730</td>\n",
       "<td>0.1580430</td>\n",
       "<td>0.0004070</td>\n",
       "<td>1.0</td>\n",
       "<td>-99.5928146</td>\n",
       "<td>42.8571429</td></tr>\n",
       "<tr><td></td>\n",
       "<td>14</td>\n",
       "<td>0.8001817</td>\n",
       "<td>0.0039182</td>\n",
       "<td>0.0</td>\n",
       "<td>1.2497161</td>\n",
       "<td>0.0</td>\n",
       "<td>0.0041789</td>\n",
       "<td>0.1395072</td>\n",
       "<td>0.1387794</td>\n",
       "<td>0.0</td>\n",
       "<td>1.0</td>\n",
       "<td>-100.0</td>\n",
       "<td>24.9716103</td></tr>\n",
       "<tr><td></td>\n",
       "<td>15</td>\n",
       "<td>0.9004089</td>\n",
       "<td>0.0032327</td>\n",
       "<td>0.0</td>\n",
       "<td>1.1106065</td>\n",
       "<td>0.0</td>\n",
       "<td>0.0035860</td>\n",
       "<td>0.1239782</td>\n",
       "<td>0.1237307</td>\n",
       "<td>0.0</td>\n",
       "<td>1.0</td>\n",
       "<td>-100.0</td>\n",
       "<td>11.0606519</td></tr>\n",
       "<tr><td></td>\n",
       "<td>16</td>\n",
       "<td>1.0</td>\n",
       "<td>0.0022053</td>\n",
       "<td>0.0</td>\n",
       "<td>1.0</td>\n",
       "<td>0.0</td>\n",
       "<td>0.0029582</td>\n",
       "<td>0.1116311</td>\n",
       "<td>0.1117028</td>\n",
       "<td>0.0</td>\n",
       "<td>1.0</td>\n",
       "<td>-100.0</td>\n",
       "<td>0.0</td></tr></table></div>"
      ],
      "text/plain": [
       "    group    cumulative_data_fraction    lower_threshold    lift        cumulative_lift    response_rate    score       cumulative_response_rate    cumulative_score    capture_rate    cumulative_capture_rate    gain      cumulative_gain\n",
       "--  -------  --------------------------  -----------------  ----------  -----------------  ---------------  ----------  --------------------------  ------------------  --------------  -------------------------  --------  -----------------\n",
       "    1        0.0100409                   0.879736           8.95808     8.95808            1                0.909594    1                           0.909594            0.0899471       0.0899471                  795.808   795.808\n",
       "    2        0.0200363                   0.829341           8.7952      8.87683            0.981818         0.856438    0.99093                     0.883076            0.0879121       0.177859                   779.52    787.683\n",
       "    3        0.0300318                   0.768574           8.55089     8.76835            0.954545         0.799431    0.97882                     0.855237            0.0854701       0.263329                   755.089   776.835\n",
       "    4        0.0400273                   0.712623           7.94012     8.56152            0.886364         0.739378    0.955732                    0.826305            0.0793651       0.342694                   694.012   756.152\n",
       "    5        0.0500227                   0.660305           7.2479      8.29904            0.809091         0.684411    0.926431                    0.797952            0.0724461       0.41514                    624.79    729.904\n",
       "    6        0.1                         0.474987           5.52958     6.91494            0.617273         0.560996    0.771922                    0.679528            0.276353        0.691494                   452.958   591.494\n",
       "    7        0.150023                    0.298034           3.07553     5.63475            0.343324         0.385195    0.629013                    0.581387            0.153846        0.84534                    207.553   463.475\n",
       "    8        0.2                         0.157974           1.8079      4.67847            0.201818         0.223215    0.522263                    0.491885            0.0903541       0.935694                   80.7903   367.847\n",
       "    9        0.3                         0.0365934          0.512821    3.28992            0.0572467        0.0816861   0.367257                    0.355152            0.0512821       0.986976                   -48.7179  228.992\n",
       "    10       0.4                         0.0122241          0.10175     2.49288            0.0113585        0.0209787   0.278283                    0.271609            0.010175        0.997151                   -89.825   149.288\n",
       "    11       0.5                         0.00690891         0.00407     1.99512            0.000454339      0.00907576  0.222717                    0.219102            0.000407        0.997558                   -99.593   99.5116\n",
       "    12       0.600045                    0.00526674         0.0203408   1.66586            0.00227066       0.00601021  0.185962                    0.183573            0.002035        0.999593                   -97.9659  66.5862\n",
       "    13       0.7                         0.00442472         0.00407185  1.42857            0.000454545      0.00478047  0.159473                    0.158043            0.000407        1                          -99.5928  42.8571\n",
       "    14       0.800182                    0.00391816         0           1.24972            0                0.00417895  0.139507                    0.138779            0               1                          -100      24.9716\n",
       "    15       0.900409                    0.00323269         0           1.11061            0                0.00358603  0.123978                    0.123731            0               1                          -100      11.0607\n",
       "    16       1                           0.00220528         0           1                  0                0.00295824  0.111631                    0.111703            0               1                          -100      0"
      ]
     },
     "metadata": {},
     "output_type": "display_data"
    },
    {
     "name": "stdout",
     "output_type": "stream",
     "text": [
      "\n",
      "\n",
      "ModelMetricsBinomial: gbm\n",
      "** Reported on validation data. **\n",
      "\n",
      "MSE: 0.05888933181775405\n",
      "RMSE: 0.24267124225534853\n",
      "LogLoss: 0.18486413136924637\n",
      "Mean Per-Class Error: 0.11781383704201931\n",
      "AUC: 0.9433142503351765\n",
      "Gini: 0.8866285006703529\n",
      "Confusion Matrix (Act/Pred) for max f1 @ threshold = 0.2693306616845479: \n"
     ]
    },
    {
     "data": {
      "text/html": [
       "<div style=\"overflow:auto\"><table style=\"width:50%\"><tr><td><b></b></td>\n",
       "<td><b>0</b></td>\n",
       "<td><b>1</b></td>\n",
       "<td><b>Error</b></td>\n",
       "<td><b>Rate</b></td></tr>\n",
       "<tr><td>0</td>\n",
       "<td>4538.0</td>\n",
       "<td>421.0</td>\n",
       "<td>0.0849</td>\n",
       "<td> (421.0/4959.0)</td></tr>\n",
       "<tr><td>1</td>\n",
       "<td>131.0</td>\n",
       "<td>495.0</td>\n",
       "<td>0.2093</td>\n",
       "<td> (131.0/626.0)</td></tr>\n",
       "<tr><td>Total</td>\n",
       "<td>4669.0</td>\n",
       "<td>916.0</td>\n",
       "<td>0.0988</td>\n",
       "<td> (552.0/5585.0)</td></tr></table></div>"
      ],
      "text/plain": [
       "       0     1    Error    Rate\n",
       "-----  ----  ---  -------  --------------\n",
       "0      4538  421  0.0849   (421.0/4959.0)\n",
       "1      131   495  0.2093   (131.0/626.0)\n",
       "Total  4669  916  0.0988   (552.0/5585.0)"
      ]
     },
     "metadata": {},
     "output_type": "display_data"
    },
    {
     "name": "stdout",
     "output_type": "stream",
     "text": [
      "Maximum Metrics: Maximum metrics at their respective thresholds\n",
      "\n"
     ]
    },
    {
     "data": {
      "text/html": [
       "<div style=\"overflow:auto\"><table style=\"width:50%\"><tr><td><b>metric</b></td>\n",
       "<td><b>threshold</b></td>\n",
       "<td><b>value</b></td>\n",
       "<td><b>idx</b></td></tr>\n",
       "<tr><td>max f1</td>\n",
       "<td>0.2693307</td>\n",
       "<td>0.6420233</td>\n",
       "<td>229.0</td></tr>\n",
       "<tr><td>max f2</td>\n",
       "<td>0.1021725</td>\n",
       "<td>0.7478970</td>\n",
       "<td>301.0</td></tr>\n",
       "<tr><td>max f0point5</td>\n",
       "<td>0.5018751</td>\n",
       "<td>0.6187930</td>\n",
       "<td>139.0</td></tr>\n",
       "<tr><td>max accuracy</td>\n",
       "<td>0.5279785</td>\n",
       "<td>0.9147717</td>\n",
       "<td>129.0</td></tr>\n",
       "<tr><td>max precision</td>\n",
       "<td>0.9574008</td>\n",
       "<td>1.0</td>\n",
       "<td>0.0</td></tr>\n",
       "<tr><td>max recall</td>\n",
       "<td>0.0063121</td>\n",
       "<td>1.0</td>\n",
       "<td>384.0</td></tr>\n",
       "<tr><td>max specificity</td>\n",
       "<td>0.9574008</td>\n",
       "<td>1.0</td>\n",
       "<td>0.0</td></tr>\n",
       "<tr><td>max absolute_mcc</td>\n",
       "<td>0.2630757</td>\n",
       "<td>0.6014103</td>\n",
       "<td>232.0</td></tr>\n",
       "<tr><td>max min_per_class_accuracy</td>\n",
       "<td>0.1438068</td>\n",
       "<td>0.8706070</td>\n",
       "<td>282.0</td></tr>\n",
       "<tr><td>max mean_per_class_accuracy</td>\n",
       "<td>0.0799303</td>\n",
       "<td>0.8821862</td>\n",
       "<td>314.0</td></tr></table></div>"
      ],
      "text/plain": [
       "metric                       threshold    value     idx\n",
       "---------------------------  -----------  --------  -----\n",
       "max f1                       0.269331     0.642023  229\n",
       "max f2                       0.102172     0.747897  301\n",
       "max f0point5                 0.501875     0.618793  139\n",
       "max accuracy                 0.527978     0.914772  129\n",
       "max precision                0.957401     1         0\n",
       "max recall                   0.00631206   1         384\n",
       "max specificity              0.957401     1         0\n",
       "max absolute_mcc             0.263076     0.60141   232\n",
       "max min_per_class_accuracy   0.143807     0.870607  282\n",
       "max mean_per_class_accuracy  0.0799303    0.882186  314"
      ]
     },
     "metadata": {},
     "output_type": "display_data"
    },
    {
     "name": "stdout",
     "output_type": "stream",
     "text": [
      "Gains/Lift Table: Avg response rate: 11.21 %, avg score: 11.15 %\n",
      "\n"
     ]
    },
    {
     "data": {
      "text/html": [
       "<div style=\"overflow:auto\"><table style=\"width:50%\"><tr><td><b></b></td>\n",
       "<td><b>group</b></td>\n",
       "<td><b>cumulative_data_fraction</b></td>\n",
       "<td><b>lower_threshold</b></td>\n",
       "<td><b>lift</b></td>\n",
       "<td><b>cumulative_lift</b></td>\n",
       "<td><b>response_rate</b></td>\n",
       "<td><b>score</b></td>\n",
       "<td><b>cumulative_response_rate</b></td>\n",
       "<td><b>cumulative_score</b></td>\n",
       "<td><b>capture_rate</b></td>\n",
       "<td><b>cumulative_capture_rate</b></td>\n",
       "<td><b>gain</b></td>\n",
       "<td><b>cumulative_gain</b></td></tr>\n",
       "<tr><td></td>\n",
       "<td>1</td>\n",
       "<td>0.0100269</td>\n",
       "<td>0.8598442</td>\n",
       "<td>6.5319774</td>\n",
       "<td>6.5319774</td>\n",
       "<td>0.7321429</td>\n",
       "<td>0.8939680</td>\n",
       "<td>0.7321429</td>\n",
       "<td>0.8939680</td>\n",
       "<td>0.0654952</td>\n",
       "<td>0.0654952</td>\n",
       "<td>553.1977408</td>\n",
       "<td>553.1977408</td></tr>\n",
       "<tr><td></td>\n",
       "<td>2</td>\n",
       "<td>0.0200537</td>\n",
       "<td>0.7927883</td>\n",
       "<td>6.8506105</td>\n",
       "<td>6.6912939</td>\n",
       "<td>0.7678571</td>\n",
       "<td>0.8277990</td>\n",
       "<td>0.75</td>\n",
       "<td>0.8608835</td>\n",
       "<td>0.0686901</td>\n",
       "<td>0.1341853</td>\n",
       "<td>585.0610452</td>\n",
       "<td>569.1293930</td></tr>\n",
       "<tr><td></td>\n",
       "<td>3</td>\n",
       "<td>0.0300806</td>\n",
       "<td>0.7346142</td>\n",
       "<td>5.8947113</td>\n",
       "<td>6.4257664</td>\n",
       "<td>0.6607143</td>\n",
       "<td>0.7630453</td>\n",
       "<td>0.7202381</td>\n",
       "<td>0.8282707</td>\n",
       "<td>0.0591054</td>\n",
       "<td>0.1932907</td>\n",
       "<td>489.4711319</td>\n",
       "<td>542.5766393</td></tr>\n",
       "<tr><td></td>\n",
       "<td>4</td>\n",
       "<td>0.0401074</td>\n",
       "<td>0.6758102</td>\n",
       "<td>6.3726609</td>\n",
       "<td>6.4124900</td>\n",
       "<td>0.7142857</td>\n",
       "<td>0.7065538</td>\n",
       "<td>0.71875</td>\n",
       "<td>0.7978415</td>\n",
       "<td>0.0638978</td>\n",
       "<td>0.2571885</td>\n",
       "<td>537.2660885</td>\n",
       "<td>541.2490016</td></tr>\n",
       "<tr><td></td>\n",
       "<td>5</td>\n",
       "<td>0.0501343</td>\n",
       "<td>0.6332802</td>\n",
       "<td>5.2574452</td>\n",
       "<td>6.1814811</td>\n",
       "<td>0.5892857</td>\n",
       "<td>0.6550751</td>\n",
       "<td>0.6928571</td>\n",
       "<td>0.7692882</td>\n",
       "<td>0.0527157</td>\n",
       "<td>0.3099042</td>\n",
       "<td>425.7445230</td>\n",
       "<td>518.1481059</td></tr>\n",
       "<tr><td></td>\n",
       "<td>6</td>\n",
       "<td>0.1000895</td>\n",
       "<td>0.4720171</td>\n",
       "<td>4.9245365</td>\n",
       "<td>5.5541331</td>\n",
       "<td>0.5519713</td>\n",
       "<td>0.5468407</td>\n",
       "<td>0.6225403</td>\n",
       "<td>0.6582634</td>\n",
       "<td>0.2460064</td>\n",
       "<td>0.5559105</td>\n",
       "<td>392.4536512</td>\n",
       "<td>455.4133065</td></tr>\n",
       "<tr><td></td>\n",
       "<td>7</td>\n",
       "<td>0.1500448</td>\n",
       "<td>0.3119931</td>\n",
       "<td>3.8373012</td>\n",
       "<td>4.9825387</td>\n",
       "<td>0.4301075</td>\n",
       "<td>0.3942978</td>\n",
       "<td>0.5584726</td>\n",
       "<td>0.5703799</td>\n",
       "<td>0.1916933</td>\n",
       "<td>0.7476038</td>\n",
       "<td>283.7301178</td>\n",
       "<td>398.2538678</td></tr>\n",
       "<tr><td></td>\n",
       "<td>8</td>\n",
       "<td>0.2</td>\n",
       "<td>0.1762113</td>\n",
       "<td>2.0785381</td>\n",
       "<td>4.2571885</td>\n",
       "<td>0.2329749</td>\n",
       "<td>0.2386447</td>\n",
       "<td>0.4771710</td>\n",
       "<td>0.4875203</td>\n",
       "<td>0.1038339</td>\n",
       "<td>0.8514377</td>\n",
       "<td>107.8538138</td>\n",
       "<td>325.7188498</td></tr>\n",
       "<tr><td></td>\n",
       "<td>9</td>\n",
       "<td>0.3000895</td>\n",
       "<td>0.0390810</td>\n",
       "<td>1.1650911</td>\n",
       "<td>3.2258744</td>\n",
       "<td>0.1305903</td>\n",
       "<td>0.0871836</td>\n",
       "<td>0.3615752</td>\n",
       "<td>0.3539951</td>\n",
       "<td>0.1166134</td>\n",
       "<td>0.9680511</td>\n",
       "<td>16.5091131</td>\n",
       "<td>222.5874400</td></tr>\n",
       "<tr><td></td>\n",
       "<td>10</td>\n",
       "<td>0.4</td>\n",
       "<td>0.0122968</td>\n",
       "<td>0.2877976</td>\n",
       "<td>2.4920128</td>\n",
       "<td>0.0322581</td>\n",
       "<td>0.0220988</td>\n",
       "<td>0.2793196</td>\n",
       "<td>0.2710953</td>\n",
       "<td>0.0287540</td>\n",
       "<td>0.9968051</td>\n",
       "<td>-71.2202412</td>\n",
       "<td>149.2012780</td></tr>\n",
       "<tr><td></td>\n",
       "<td>11</td>\n",
       "<td>0.5000895</td>\n",
       "<td>0.0071336</td>\n",
       "<td>0.0159602</td>\n",
       "<td>1.9964476</td>\n",
       "<td>0.0017889</td>\n",
       "<td>0.0092906</td>\n",
       "<td>0.2237737</td>\n",
       "<td>0.2186969</td>\n",
       "<td>0.0015974</td>\n",
       "<td>0.9984026</td>\n",
       "<td>-98.4039848</td>\n",
       "<td>99.6447646</td></tr>\n",
       "<tr><td></td>\n",
       "<td>12</td>\n",
       "<td>0.6</td>\n",
       "<td>0.0052632</td>\n",
       "<td>0.0159888</td>\n",
       "<td>1.6666667</td>\n",
       "<td>0.0017921</td>\n",
       "<td>0.0060572</td>\n",
       "<td>0.1868099</td>\n",
       "<td>0.1832887</td>\n",
       "<td>0.0015974</td>\n",
       "<td>1.0</td>\n",
       "<td>-98.4011245</td>\n",
       "<td>66.6666667</td></tr>\n",
       "<tr><td></td>\n",
       "<td>13</td>\n",
       "<td>0.6999105</td>\n",
       "<td>0.0044269</td>\n",
       "<td>0.0</td>\n",
       "<td>1.4287542</td>\n",
       "<td>0.0</td>\n",
       "<td>0.0047776</td>\n",
       "<td>0.1601433</td>\n",
       "<td>0.1578067</td>\n",
       "<td>0.0</td>\n",
       "<td>1.0</td>\n",
       "<td>-100.0</td>\n",
       "<td>42.8754157</td></tr>\n",
       "<tr><td></td>\n",
       "<td>14</td>\n",
       "<td>0.8</td>\n",
       "<td>0.0039057</td>\n",
       "<td>0.0</td>\n",
       "<td>1.25</td>\n",
       "<td>0.0</td>\n",
       "<td>0.0041728</td>\n",
       "<td>0.1401074</td>\n",
       "<td>0.1385852</td>\n",
       "<td>0.0</td>\n",
       "<td>1.0</td>\n",
       "<td>-100.0</td>\n",
       "<td>25.0</td></tr>\n",
       "<tr><td></td>\n",
       "<td>15</td>\n",
       "<td>0.8999105</td>\n",
       "<td>0.0032492</td>\n",
       "<td>0.0</td>\n",
       "<td>1.1112216</td>\n",
       "<td>0.0</td>\n",
       "<td>0.0035900</td>\n",
       "<td>0.1245523</td>\n",
       "<td>0.1235977</td>\n",
       "<td>0.0</td>\n",
       "<td>1.0</td>\n",
       "<td>-100.0</td>\n",
       "<td>11.1221647</td></tr>\n",
       "<tr><td></td>\n",
       "<td>16</td>\n",
       "<td>1.0</td>\n",
       "<td>0.0023772</td>\n",
       "<td>0.0</td>\n",
       "<td>1.0</td>\n",
       "<td>0.0</td>\n",
       "<td>0.0029717</td>\n",
       "<td>0.1120859</td>\n",
       "<td>0.1115243</td>\n",
       "<td>0.0</td>\n",
       "<td>1.0</td>\n",
       "<td>-100.0</td>\n",
       "<td>0.0</td></tr></table></div>"
      ],
      "text/plain": [
       "    group    cumulative_data_fraction    lower_threshold    lift       cumulative_lift    response_rate    score       cumulative_response_rate    cumulative_score    capture_rate    cumulative_capture_rate    gain      cumulative_gain\n",
       "--  -------  --------------------------  -----------------  ---------  -----------------  ---------------  ----------  --------------------------  ------------------  --------------  -------------------------  --------  -----------------\n",
       "    1        0.0100269                   0.859844           6.53198    6.53198            0.732143         0.893968    0.732143                    0.893968            0.0654952       0.0654952                  553.198   553.198\n",
       "    2        0.0200537                   0.792788           6.85061    6.69129            0.767857         0.827799    0.75                        0.860883            0.0686901       0.134185                   585.061   569.129\n",
       "    3        0.0300806                   0.734614           5.89471    6.42577            0.660714         0.763045    0.720238                    0.828271            0.0591054       0.193291                   489.471   542.577\n",
       "    4        0.0401074                   0.67581            6.37266    6.41249            0.714286         0.706554    0.71875                     0.797841            0.0638978       0.257188                   537.266   541.249\n",
       "    5        0.0501343                   0.63328            5.25745    6.18148            0.589286         0.655075    0.692857                    0.769288            0.0527157       0.309904                   425.745   518.148\n",
       "    6        0.10009                     0.472017           4.92454    5.55413            0.551971         0.546841    0.62254                     0.658263            0.246006        0.555911                   392.454   455.413\n",
       "    7        0.150045                    0.311993           3.8373     4.98254            0.430108         0.394298    0.558473                    0.57038             0.191693        0.747604                   283.73    398.254\n",
       "    8        0.2                         0.176211           2.07854    4.25719            0.232975         0.238645    0.477171                    0.48752             0.103834        0.851438                   107.854   325.719\n",
       "    9        0.30009                     0.039081           1.16509    3.22587            0.13059          0.0871836   0.361575                    0.353995            0.116613        0.968051                   16.5091   222.587\n",
       "    10       0.4                         0.0122968          0.287798   2.49201            0.0322581        0.0220988   0.27932                     0.271095            0.028754        0.996805                   -71.2202  149.201\n",
       "    11       0.50009                     0.00713356         0.0159602  1.99645            0.00178891       0.00929065  0.223774                    0.218697            0.00159744      0.998403                   -98.404   99.6448\n",
       "    12       0.6                         0.00526318         0.0159888  1.66667            0.00179211       0.00605723  0.18681                     0.183289            0.00159744      1                          -98.4011  66.6667\n",
       "    13       0.69991                     0.00442694         0          1.42875            0                0.00477761  0.160143                    0.157807            0               1                          -100      42.8754\n",
       "    14       0.8                         0.00390567         0          1.25               0                0.00417275  0.140107                    0.138585            0               1                          -100      25\n",
       "    15       0.89991                     0.00324917         0          1.11122            0                0.00359005  0.124552                    0.123598            0               1                          -100      11.1222\n",
       "    16       1                           0.00237716         0          1                  0                0.00297168  0.112086                    0.111524            0               1                          -100      0"
      ]
     },
     "metadata": {},
     "output_type": "display_data"
    },
    {
     "name": "stdout",
     "output_type": "stream",
     "text": [
      "\n",
      "\n",
      "ModelMetricsBinomial: gbm\n",
      "** Reported on cross-validation data. **\n",
      "\n",
      "MSE: 0.05711925688669364\n",
      "RMSE: 0.23899635329162167\n",
      "LogLoss: 0.17847258763397555\n",
      "Mean Per-Class Error: 0.10816339198173186\n",
      "AUC: 0.9469413470845476\n",
      "Gini: 0.8938826941690952\n",
      "Confusion Matrix (Act/Pred) for max f1 @ threshold = 0.28869560133972993: \n"
     ]
    },
    {
     "data": {
      "text/html": [
       "<div style=\"overflow:auto\"><table style=\"width:50%\"><tr><td><b></b></td>\n",
       "<td><b>0</b></td>\n",
       "<td><b>1</b></td>\n",
       "<td><b>Error</b></td>\n",
       "<td><b>Rate</b></td></tr>\n",
       "<tr><td>0</td>\n",
       "<td>18077.0</td>\n",
       "<td>1476.0</td>\n",
       "<td>0.0755</td>\n",
       "<td> (1476.0/19553.0)</td></tr>\n",
       "<tr><td>1</td>\n",
       "<td>570.0</td>\n",
       "<td>1887.0</td>\n",
       "<td>0.232</td>\n",
       "<td> (570.0/2457.0)</td></tr>\n",
       "<tr><td>Total</td>\n",
       "<td>18647.0</td>\n",
       "<td>3363.0</td>\n",
       "<td>0.093</td>\n",
       "<td> (2046.0/22010.0)</td></tr></table></div>"
      ],
      "text/plain": [
       "       0      1     Error    Rate\n",
       "-----  -----  ----  -------  ----------------\n",
       "0      18077  1476  0.0755   (1476.0/19553.0)\n",
       "1      570    1887  0.232    (570.0/2457.0)\n",
       "Total  18647  3363  0.093    (2046.0/22010.0)"
      ]
     },
     "metadata": {},
     "output_type": "display_data"
    },
    {
     "name": "stdout",
     "output_type": "stream",
     "text": [
      "Maximum Metrics: Maximum metrics at their respective thresholds\n",
      "\n"
     ]
    },
    {
     "data": {
      "text/html": [
       "<div style=\"overflow:auto\"><table style=\"width:50%\"><tr><td><b>metric</b></td>\n",
       "<td><b>threshold</b></td>\n",
       "<td><b>value</b></td>\n",
       "<td><b>idx</b></td></tr>\n",
       "<tr><td>max f1</td>\n",
       "<td>0.2886956</td>\n",
       "<td>0.6484536</td>\n",
       "<td>228.0</td></tr>\n",
       "<tr><td>max f2</td>\n",
       "<td>0.1121465</td>\n",
       "<td>0.7622179</td>\n",
       "<td>304.0</td></tr>\n",
       "<tr><td>max f0point5</td>\n",
       "<td>0.4980863</td>\n",
       "<td>0.6159248</td>\n",
       "<td>147.0</td></tr>\n",
       "<tr><td>max accuracy</td>\n",
       "<td>0.4980863</td>\n",
       "<td>0.9145388</td>\n",
       "<td>147.0</td></tr>\n",
       "<tr><td>max precision</td>\n",
       "<td>0.9641265</td>\n",
       "<td>1.0</td>\n",
       "<td>0.0</td></tr>\n",
       "<tr><td>max recall</td>\n",
       "<td>0.0039997</td>\n",
       "<td>1.0</td>\n",
       "<td>394.0</td></tr>\n",
       "<tr><td>max specificity</td>\n",
       "<td>0.9641265</td>\n",
       "<td>1.0</td>\n",
       "<td>0.0</td></tr>\n",
       "<tr><td>max absolute_mcc</td>\n",
       "<td>0.2228134</td>\n",
       "<td>0.6073501</td>\n",
       "<td>254.0</td></tr>\n",
       "<tr><td>max min_per_class_accuracy</td>\n",
       "<td>0.1502432</td>\n",
       "<td>0.8819107</td>\n",
       "<td>286.0</td></tr>\n",
       "<tr><td>max mean_per_class_accuracy</td>\n",
       "<td>0.0855378</td>\n",
       "<td>0.8918366</td>\n",
       "<td>318.0</td></tr></table></div>"
      ],
      "text/plain": [
       "metric                       threshold    value     idx\n",
       "---------------------------  -----------  --------  -----\n",
       "max f1                       0.288696     0.648454  228\n",
       "max f2                       0.112146     0.762218  304\n",
       "max f0point5                 0.498086     0.615925  147\n",
       "max accuracy                 0.498086     0.914539  147\n",
       "max precision                0.964127     1         0\n",
       "max recall                   0.00399974   1         394\n",
       "max specificity              0.964127     1         0\n",
       "max absolute_mcc             0.222813     0.60735   254\n",
       "max min_per_class_accuracy   0.150243     0.881911  286\n",
       "max mean_per_class_accuracy  0.0855378    0.891837  318"
      ]
     },
     "metadata": {},
     "output_type": "display_data"
    },
    {
     "name": "stdout",
     "output_type": "stream",
     "text": [
      "Gains/Lift Table: Avg response rate: 11.16 %, avg score: 11.13 %\n",
      "\n"
     ]
    },
    {
     "data": {
      "text/html": [
       "<div style=\"overflow:auto\"><table style=\"width:50%\"><tr><td><b></b></td>\n",
       "<td><b>group</b></td>\n",
       "<td><b>cumulative_data_fraction</b></td>\n",
       "<td><b>lower_threshold</b></td>\n",
       "<td><b>lift</b></td>\n",
       "<td><b>cumulative_lift</b></td>\n",
       "<td><b>response_rate</b></td>\n",
       "<td><b>score</b></td>\n",
       "<td><b>cumulative_response_rate</b></td>\n",
       "<td><b>cumulative_score</b></td>\n",
       "<td><b>capture_rate</b></td>\n",
       "<td><b>cumulative_capture_rate</b></td>\n",
       "<td><b>gain</b></td>\n",
       "<td><b>cumulative_gain</b></td></tr>\n",
       "<tr><td></td>\n",
       "<td>1</td>\n",
       "<td>0.0100409</td>\n",
       "<td>0.8724061</td>\n",
       "<td>7.0529671</td>\n",
       "<td>7.0529671</td>\n",
       "<td>0.7873303</td>\n",
       "<td>0.9049093</td>\n",
       "<td>0.7873303</td>\n",
       "<td>0.9049093</td>\n",
       "<td>0.0708181</td>\n",
       "<td>0.0708181</td>\n",
       "<td>605.2967143</td>\n",
       "<td>605.2967143</td></tr>\n",
       "<tr><td></td>\n",
       "<td>2</td>\n",
       "<td>0.0200363</td>\n",
       "<td>0.8161763</td>\n",
       "<td>7.0035890</td>\n",
       "<td>7.0283341</td>\n",
       "<td>0.7818182</td>\n",
       "<td>0.8421883</td>\n",
       "<td>0.7845805</td>\n",
       "<td>0.8736199</td>\n",
       "<td>0.0700041</td>\n",
       "<td>0.1408221</td>\n",
       "<td>600.3589004</td>\n",
       "<td>602.8334058</td></tr>\n",
       "<tr><td></td>\n",
       "<td>3</td>\n",
       "<td>0.0300318</td>\n",
       "<td>0.7582179</td>\n",
       "<td>6.5556851</td>\n",
       "<td>6.8710227</td>\n",
       "<td>0.7318182</td>\n",
       "<td>0.7861980</td>\n",
       "<td>0.7670197</td>\n",
       "<td>0.8445234</td>\n",
       "<td>0.0655271</td>\n",
       "<td>0.2063492</td>\n",
       "<td>555.5685056</td>\n",
       "<td>587.1022741</td></tr>\n",
       "<tr><td></td>\n",
       "<td>4</td>\n",
       "<td>0.0400273</td>\n",
       "<td>0.7038882</td>\n",
       "<td>5.8227513</td>\n",
       "<td>6.6092524</td>\n",
       "<td>0.65</td>\n",
       "<td>0.7312582</td>\n",
       "<td>0.7377980</td>\n",
       "<td>0.8162392</td>\n",
       "<td>0.0582011</td>\n",
       "<td>0.2645503</td>\n",
       "<td>482.2751323</td>\n",
       "<td>560.9252353</td></tr>\n",
       "<tr><td></td>\n",
       "<td>5</td>\n",
       "<td>0.0500227</td>\n",
       "<td>0.6558190</td>\n",
       "<td>5.5377215</td>\n",
       "<td>6.3951408</td>\n",
       "<td>0.6181818</td>\n",
       "<td>0.6800138</td>\n",
       "<td>0.7138965</td>\n",
       "<td>0.7890189</td>\n",
       "<td>0.0553521</td>\n",
       "<td>0.3199023</td>\n",
       "<td>453.7721538</td>\n",
       "<td>539.5140837</td></tr>\n",
       "<tr><td></td>\n",
       "<td>6</td>\n",
       "<td>0.1</td>\n",
       "<td>0.4679233</td>\n",
       "<td>4.8455063</td>\n",
       "<td>5.6206756</td>\n",
       "<td>0.5409091</td>\n",
       "<td>0.5588111</td>\n",
       "<td>0.6274421</td>\n",
       "<td>0.6739673</td>\n",
       "<td>0.2421652</td>\n",
       "<td>0.5620676</td>\n",
       "<td>384.5506346</td>\n",
       "<td>462.0675621</td></tr>\n",
       "<tr><td></td>\n",
       "<td>7</td>\n",
       "<td>0.1500227</td>\n",
       "<td>0.2973242</td>\n",
       "<td>3.9379748</td>\n",
       "<td>5.0596055</td>\n",
       "<td>0.4396004</td>\n",
       "<td>0.3832351</td>\n",
       "<td>0.5648092</td>\n",
       "<td>0.5770272</td>\n",
       "<td>0.1969882</td>\n",
       "<td>0.7590558</td>\n",
       "<td>293.7974764</td>\n",
       "<td>405.9605468</td></tr>\n",
       "<tr><td></td>\n",
       "<td>8</td>\n",
       "<td>0.2</td>\n",
       "<td>0.1566044</td>\n",
       "<td>2.3535317</td>\n",
       "<td>4.3833944</td>\n",
       "<td>0.2627273</td>\n",
       "<td>0.2213958</td>\n",
       "<td>0.4893230</td>\n",
       "<td>0.4881598</td>\n",
       "<td>0.1176231</td>\n",
       "<td>0.8766789</td>\n",
       "<td>135.3531654</td>\n",
       "<td>338.3394383</td></tr>\n",
       "<tr><td></td>\n",
       "<td>9</td>\n",
       "<td>0.3</td>\n",
       "<td>0.0385784</td>\n",
       "<td>0.9808710</td>\n",
       "<td>3.2492199</td>\n",
       "<td>0.1094957</td>\n",
       "<td>0.0841636</td>\n",
       "<td>0.3627139</td>\n",
       "<td>0.3534944</td>\n",
       "<td>0.0980871</td>\n",
       "<td>0.9747660</td>\n",
       "<td>-1.9129019</td>\n",
       "<td>224.9219916</td></tr>\n",
       "<tr><td></td>\n",
       "<td>10</td>\n",
       "<td>0.4</td>\n",
       "<td>0.0123356</td>\n",
       "<td>0.1953602</td>\n",
       "<td>2.4857550</td>\n",
       "<td>0.0218083</td>\n",
       "<td>0.0217376</td>\n",
       "<td>0.2774875</td>\n",
       "<td>0.2705552</td>\n",
       "<td>0.0195360</td>\n",
       "<td>0.9943020</td>\n",
       "<td>-80.4639805</td>\n",
       "<td>148.5754986</td></tr>\n",
       "<tr><td></td>\n",
       "<td>11</td>\n",
       "<td>0.5001363</td>\n",
       "<td>0.0073488</td>\n",
       "<td>0.0325157</td>\n",
       "<td>1.9945723</td>\n",
       "<td>0.0036298</td>\n",
       "<td>0.0092804</td>\n",
       "<td>0.2226562</td>\n",
       "<td>0.2182433</td>\n",
       "<td>0.0032560</td>\n",
       "<td>0.9975580</td>\n",
       "<td>-96.7484287</td>\n",
       "<td>99.4572268</td></tr>\n",
       "<tr><td></td>\n",
       "<td>12</td>\n",
       "<td>0.6</td>\n",
       "<td>0.0052887</td>\n",
       "<td>0.0203778</td>\n",
       "<td>1.6659883</td>\n",
       "<td>0.0022748</td>\n",
       "<td>0.0061957</td>\n",
       "<td>0.1859761</td>\n",
       "<td>0.1829502</td>\n",
       "<td>0.0020350</td>\n",
       "<td>0.9995930</td>\n",
       "<td>-97.9622204</td>\n",
       "<td>66.5988333</td></tr>\n",
       "<tr><td></td>\n",
       "<td>13</td>\n",
       "<td>0.7006815</td>\n",
       "<td>0.0042833</td>\n",
       "<td>0.0</td>\n",
       "<td>1.4266011</td>\n",
       "<td>0.0</td>\n",
       "<td>0.0047240</td>\n",
       "<td>0.1592530</td>\n",
       "<td>0.1573407</td>\n",
       "<td>0.0</td>\n",
       "<td>0.9995930</td>\n",
       "<td>-100.0</td>\n",
       "<td>42.6601084</td></tr>\n",
       "<tr><td></td>\n",
       "<td>14</td>\n",
       "<td>0.8004543</td>\n",
       "<td>0.0037189</td>\n",
       "<td>0.0</td>\n",
       "<td>1.2487820</td>\n",
       "<td>0.0</td>\n",
       "<td>0.0039682</td>\n",
       "<td>0.1394029</td>\n",
       "<td>0.1382235</td>\n",
       "<td>0.0</td>\n",
       "<td>0.9995930</td>\n",
       "<td>-100.0</td>\n",
       "<td>24.8782037</td></tr>\n",
       "<tr><td></td>\n",
       "<td>15</td>\n",
       "<td>0.9</td>\n",
       "<td>0.0032850</td>\n",
       "<td>0.0040886</td>\n",
       "<td>1.1111111</td>\n",
       "<td>0.0004564</td>\n",
       "<td>0.0034989</td>\n",
       "<td>0.1240345</td>\n",
       "<td>0.1233222</td>\n",
       "<td>0.0004070</td>\n",
       "<td>1.0</td>\n",
       "<td>-99.5911420</td>\n",
       "<td>11.1111111</td></tr>\n",
       "<tr><td></td>\n",
       "<td>16</td>\n",
       "<td>1.0</td>\n",
       "<td>0.0017446</td>\n",
       "<td>0.0</td>\n",
       "<td>1.0</td>\n",
       "<td>0.0</td>\n",
       "<td>0.0028805</td>\n",
       "<td>0.1116311</td>\n",
       "<td>0.1112780</td>\n",
       "<td>0.0</td>\n",
       "<td>1.0</td>\n",
       "<td>-100.0</td>\n",
       "<td>0.0</td></tr></table></div>"
      ],
      "text/plain": [
       "    group    cumulative_data_fraction    lower_threshold    lift        cumulative_lift    response_rate    score       cumulative_response_rate    cumulative_score    capture_rate    cumulative_capture_rate    gain      cumulative_gain\n",
       "--  -------  --------------------------  -----------------  ----------  -----------------  ---------------  ----------  --------------------------  ------------------  --------------  -------------------------  --------  -----------------\n",
       "    1        0.0100409                   0.872406           7.05297     7.05297            0.78733          0.904909    0.78733                     0.904909            0.0708181       0.0708181                  605.297   605.297\n",
       "    2        0.0200363                   0.816176           7.00359     7.02833            0.781818         0.842188    0.78458                     0.87362             0.0700041       0.140822                   600.359   602.833\n",
       "    3        0.0300318                   0.758218           6.55569     6.87102            0.731818         0.786198    0.76702                     0.844523            0.0655271       0.206349                   555.569   587.102\n",
       "    4        0.0400273                   0.703888           5.82275     6.60925            0.65             0.731258    0.737798                    0.816239            0.0582011       0.26455                    482.275   560.925\n",
       "    5        0.0500227                   0.655819           5.53772     6.39514            0.618182         0.680014    0.713896                    0.789019            0.0553521       0.319902                   453.772   539.514\n",
       "    6        0.1                         0.467923           4.84551     5.62068            0.540909         0.558811    0.627442                    0.673967            0.242165        0.562068                   384.551   462.068\n",
       "    7        0.150023                    0.297324           3.93797     5.05961            0.4396           0.383235    0.564809                    0.577027            0.196988        0.759056                   293.797   405.961\n",
       "    8        0.2                         0.156604           2.35353     4.38339            0.262727         0.221396    0.489323                    0.48816             0.117623        0.876679                   135.353   338.339\n",
       "    9        0.3                         0.0385784          0.980871    3.24922            0.109496         0.0841636   0.362714                    0.353494            0.0980871       0.974766                   -1.9129   224.922\n",
       "    10       0.4                         0.0123356          0.19536     2.48575            0.0218083        0.0217376   0.277488                    0.270555            0.019536        0.994302                   -80.464   148.575\n",
       "    11       0.500136                    0.00734879         0.0325157   1.99457            0.00362976       0.00928044  0.222656                    0.218243            0.003256        0.997558                   -96.7484  99.4572\n",
       "    12       0.6                         0.00528874         0.0203778   1.66599            0.0022748        0.00619567  0.185976                    0.18295             0.002035        0.999593                   -97.9622  66.5988\n",
       "    13       0.700682                    0.00428335         0           1.4266             0                0.00472398  0.159253                    0.157341            0               0.999593                   -100      42.6601\n",
       "    14       0.800454                    0.0037189          0           1.24878            0                0.00396815  0.139403                    0.138224            0               0.999593                   -100      24.8782\n",
       "    15       0.9                         0.00328499         0.00408858  1.11111            0.000456413      0.00349895  0.124035                    0.123322            0.000407        1                          -99.5911  11.1111\n",
       "    16       1                           0.00174462         0           1                  0                0.0028805   0.111631                    0.111278            0               1                          -100      0"
      ]
     },
     "metadata": {},
     "output_type": "display_data"
    },
    {
     "name": "stdout",
     "output_type": "stream",
     "text": [
      "\n",
      "Cross-Validation Metrics Summary: \n"
     ]
    },
    {
     "data": {
      "text/html": [
       "<div style=\"overflow:auto\"><table style=\"width:50%\"><tr><td><b></b></td>\n",
       "<td><b>mean</b></td>\n",
       "<td><b>sd</b></td>\n",
       "<td><b>cv_1_valid</b></td>\n",
       "<td><b>cv_2_valid</b></td>\n",
       "<td><b>cv_3_valid</b></td>\n",
       "<td><b>cv_4_valid</b></td>\n",
       "<td><b>cv_5_valid</b></td></tr>\n",
       "<tr><td>accuracy</td>\n",
       "<td>0.9074511</td>\n",
       "<td>0.0039616</td>\n",
       "<td>0.9079964</td>\n",
       "<td>0.9145843</td>\n",
       "<td>0.9084507</td>\n",
       "<td>0.8973194</td>\n",
       "<td>0.908905</td></tr>\n",
       "<tr><td>auc</td>\n",
       "<td>0.9470167</td>\n",
       "<td>0.0013406</td>\n",
       "<td>0.9487353</td>\n",
       "<td>0.9443765</td>\n",
       "<td>0.9452662</td>\n",
       "<td>0.9475119</td>\n",
       "<td>0.9491938</td></tr>\n",
       "<tr><td>err</td>\n",
       "<td>0.0925488</td>\n",
       "<td>0.0039616</td>\n",
       "<td>0.0920036</td>\n",
       "<td>0.0854157</td>\n",
       "<td>0.0915493</td>\n",
       "<td>0.1026806</td>\n",
       "<td>0.0910950</td></tr>\n",
       "<tr><td>err_count</td>\n",
       "<td>407.4</td>\n",
       "<td>17.439037</td>\n",
       "<td>405.0</td>\n",
       "<td>376.0</td>\n",
       "<td>403.0</td>\n",
       "<td>452.0</td>\n",
       "<td>401.0</td></tr>\n",
       "<tr><td>f0point5</td>\n",
       "<td>0.5958131</td>\n",
       "<td>0.0209277</td>\n",
       "<td>0.6137184</td>\n",
       "<td>0.6139154</td>\n",
       "<td>0.6132686</td>\n",
       "<td>0.5374782</td>\n",
       "<td>0.6006847</td></tr>\n",
       "<tr><td>f1</td>\n",
       "<td>0.6514143</td>\n",
       "<td>0.0114021</td>\n",
       "<td>0.6683047</td>\n",
       "<td>0.6569343</td>\n",
       "<td>0.6528854</td>\n",
       "<td>0.6208054</td>\n",
       "<td>0.6581415</td></tr>\n",
       "<tr><td>f2</td>\n",
       "<td>0.7200845</td>\n",
       "<td>0.0106261</td>\n",
       "<td>0.7335491</td>\n",
       "<td>0.7064364</td>\n",
       "<td>0.6979742</td>\n",
       "<td>0.7347101</td>\n",
       "<td>0.7277526</td></tr>\n",
       "<tr><td>lift_top_group</td>\n",
       "<td>7.0331755</td>\n",
       "<td>0.3626479</td>\n",
       "<td>6.772308</td>\n",
       "<td>7.073921</td>\n",
       "<td>6.231918</td>\n",
       "<td>7.746104</td>\n",
       "<td>7.341627</td></tr>\n",
       "<tr><td>logloss</td>\n",
       "<td>0.1784726</td>\n",
       "<td>0.0046557</td>\n",
       "<td>0.1815459</td>\n",
       "<td>0.1803451</td>\n",
       "<td>0.1872931</td>\n",
       "<td>0.1676367</td>\n",
       "<td>0.1755422</td></tr>\n",
       "<tr><td>max_per_class_error</td>\n",
       "<td>0.2239714</td>\n",
       "<td>0.0261900</td>\n",
       "<td>0.2153846</td>\n",
       "<td>0.2561984</td>\n",
       "<td>0.2683398</td>\n",
       "<td>0.1628959</td>\n",
       "<td>0.2170385</td></tr>\n",
       "<tr><td>mcc</td>\n",
       "<td>0.6110943</td>\n",
       "<td>0.0079938</td>\n",
       "<td>0.6255214</td>\n",
       "<td>0.6143817</td>\n",
       "<td>0.6055186</td>\n",
       "<td>0.5924689</td>\n",
       "<td>0.6175808</td></tr>\n",
       "<tr><td>mean_per_class_accuracy</td>\n",
       "<td>0.8501206</td>\n",
       "<td>0.0094546</td>\n",
       "<td>0.8545694</td>\n",
       "<td>0.8397416</td>\n",
       "<td>0.8318445</td>\n",
       "<td>0.8705722</td>\n",
       "<td>0.8538752</td></tr>\n",
       "<tr><td>mean_per_class_error</td>\n",
       "<td>0.1498794</td>\n",
       "<td>0.0094546</td>\n",
       "<td>0.1454306</td>\n",
       "<td>0.1602584</td>\n",
       "<td>0.1681555</td>\n",
       "<td>0.1294278</td>\n",
       "<td>0.1461248</td></tr>\n",
       "<tr><td>mse</td>\n",
       "<td>0.0571193</td>\n",
       "<td>0.0014100</td>\n",
       "<td>0.0583673</td>\n",
       "<td>0.0574488</td>\n",
       "<td>0.0597318</td>\n",
       "<td>0.0538816</td>\n",
       "<td>0.0561668</td></tr>\n",
       "<tr><td>precision</td>\n",
       "<td>0.5641332</td>\n",
       "<td>0.0256236</td>\n",
       "<td>0.5820257</td>\n",
       "<td>0.5882353</td>\n",
       "<td>0.5894246</td>\n",
       "<td>0.4933333</td>\n",
       "<td>0.5676470</td></tr>\n",
       "<tr><td>r2</td>\n",
       "<td>0.4232167</td>\n",
       "<td>0.0095576</td>\n",
       "<td>0.4397128</td>\n",
       "<td>0.4129555</td>\n",
       "<td>0.4246965</td>\n",
       "<td>0.4034828</td>\n",
       "<td>0.4352358</td></tr>\n",
       "<tr><td>recall</td>\n",
       "<td>0.7760286</td>\n",
       "<td>0.0261900</td>\n",
       "<td>0.7846154</td>\n",
       "<td>0.7438016</td>\n",
       "<td>0.7316603</td>\n",
       "<td>0.8371041</td>\n",
       "<td>0.7829615</td></tr>\n",
       "<tr><td>rmse</td>\n",
       "<td>0.2389597</td>\n",
       "<td>0.0029606</td>\n",
       "<td>0.2415932</td>\n",
       "<td>0.2396847</td>\n",
       "<td>0.244401</td>\n",
       "<td>0.2321241</td>\n",
       "<td>0.2369953</td></tr>\n",
       "<tr><td>specificity</td>\n",
       "<td>0.9242126</td>\n",
       "<td>0.0077458</td>\n",
       "<td>0.9245234</td>\n",
       "<td>0.9356815</td>\n",
       "<td>0.9320288</td>\n",
       "<td>0.9040404</td>\n",
       "<td>0.9247890</td></tr></table></div>"
      ],
      "text/plain": [
       "                         mean       sd          cv_1_valid    cv_2_valid    cv_3_valid    cv_4_valid    cv_5_valid\n",
       "-----------------------  ---------  ----------  ------------  ------------  ------------  ------------  ------------\n",
       "accuracy                 0.907451   0.00396162  0.907996      0.914584      0.908451      0.897319      0.908905\n",
       "auc                      0.947017   0.00134064  0.948735      0.944376      0.945266      0.947512      0.949194\n",
       "err                      0.0925488  0.00396162  0.0920036     0.0854157     0.0915493     0.102681      0.091095\n",
       "err_count                407.4      17.439      405           376           403           452           401\n",
       "f0point5                 0.595813   0.0209277   0.613718      0.613915      0.613269      0.537478      0.600685\n",
       "f1                       0.651414   0.0114021   0.668305      0.656934      0.652885      0.620805      0.658142\n",
       "f2                       0.720085   0.0106261   0.733549      0.706436      0.697974      0.73471       0.727753\n",
       "lift_top_group           7.03318    0.362648    6.77231       7.07392       6.23192       7.7461        7.34163\n",
       "logloss                  0.178473   0.00465572  0.181546      0.180345      0.187293      0.167637      0.175542\n",
       "max_per_class_error      0.223971   0.02619     0.215385      0.256198      0.26834       0.162896      0.217039\n",
       "mcc                      0.611094   0.00799383  0.625521      0.614382      0.605519      0.592469      0.617581\n",
       "mean_per_class_accuracy  0.850121   0.00945461  0.854569      0.839742      0.831844      0.870572      0.853875\n",
       "mean_per_class_error     0.149879   0.00945461  0.145431      0.160258      0.168155      0.129428      0.146125\n",
       "mse                      0.0571193  0.00141002  0.0583673     0.0574488     0.0597318     0.0538816     0.0561668\n",
       "precision                0.564133   0.0256236   0.582026      0.588235      0.589425      0.493333      0.567647\n",
       "r2                       0.423217   0.00955765  0.439713      0.412956      0.424696      0.403483      0.435236\n",
       "recall                   0.776029   0.02619     0.784615      0.743802      0.73166       0.837104      0.782961\n",
       "rmse                     0.23896    0.00296063  0.241593      0.239685      0.244401      0.232124      0.236995\n",
       "specificity              0.924213   0.0077458   0.924523      0.935681      0.932029      0.90404       0.924789"
      ]
     },
     "metadata": {},
     "output_type": "display_data"
    },
    {
     "name": "stdout",
     "output_type": "stream",
     "text": [
      "Scoring History: \n"
     ]
    },
    {
     "data": {
      "text/html": [
       "<div style=\"overflow:auto\"><table style=\"width:50%\"><tr><td><b></b></td>\n",
       "<td><b>timestamp</b></td>\n",
       "<td><b>duration</b></td>\n",
       "<td><b>number_of_trees</b></td>\n",
       "<td><b>training_rmse</b></td>\n",
       "<td><b>training_logloss</b></td>\n",
       "<td><b>training_auc</b></td>\n",
       "<td><b>training_lift</b></td>\n",
       "<td><b>training_classification_error</b></td>\n",
       "<td><b>validation_rmse</b></td>\n",
       "<td><b>validation_logloss</b></td>\n",
       "<td><b>validation_auc</b></td>\n",
       "<td><b>validation_lift</b></td>\n",
       "<td><b>validation_classification_error</b></td></tr>\n",
       "<tr><td></td>\n",
       "<td>2018-09-14 01:10:36</td>\n",
       "<td> 5.293 sec</td>\n",
       "<td>0.0</td>\n",
       "<td>0.3149120</td>\n",
       "<td>0.3499120</td>\n",
       "<td>0.5</td>\n",
       "<td>1.0</td>\n",
       "<td>0.8883689</td>\n",
       "<td>0.3154725</td>\n",
       "<td>0.3508554</td>\n",
       "<td>0.5</td>\n",
       "<td>1.0</td>\n",
       "<td>0.8879141</td></tr>\n",
       "<tr><td></td>\n",
       "<td>2018-09-14 01:10:36</td>\n",
       "<td> 5.340 sec</td>\n",
       "<td>5.0</td>\n",
       "<td>0.2607459</td>\n",
       "<td>0.2361357</td>\n",
       "<td>0.9536227</td>\n",
       "<td>8.3658093</td>\n",
       "<td>0.0794639</td>\n",
       "<td>0.2691412</td>\n",
       "<td>0.2486147</td>\n",
       "<td>0.9384399</td>\n",
       "<td>6.8506105</td>\n",
       "<td>0.0927484</td></tr>\n",
       "<tr><td></td>\n",
       "<td>2018-09-14 01:10:36</td>\n",
       "<td> 5.398 sec</td>\n",
       "<td>10.0</td>\n",
       "<td>0.2379741</td>\n",
       "<td>0.1976298</td>\n",
       "<td>0.9573388</td>\n",
       "<td>8.6338046</td>\n",
       "<td>0.0765561</td>\n",
       "<td>0.2525285</td>\n",
       "<td>0.2160748</td>\n",
       "<td>0.9403532</td>\n",
       "<td>6.4173813</td>\n",
       "<td>0.0966876</td></tr>\n",
       "<tr><td></td>\n",
       "<td>2018-09-14 01:10:36</td>\n",
       "<td> 5.458 sec</td>\n",
       "<td>15.0</td>\n",
       "<td>0.2278332</td>\n",
       "<td>0.1790372</td>\n",
       "<td>0.9588279</td>\n",
       "<td>8.7959418</td>\n",
       "<td>0.0774648</td>\n",
       "<td>0.2463882</td>\n",
       "<td>0.2017238</td>\n",
       "<td>0.9412141</td>\n",
       "<td>6.8506105</td>\n",
       "<td>0.0966876</td></tr>\n",
       "<tr><td></td>\n",
       "<td>2018-09-14 01:10:36</td>\n",
       "<td> 5.516 sec</td>\n",
       "<td>20.0</td>\n",
       "<td>0.2218441</td>\n",
       "<td>0.1670544</td>\n",
       "<td>0.9617085</td>\n",
       "<td>8.7973959</td>\n",
       "<td>0.0763289</td>\n",
       "<td>0.2438113</td>\n",
       "<td>0.1940604</td>\n",
       "<td>0.9422414</td>\n",
       "<td>7.1692435</td>\n",
       "<td>0.0950761</td></tr>\n",
       "<tr><td></td>\n",
       "<td>2018-09-14 01:10:36</td>\n",
       "<td> 5.576 sec</td>\n",
       "<td>25.0</td>\n",
       "<td>0.2182739</td>\n",
       "<td>0.1600175</td>\n",
       "<td>0.9631425</td>\n",
       "<td>8.8770104</td>\n",
       "<td>0.0726034</td>\n",
       "<td>0.2430008</td>\n",
       "<td>0.1903418</td>\n",
       "<td>0.9424297</td>\n",
       "<td>7.0099270</td>\n",
       "<td>0.1024172</td></tr>\n",
       "<tr><td></td>\n",
       "<td>2018-09-14 01:10:36</td>\n",
       "<td> 5.634 sec</td>\n",
       "<td>30.0</td>\n",
       "<td>0.2151892</td>\n",
       "<td>0.1540023</td>\n",
       "<td>0.9649416</td>\n",
       "<td>8.9175447</td>\n",
       "<td>0.0682417</td>\n",
       "<td>0.2424687</td>\n",
       "<td>0.1876467</td>\n",
       "<td>0.9425909</td>\n",
       "<td>7.1692435</td>\n",
       "<td>0.0965085</td></tr>\n",
       "<tr><td></td>\n",
       "<td>2018-09-14 01:10:36</td>\n",
       "<td> 5.693 sec</td>\n",
       "<td>35.0</td>\n",
       "<td>0.2126860</td>\n",
       "<td>0.1499959</td>\n",
       "<td>0.9662995</td>\n",
       "<td>8.9580790</td>\n",
       "<td>0.0671513</td>\n",
       "<td>0.2424464</td>\n",
       "<td>0.1864968</td>\n",
       "<td>0.9428923</td>\n",
       "<td>7.3285600</td>\n",
       "<td>0.0961504</td></tr>\n",
       "<tr><td></td>\n",
       "<td>2018-09-14 01:10:36</td>\n",
       "<td> 5.752 sec</td>\n",
       "<td>40.0</td>\n",
       "<td>0.2108363</td>\n",
       "<td>0.1466049</td>\n",
       "<td>0.9674365</td>\n",
       "<td>8.9580790</td>\n",
       "<td>0.0666970</td>\n",
       "<td>0.2423247</td>\n",
       "<td>0.1852978</td>\n",
       "<td>0.9430404</td>\n",
       "<td>7.0099270</td>\n",
       "<td>0.0981200</td></tr>\n",
       "<tr><td></td>\n",
       "<td>2018-09-14 01:10:36</td>\n",
       "<td> 5.811 sec</td>\n",
       "<td>45.0</td>\n",
       "<td>0.2092082</td>\n",
       "<td>0.1441105</td>\n",
       "<td>0.9683072</td>\n",
       "<td>8.9580790</td>\n",
       "<td>0.0640618</td>\n",
       "<td>0.2426183</td>\n",
       "<td>0.1851469</td>\n",
       "<td>0.9430150</td>\n",
       "<td>7.1692435</td>\n",
       "<td>0.0982990</td></tr>\n",
       "<tr><td></td>\n",
       "<td>2018-09-14 01:10:37</td>\n",
       "<td> 5.881 sec</td>\n",
       "<td>50.0</td>\n",
       "<td>0.2072663</td>\n",
       "<td>0.1413470</td>\n",
       "<td>0.9693804</td>\n",
       "<td>8.9580790</td>\n",
       "<td>0.0650159</td>\n",
       "<td>0.2426377</td>\n",
       "<td>0.1847204</td>\n",
       "<td>0.9431374</td>\n",
       "<td>6.8506105</td>\n",
       "<td>0.0990152</td></tr>\n",
       "<tr><td></td>\n",
       "<td>2018-09-14 01:10:37</td>\n",
       "<td> 5.940 sec</td>\n",
       "<td>55.0</td>\n",
       "<td>0.2057860</td>\n",
       "<td>0.1394942</td>\n",
       "<td>0.9701989</td>\n",
       "<td>8.9580790</td>\n",
       "<td>0.0631077</td>\n",
       "<td>0.2427049</td>\n",
       "<td>0.1847771</td>\n",
       "<td>0.9432411</td>\n",
       "<td>6.6912939</td>\n",
       "<td>0.0988362</td></tr>\n",
       "<tr><td></td>\n",
       "<td>2018-09-14 01:10:37</td>\n",
       "<td> 6.000 sec</td>\n",
       "<td>60.0</td>\n",
       "<td>0.2040744</td>\n",
       "<td>0.1376425</td>\n",
       "<td>0.9711200</td>\n",
       "<td>8.9580790</td>\n",
       "<td>0.0569741</td>\n",
       "<td>0.2426455</td>\n",
       "<td>0.1848271</td>\n",
       "<td>0.9432553</td>\n",
       "<td>6.6912939</td>\n",
       "<td>0.1000895</td></tr>\n",
       "<tr><td></td>\n",
       "<td>2018-09-14 01:10:37</td>\n",
       "<td> 6.031 sec</td>\n",
       "<td>61.0</td>\n",
       "<td>0.2037962</td>\n",
       "<td>0.1373007</td>\n",
       "<td>0.9712880</td>\n",
       "<td>8.9580790</td>\n",
       "<td>0.0567469</td>\n",
       "<td>0.2426712</td>\n",
       "<td>0.1848641</td>\n",
       "<td>0.9433143</td>\n",
       "<td>6.5319774</td>\n",
       "<td>0.0988362</td></tr></table></div>"
      ],
      "text/plain": [
       "    timestamp            duration    number_of_trees    training_rmse    training_logloss    training_auc    training_lift    training_classification_error    validation_rmse    validation_logloss    validation_auc    validation_lift    validation_classification_error\n",
       "--  -------------------  ----------  -----------------  ---------------  ------------------  --------------  ---------------  -------------------------------  -----------------  --------------------  ----------------  -----------------  ---------------------------------\n",
       "    2018-09-14 01:10:36  5.293 sec   0                  0.314912         0.349912            0.5             1                0.888369                         0.315472           0.350855              0.5               1                  0.887914\n",
       "    2018-09-14 01:10:36  5.340 sec   5                  0.260746         0.236136            0.953623        8.36581          0.0794639                        0.269141           0.248615              0.93844           6.85061            0.0927484\n",
       "    2018-09-14 01:10:36  5.398 sec   10                 0.237974         0.19763             0.957339        8.6338           0.0765561                        0.252529           0.216075              0.940353          6.41738            0.0966876\n",
       "    2018-09-14 01:10:36  5.458 sec   15                 0.227833         0.179037            0.958828        8.79594          0.0774648                        0.246388           0.201724              0.941214          6.85061            0.0966876\n",
       "    2018-09-14 01:10:36  5.516 sec   20                 0.221844         0.167054            0.961709        8.7974           0.0763289                        0.243811           0.19406               0.942241          7.16924            0.0950761\n",
       "    2018-09-14 01:10:36  5.576 sec   25                 0.218274         0.160017            0.963142        8.87701          0.0726034                        0.243001           0.190342              0.94243           7.00993            0.102417\n",
       "    2018-09-14 01:10:36  5.634 sec   30                 0.215189         0.154002            0.964942        8.91754          0.0682417                        0.242469           0.187647              0.942591          7.16924            0.0965085\n",
       "    2018-09-14 01:10:36  5.693 sec   35                 0.212686         0.149996            0.9663          8.95808          0.0671513                        0.242446           0.186497              0.942892          7.32856            0.0961504\n",
       "    2018-09-14 01:10:36  5.752 sec   40                 0.210836         0.146605            0.967437        8.95808          0.066697                         0.242325           0.185298              0.94304           7.00993            0.09812\n",
       "    2018-09-14 01:10:36  5.811 sec   45                 0.209208         0.14411             0.968307        8.95808          0.0640618                        0.242618           0.185147              0.943015          7.16924            0.098299\n",
       "    2018-09-14 01:10:37  5.881 sec   50                 0.207266         0.141347            0.96938         8.95808          0.0650159                        0.242638           0.18472               0.943137          6.85061            0.0990152\n",
       "    2018-09-14 01:10:37  5.940 sec   55                 0.205786         0.139494            0.970199        8.95808          0.0631077                        0.242705           0.184777              0.943241          6.69129            0.0988362\n",
       "    2018-09-14 01:10:37  6.000 sec   60                 0.204074         0.137642            0.97112         8.95808          0.0569741                        0.242645           0.184827              0.943255          6.69129            0.10009\n",
       "    2018-09-14 01:10:37  6.031 sec   61                 0.203796         0.137301            0.971288        8.95808          0.0567469                        0.242671           0.184864              0.943314          6.53198            0.0988362"
      ]
     },
     "metadata": {},
     "output_type": "display_data"
    },
    {
     "name": "stdout",
     "output_type": "stream",
     "text": [
      "Variable Importances: \n"
     ]
    },
    {
     "data": {
      "text/html": [
       "<div style=\"overflow:auto\"><table style=\"width:50%\"><tr><td><b>variable</b></td>\n",
       "<td><b>relative_importance</b></td>\n",
       "<td><b>scaled_importance</b></td>\n",
       "<td><b>percentage</b></td></tr>\n",
       "<tr><td>duration</td>\n",
       "<td>2452.375</td>\n",
       "<td>1.0</td>\n",
       "<td>0.4286723</td></tr>\n",
       "<tr><td>nr.employed</td>\n",
       "<td>1182.6361084</td>\n",
       "<td>0.4822411</td>\n",
       "<td>0.2067234</td></tr>\n",
       "<tr><td>euribor3m</td>\n",
       "<td>829.0327759</td>\n",
       "<td>0.3380530</td>\n",
       "<td>0.1449140</td></tr>\n",
       "<tr><td>age</td>\n",
       "<td>324.7643738</td>\n",
       "<td>0.1324285</td>\n",
       "<td>0.0567684</td></tr>\n",
       "<tr><td>pdays</td>\n",
       "<td>225.9858856</td>\n",
       "<td>0.0921498</td>\n",
       "<td>0.0395021</td></tr>\n",
       "<tr><td>cons.conf.idx</td>\n",
       "<td>213.4607849</td>\n",
       "<td>0.0870425</td>\n",
       "<td>0.0373127</td></tr>\n",
       "<tr><td>cons.price.idx</td>\n",
       "<td>177.4157715</td>\n",
       "<td>0.0723445</td>\n",
       "<td>0.0310121</td></tr>\n",
       "<tr><td>campaign</td>\n",
       "<td>152.2394257</td>\n",
       "<td>0.0620784</td>\n",
       "<td>0.0266113</td></tr>\n",
       "<tr><td>emp.var.rate</td>\n",
       "<td>92.4748154</td>\n",
       "<td>0.0377083</td>\n",
       "<td>0.0161645</td></tr>\n",
       "<tr><td>previous</td>\n",
       "<td>70.4770050</td>\n",
       "<td>0.0287383</td>\n",
       "<td>0.0123193</td></tr></table></div>"
      ],
      "text/plain": [
       "variable        relative_importance    scaled_importance    percentage\n",
       "--------------  ---------------------  -------------------  ------------\n",
       "duration        2452.38                1                    0.428672\n",
       "nr.employed     1182.64                0.482241             0.206723\n",
       "euribor3m       829.033                0.338053             0.144914\n",
       "age             324.764                0.132429             0.0567684\n",
       "pdays           225.986                0.0921498            0.0395021\n",
       "cons.conf.idx   213.461                0.0870425            0.0373127\n",
       "cons.price.idx  177.416                0.0723445            0.0310121\n",
       "campaign        152.239                0.0620784            0.0266113\n",
       "emp.var.rate    92.4748                0.0377083            0.0161645\n",
       "previous        70.477                 0.0287383            0.0123193"
      ]
     },
     "metadata": {},
     "output_type": "display_data"
    },
    {
     "data": {
      "text/plain": []
     },
     "execution_count": 115,
     "metadata": {},
     "output_type": "execute_result"
    }
   ],
   "source": [
    "aml.leader"
   ]
  },
  {
   "cell_type": "code",
   "execution_count": null,
   "metadata": {
    "collapsed": true
   },
   "outputs": [],
   "source": []
  }
 ],
 "metadata": {
  "kernelspec": {
   "display_name": "Python 3",
   "language": "python",
   "name": "python3"
  },
  "language_info": {
   "codemirror_mode": {
    "name": "ipython",
    "version": 3
   },
   "file_extension": ".py",
   "mimetype": "text/x-python",
   "name": "python",
   "nbconvert_exporter": "python",
   "pygments_lexer": "ipython3",
   "version": "3.6.6"
  }
 },
 "nbformat": 4,
 "nbformat_minor": 2
}
