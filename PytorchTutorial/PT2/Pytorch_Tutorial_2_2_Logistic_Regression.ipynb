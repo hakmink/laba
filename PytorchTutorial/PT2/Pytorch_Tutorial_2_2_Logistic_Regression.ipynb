{
 "cells": [
  {
   "cell_type": "code",
   "execution_count": 1,
   "metadata": {
    "ExecuteTime": {
     "end_time": "2018-09-25T11:36:03.442218Z",
     "start_time": "2018-09-25T11:36:01.548903Z"
    }
   },
   "outputs": [],
   "source": [
    "import torch\n",
    "import torch.nn as nn\n",
    "from torch.autograd import Variable\n",
    "import torch.optim as optim\n",
    "import torch.nn.functional as F\n",
    "import numpy as np\n",
    "\n",
    "torch.manual_seed(1)\n",
    "\n",
    "import pandas as pd\n",
    "import matplotlib.pyplot as plt\n",
    "from matplotlib.colors import ListedColormap\n",
    "\n",
    "%matplotlib inline"
   ]
  },
  {
   "cell_type": "markdown",
   "metadata": {
    "ExecuteTime": {
     "end_time": "2018-07-21T09:09:49.176019Z",
     "start_time": "2018-07-21T09:09:49.170724Z"
    }
   },
   "source": [
    "# What is a Logistic regression\n",
    "- 로지스틱 회귀는 독립 변수의 선형결합을 이용하여 사건의 발생 가능성을 예측하는 기법임.\n",
    "- $log(\\frac{y}{1-y})=X\\beta+ \\alpha$\n",
    "- $log(y)= \\frac{1}{\\exp -(X\\beta+\\alpha)+1}$\n",
    "\n",
    "<img src='./images/logistic_regression.png' width=300 align=left>"
   ]
  },
  {
   "cell_type": "markdown",
   "metadata": {},
   "source": [
    "### 1. 데이터 생성"
   ]
  },
  {
   "cell_type": "code",
   "execution_count": 2,
   "metadata": {
    "ExecuteTime": {
     "end_time": "2018-09-25T11:36:06.404542Z",
     "start_time": "2018-09-25T11:36:06.368154Z"
    }
   },
   "outputs": [
    {
     "name": "stdout",
     "output_type": "stream",
     "text": [
      "torch.Size([100]) torch.Size([100]) torch.Size([100, 2])\n",
      "torch.Size([100, 1])\n"
     ]
    }
   ],
   "source": [
    "x1= torch.arange(1,101).float() + torch.randn(100)\n",
    "x2 = torch.cat([torch.zeros(50)+torch.abs(torch.randn(50)),torch.ones(50)-torch.abs(torch.randn(50))])\n",
    "x= torch.cat([x1.unsqueeze(1), x2.unsqueeze(1)],1)\n",
    "print(x1.shape, x2.shape, x.shape)\n",
    "\n",
    "y= torch.cat([torch.zeros(50), torch.ones(50)])\n",
    "y= y.unsqueeze(1)\n",
    "print(y.shape)"
   ]
  },
  {
   "cell_type": "code",
   "execution_count": 3,
   "metadata": {
    "ExecuteTime": {
     "end_time": "2018-09-25T11:36:08.402085Z",
     "start_time": "2018-09-25T11:36:08.043660Z"
    },
    "scrolled": true
   },
   "outputs": [
    {
     "data": {
      "image/png": "[encoded data removed]",
      "text/plain": [
       "<Figure size 432x288 with 1 Axes>"
      ]
     },
     "metadata": {
      "needs_background": "light"
     },
     "output_type": "display_data"
    }
   ],
   "source": [
    "fig, ax= plt.subplots()\n",
    "ax.plot(x[:,0].numpy()[:50], x[:,1].numpy()[:50],'o',label='negative')\n",
    "ax.plot(x[:,0].numpy()[50:], x[:,1].numpy()[50:], 'ro', label='positive')\n",
    "ax.legend()\n",
    "plt.show()"
   ]
  },
  {
   "cell_type": "markdown",
   "metadata": {},
   "source": [
    "### 2. 모델링\n",
    "- $log(y)= \\frac{1}{\\exp -(X\\beta+\\alpha)+1}$"
   ]
  },
  {
   "cell_type": "code",
   "execution_count": 4,
   "metadata": {
    "ExecuteTime": {
     "end_time": "2018-09-25T11:36:11.719028Z",
     "start_time": "2018-09-25T11:36:11.680291Z"
    }
   },
   "outputs": [
    {
     "name": "stdout",
     "output_type": "stream",
     "text": [
      "('0.weight', Parameter containing:\n",
      "tensor([[-0.4707,  0.5823]], requires_grad=True))\n",
      "('0.bias', Parameter containing:\n",
      "tensor([0.6233], requires_grad=True))\n",
      "<output> : tensor([0.7291], grad_fn=<SelectBackward>)\n"
     ]
    }
   ],
   "source": [
    "model= nn.Sequential(nn.Linear(2,1), nn.Sigmoid())\n",
    "\n",
    "for param in model.named_parameters():\n",
    "    print(param)\n",
    "    \n",
    "output= model(x)\n",
    "print('<output> :',output[0]) # 0~1사이"
   ]
  },
  {
   "cell_type": "markdown",
   "metadata": {},
   "source": [
    "### 3. 로스함수\n",
    "- 분류문제에서는 주로 cross entropy error를 사용함.\n",
    "$$loss(\\hat{y}, y) = - \\frac{1}{n} \\sum_i (\\hat{y}_{i} * log(y_{i}) + (1 - \\hat{y}_{i}) * log(1 - y_{i}))$$\n"
   ]
  },
  {
   "cell_type": "code",
   "execution_count": 5,
   "metadata": {
    "ExecuteTime": {
     "end_time": "2018-09-25T11:36:14.990243Z",
     "start_time": "2018-09-25T11:36:14.982836Z"
    }
   },
   "outputs": [],
   "source": [
    "loss_function= nn.BCELoss()"
   ]
  },
  {
   "cell_type": "markdown",
   "metadata": {},
   "source": [
    "### 4. 학습"
   ]
  },
  {
   "cell_type": "code",
   "execution_count": 23,
   "metadata": {
    "ExecuteTime": {
     "end_time": "2018-09-25T12:01:31.618885Z",
     "start_time": "2018-09-25T12:01:24.322939Z"
    }
   },
   "outputs": [
    {
     "name": "stdout",
     "output_type": "stream",
     "text": [
      "0 / 20000 loss : 0.064\n",
      "1000 / 20000 loss : 0.063\n",
      "2000 / 20000 loss : 0.063\n",
      "3000 / 20000 loss : 0.063\n",
      "4000 / 20000 loss : 0.063\n",
      "5000 / 20000 loss : 0.063\n",
      "6000 / 20000 loss : 0.062\n",
      "7000 / 20000 loss : 0.062\n",
      "8000 / 20000 loss : 0.062\n",
      "9000 / 20000 loss : 0.062\n",
      "10000 / 20000 loss : 0.062\n",
      "11000 / 20000 loss : 0.061\n",
      "12000 / 20000 loss : 0.061\n",
      "13000 / 20000 loss : 0.061\n",
      "14000 / 20000 loss : 0.061\n",
      "15000 / 20000 loss : 0.061\n",
      "16000 / 20000 loss : 0.060\n",
      "17000 / 20000 loss : 0.060\n",
      "18000 / 20000 loss : 0.060\n",
      "19000 / 20000 loss : 0.060\n"
     ]
    }
   ],
   "source": [
    "EPOCH= 20000\n",
    "learning_rate=0.01\n",
    "\n",
    "for epoch in range(EPOCH):\n",
    "    model.zero_grad()\n",
    "    pred= model(x)\n",
    "    loss= loss_function(pred, y)\n",
    "    if epoch % 1000==0:\n",
    "        print('%d / %d loss : %.3f' % (epoch, EPOCH, loss))\n",
    "    \n",
    "    loss.backward()\n",
    "    for param in model.parameters():\n",
    "        param.data += -learning_rate * param.grad.data\n",
    "    # == optimizer.step()"
   ]
  },
  {
   "cell_type": "markdown",
   "metadata": {},
   "source": [
    "### 5. 결과 확인"
   ]
  },
  {
   "cell_type": "code",
   "execution_count": 24,
   "metadata": {
    "ExecuteTime": {
     "end_time": "2018-09-25T12:01:34.394894Z",
     "start_time": "2018-09-25T12:01:34.364632Z"
    }
   },
   "outputs": [],
   "source": [
    "def plot_decision_region(x,y,model):\n",
    "    X_p = x.data.numpy()\n",
    "    y_p = y.data.numpy().reshape(100)\n",
    "    markers = ('x', 's')\n",
    "    colors = ('blue', 'red')\n",
    "    cmap = ListedColormap(colors[:len(np.unique(y_p))])\n",
    "\n",
    "    # plot the decision surface\n",
    "    x1_min, x1_max = X_p[:, 0].min() - 1, X_p[:, 0].max() + 1\n",
    "    x2_min, x2_max = X_p[:, 1].min() - 1, X_p[:, 1].max() + 1\n",
    "    xx1, xx2 = np.meshgrid(np.arange(x1_min, x1_max, 0.02),\n",
    "                           np.arange(x2_min, x2_max, 0.02))\n",
    "\n",
    "    X_pp = Variable(torch.cat([torch.Tensor(xx1).view(-1,1),torch.Tensor(xx2).view(-1,1)],1))\n",
    "    Z = torch.round(model(X_pp))\n",
    "    Z = Z.float().data.numpy()\n",
    "    Z = Z.reshape(xx1.shape)\n",
    "    plt.contourf(xx1, xx2, Z, alpha=0.4, cmap=cmap)\n",
    "    plt.xlim(xx1.min(), xx1.max())\n",
    "    plt.ylim(xx2.min(), xx2.max())\n",
    "\n",
    "    for idx, cl in enumerate(np.unique(y_p)):\n",
    "        plt.scatter(x=X_p[y_p == cl, 0], \n",
    "                    y=X_p[y_p == cl, 1],\n",
    "                    alpha=0.6, \n",
    "                    c=cmap(idx),\n",
    "                    edgecolor='black',\n",
    "                    marker=markers[idx], \n",
    "                    label=cl)"
   ]
  },
  {
   "cell_type": "code",
   "execution_count": 25,
   "metadata": {
    "ExecuteTime": {
     "end_time": "2018-09-25T12:01:36.675199Z",
     "start_time": "2018-09-25T12:01:36.072982Z"
    }
   },
   "outputs": [
    {
     "data": {
      "image/png": "[encoded data removed]",
      "text/plain": [
       "<Figure size 432x288 with 1 Axes>"
      ]
     },
     "metadata": {
      "needs_background": "light"
     },
     "output_type": "display_data"
    }
   ],
   "source": [
    "plot_decision_region(x,y,model)"
   ]
  },
  {
   "cell_type": "code",
   "execution_count": null,
   "metadata": {},
   "outputs": [],
   "source": []
  }
 ],
 "metadata": {
  "kernelspec": {
   "display_name": "Python 3",
   "language": "python",
   "name": "python3"
  },
  "language_info": {
   "codemirror_mode": {
    "name": "ipython",
    "version": 3
   },
   "file_extension": ".py",
   "mimetype": "text/x-python",
   "name": "python",
   "nbconvert_exporter": "python",
   "pygments_lexer": "ipython3",
   "version": "3.6.6"
  },
  "toc": {
   "base_numbering": 1,
   "nav_menu": {},
   "number_sections": true,
   "sideBar": true,
   "skip_h1_title": false,
   "title_cell": "Table of Contents",
   "title_sidebar": "Contents",
   "toc_cell": false,
   "toc_position": {},
   "toc_section_display": true,
   "toc_window_display": false
  },
  "varInspector": {
   "cols": {
    "lenName": 16,
    "lenType": 16,
    "lenVar": 40
   },
   "kernels_config": {
    "python": {
     "delete_cmd_postfix": "",
     "delete_cmd_prefix": "del ",
     "library": "var_list.py",
     "varRefreshCmd": "print(var_dic_list())"
    },
    "r": {
     "delete_cmd_postfix": ") ",
     "delete_cmd_prefix": "rm(",
     "library": "var_list.r",
     "varRefreshCmd": "cat(var_dic_list()) "
    }
   },
   "position": {
    "height": "263px",
    "left": "847px",
    "right": "20px",
    "top": "112px",
    "width": "556px"
   },
   "types_to_exclude": [
    "module",
    "function",
    "builtin_function_or_method",
    "instance",
    "_Feature"
   ],
   "window_display": true
  }
 },
 "nbformat": 4,
 "nbformat_minor": 2
}
