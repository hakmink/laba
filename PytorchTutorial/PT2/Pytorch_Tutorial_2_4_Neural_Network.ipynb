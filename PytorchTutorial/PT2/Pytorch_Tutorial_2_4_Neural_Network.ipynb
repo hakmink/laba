{
 "cells": [
  {
   "cell_type": "code",
   "execution_count": null,
   "metadata": {
    "ExecuteTime": {
     "end_time": "2018-08-11T12:04:04.116057Z",
     "start_time": "2018-08-11T12:04:03.699467Z"
    }
   },
   "outputs": [],
   "source": [
    "import torch\n",
    "import torch.nn as nn\n",
    "from torch.autograd import Variable\n",
    "import torch.optim as optim\n",
    "import torch.nn.functional as F\n",
    "import numpy as np\n",
    "import torchvision.transforms as transforms\n",
    "import torchvision.datasets as vdatasets\n",
    "\n",
    "torch.manual_seed(1)\n",
    "import matplotlib.pyplot as plt\n",
    "%matplotlib inline"
   ]
  },
  {
   "cell_type": "markdown",
   "metadata": {},
   "source": [
    "# What is a Neural network?\n",
    "\n",
    "- 생물학의 신경망에서 영감을 얻은 학습 알고리즘.\n",
    "- 인공신경망은 시냅스의 결합으로 네트워크를 형성한 인공뉴런이 학습을 통해 시냅스의 결합 세기를 변화시켜, 문제 해결 능력을 가지는 모델 전반을 가리킴.\n",
    "\n",
    "<img src='./images/neural_network.png' width=300 align=left>"
   ]
  },
  {
   "cell_type": "markdown",
   "metadata": {},
   "source": [
    "### 1. 데이터"
   ]
  },
  {
   "cell_type": "code",
   "execution_count": null,
   "metadata": {
    "ExecuteTime": {
     "end_time": "2018-08-11T12:04:44.634307Z",
     "start_time": "2018-08-11T12:04:44.584911Z"
    }
   },
   "outputs": [],
   "source": [
    "train_dataset= vdatasets.MNIST(root='../../data/MNIST',\n",
    "                              train=True,\n",
    "                              transform=transforms.ToTensor(),\n",
    "                              download=True)\n",
    "test_dataset= vdatasets.MNIST(root='../../data/MNIST',\n",
    "                             train=False,\n",
    "                             transform=transforms.ToTensor(),\n",
    "                             download=True)\n",
    "\n",
    "train_loader= torch.utils.data.DataLoader(dataset=train_dataset,\n",
    "                                         batch_size=64,\n",
    "                                         shuffle=True,\n",
    "                                         num_workers=2)\n",
    "\n",
    "test_loader= torch.utils.data.DataLoader(dataset=test_dataset,\n",
    "                                        batch_size=64,\n",
    "                                        shuffle=True,\n",
    "                                        num_workers=2)"
   ]
  },
  {
   "cell_type": "code",
   "execution_count": null,
   "metadata": {
    "ExecuteTime": {
     "end_time": "2018-08-11T12:04:46.728313Z",
     "start_time": "2018-08-11T12:04:46.719573Z"
    }
   },
   "outputs": [],
   "source": [
    "print(train_dataset[0][0].size())\n",
    "print(train_dataset[0][1])"
   ]
  },
  {
   "cell_type": "code",
   "execution_count": null,
   "metadata": {
    "ExecuteTime": {
     "end_time": "2018-08-11T12:04:47.841827Z",
     "start_time": "2018-08-11T12:04:47.281131Z"
    }
   },
   "outputs": [],
   "source": [
    "for i in range(9):\n",
    "    plt.subplot(3,3,i+1)\n",
    "    plt.imshow(train_dataset[i][0].squeeze(0).numpy(), cmap='gray', interpolation='none')\n",
    "    plt.title(\"Class {}\".format(train_dataset[i][1]))"
   ]
  },
  {
   "cell_type": "markdown",
   "metadata": {},
   "source": [
    "### 2. 모델링"
   ]
  },
  {
   "cell_type": "code",
   "execution_count": null,
   "metadata": {
    "ExecuteTime": {
     "end_time": "2018-08-11T12:05:28.359216Z",
     "start_time": "2018-08-11T12:05:28.349944Z"
    }
   },
   "outputs": [],
   "source": [
    "class ANN(nn.Module):\n",
    "    def __init__(self, input_size, hidden_size, output_size):\n",
    "        super(ANN, self).__init__()\n",
    "        \n",
    "        self.linear1= nn.Linear(input_size, hidden_size)\n",
    "        self.linear2= nn.Linear(hidden_size, output_size)\n",
    "        \n",
    "    def forward(self, inputs):\n",
    "        outputs= self.linear1(inputs)\n",
    "        outputs= F.relu(outputs)\n",
    "        \n",
    "        return self.linear2(outputs)"
   ]
  },
  {
   "cell_type": "code",
   "execution_count": null,
   "metadata": {
    "ExecuteTime": {
     "end_time": "2018-08-11T12:05:29.320546Z",
     "start_time": "2018-08-11T12:05:29.316736Z"
    }
   },
   "outputs": [],
   "source": [
    "EPOCH= 5\n",
    "LR= 0.01\n",
    "BATCH_SIZE= 64\n",
    "\n",
    "INPUT_SIZE= 784\n",
    "HIDDEN_SIZE= 512\n",
    "OUTPUT_SIZE= 10"
   ]
  },
  {
   "cell_type": "code",
   "execution_count": null,
   "metadata": {
    "ExecuteTime": {
     "end_time": "2018-08-11T12:05:29.605818Z",
     "start_time": "2018-08-11T12:05:29.596820Z"
    }
   },
   "outputs": [],
   "source": [
    "model= ANN(input_size=INPUT_SIZE, \n",
    "           hidden_size=HIDDEN_SIZE,\n",
    "           output_size=OUTPUT_SIZE)\n",
    "\n",
    "model.eval()"
   ]
  },
  {
   "cell_type": "markdown",
   "metadata": {},
   "source": [
    "### 3. 로스함수\n",
    "- cross entropy"
   ]
  },
  {
   "cell_type": "code",
   "execution_count": null,
   "metadata": {
    "ExecuteTime": {
     "end_time": "2018-08-11T12:05:31.767364Z",
     "start_time": "2018-08-11T12:05:31.764748Z"
    }
   },
   "outputs": [],
   "source": [
    "loss_function= nn.CrossEntropyLoss() # softmax 함수 포함."
   ]
  },
  {
   "cell_type": "markdown",
   "metadata": {},
   "source": [
    "### 4. 옵티마이저\n",
    "- SGD사용."
   ]
  },
  {
   "cell_type": "code",
   "execution_count": null,
   "metadata": {
    "ExecuteTime": {
     "end_time": "2018-08-11T12:05:32.093204Z",
     "start_time": "2018-08-11T12:05:32.090607Z"
    }
   },
   "outputs": [],
   "source": [
    "optimizer= optim.SGD(model.parameters(), lr=LR)"
   ]
  },
  {
   "cell_type": "markdown",
   "metadata": {},
   "source": [
    "###  5. 훈련"
   ]
  },
  {
   "cell_type": "code",
   "execution_count": null,
   "metadata": {
    "ExecuteTime": {
     "end_time": "2018-08-11T12:06:07.541422Z",
     "start_time": "2018-08-11T12:05:53.349496Z"
    },
    "scrolled": true
   },
   "outputs": [],
   "source": [
    "for epoch in range(EPOCH):\n",
    "    losses=[]    \n",
    "    for i, (inputs, targets) in enumerate(train_loader):\n",
    "        model.zero_grad()\n",
    "        inputs= inputs.view(-1,784)\n",
    "        outputs= model(inputs)\n",
    "        loss= loss_function(outputs, targets)\n",
    "        loss.backward()\n",
    "        optimizer.step()\n",
    "        losses.append(loss.detach().numpy())\n",
    "        \n",
    "        if i% 100==0:\n",
    "            print(\"[%d / %d] [%03d/%d] mean_loss : %.3f\" % (epoch, EPOCH, i, len(train_loader), np.mean(losses)))\n",
    "            losses=[]\n",
    "\n",
    "    "
   ]
  },
  {
   "cell_type": "markdown",
   "metadata": {},
   "source": [
    "### 6. 테스트"
   ]
  },
  {
   "cell_type": "code",
   "execution_count": null,
   "metadata": {
    "ExecuteTime": {
     "end_time": "2018-08-11T12:06:08.009383Z",
     "start_time": "2018-08-11T12:06:07.563748Z"
    }
   },
   "outputs": [],
   "source": [
    "num_equal=0\n",
    "for i, (inputs, targets) in enumerate(test_loader):\n",
    "    inputs = inputs.view(-1, 784)\n",
    "    outputs= model(inputs)\n",
    "    \n",
    "    outputs= outputs.max(1)[1]\n",
    "    num_equal+= torch.eq(outputs, targets).sum().item()\n",
    "    \n",
    "\n",
    "print(\"Accuracy :\", num_equal/len(test_dataset))"
   ]
  },
  {
   "cell_type": "code",
   "execution_count": null,
   "metadata": {
    "ExecuteTime": {
     "end_time": "2018-08-11T12:06:08.294835Z",
     "start_time": "2018-08-11T12:06:08.024989Z"
    }
   },
   "outputs": [],
   "source": [
    "image= inputs[1].view(-1,28,28)\n",
    "image= transforms.ToPILImage()(image)\n",
    "\n",
    "print(outputs[1])\n",
    "image\n"
   ]
  }
 ],
 "metadata": {
  "kernelspec": {
   "display_name": "Python 3",
   "language": "python",
   "name": "python3"
  },
  "language_info": {
   "codemirror_mode": {
    "name": "ipython",
    "version": 3
   },
   "file_extension": ".py",
   "mimetype": "text/x-python",
   "name": "python",
   "nbconvert_exporter": "python",
   "pygments_lexer": "ipython3",
   "version": "3.6.6"
  },
  "toc": {
   "base_numbering": 1,
   "nav_menu": {},
   "number_sections": true,
   "sideBar": true,
   "skip_h1_title": false,
   "title_cell": "Table of Contents",
   "title_sidebar": "Contents",
   "toc_cell": false,
   "toc_position": {},
   "toc_section_display": true,
   "toc_window_display": false
  },
  "varInspector": {
   "cols": {
    "lenName": 16,
    "lenType": 16,
    "lenVar": 40
   },
   "kernels_config": {
    "python": {
     "delete_cmd_postfix": "",
     "delete_cmd_prefix": "del ",
     "library": "var_list.py",
     "varRefreshCmd": "print(var_dic_list())"
    },
    "r": {
     "delete_cmd_postfix": ") ",
     "delete_cmd_prefix": "rm(",
     "library": "var_list.r",
     "varRefreshCmd": "cat(var_dic_list()) "
    }
   },
   "types_to_exclude": [
    "module",
    "function",
    "builtin_function_or_method",
    "instance",
    "_Feature"
   ],
   "window_display": false
  }
 },
 "nbformat": 4,
 "nbformat_minor": 2
}
