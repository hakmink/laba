{
 "cells": [
  {
   "cell_type": "code",
   "execution_count": 1,
   "metadata": {
    "ExecuteTime": {
     "end_time": "2018-08-11T11:59:57.434818Z",
     "start_time": "2018-08-11T11:59:57.423384Z"
    }
   },
   "outputs": [],
   "source": [
    "import torch\n",
    "import torch.nn as nn\n",
    "from torch.autograd import Variable\n",
    "import torch.optim as optim\n",
    "import torch.nn.functional as F\n",
    "import numpy as np\n",
    "\n",
    "torch.manual_seed(1)\n",
    "\n",
    "import pandas as pd\n",
    "import matplotlib.pyplot as plt\n",
    "from matplotlib.colors import ListedColormap\n",
    "\n",
    "%matplotlib inline"
   ]
  },
  {
   "cell_type": "markdown",
   "metadata": {
    "ExecuteTime": {
     "end_time": "2018-07-21T09:09:49.176019Z",
     "start_time": "2018-07-21T09:09:49.170724Z"
    }
   },
   "source": [
    "# What is a Logistic regression\n",
    "- 로지스틱 회귀는 독립 변수의 선형결합을 이용하여 사건의 발생 가능성을 예측하는 기법임.\n",
    "- $log(\\frac{y}{1-y})=X\\beta+ \\alpha$\n",
    "- $log(y)= \\frac{1}{\\exp -(X\\beta+\\alpha)+1}$\n",
    "\n",
    "<img src='./images/logistic_regression.png' width=300 align=left>"
   ]
  },
  {
   "cell_type": "markdown",
   "metadata": {},
   "source": [
    "### 1. 데이터 생성"
   ]
  },
  {
   "cell_type": "code",
   "execution_count": 15,
   "metadata": {
    "ExecuteTime": {
     "end_time": "2018-08-11T11:59:58.010753Z",
     "start_time": "2018-08-11T11:59:57.999460Z"
    }
   },
   "outputs": [
    {
     "name": "stdout",
     "output_type": "stream",
     "text": [
      "torch.Size([100]) torch.Size([100]) torch.Size([100, 2])\n",
      "torch.Size([100, 1])\n"
     ]
    }
   ],
   "source": [
    "x1= torch.arange(1,101).float() + torch.randn(100)\n",
    "x2 = torch.cat([torch.zeros(50)+torch.abs(torch.randn(50)),torch.ones(50)-torch.abs(torch.randn(50))])\n",
    "x= torch.cat([x1.unsqueeze(1), x2.unsqueeze(1)],1)\n",
    "print(x1.shape, x2.shape, x.shape)\n",
    "\n",
    "y= torch.cat([torch.zeros(50), torch.ones(50)])\n",
    "y= y.unsqueeze(1)\n",
    "print(y.shape)"
   ]
  },
  {
   "cell_type": "code",
   "execution_count": 16,
   "metadata": {
    "ExecuteTime": {
     "end_time": "2018-08-11T11:59:58.297814Z",
     "start_time": "2018-08-11T11:59:58.192173Z"
    },
    "scrolled": true
   },
   "outputs": [
    {
     "data": {
      "image/png": "[encoded data removed]",
      "text/plain": [
       "<matplotlib.figure.Figure at 0x1157507b8>"
      ]
     },
     "metadata": {
      "needs_background": "light"
     },
     "output_type": "display_data"
    }
   ],
   "source": [
    "fig, ax= plt.subplots()\n",
    "ax.plot(x[:,0].numpy()[:50], x[:,1].numpy()[:50],'o',label='negative')\n",
    "ax.plot(x[:,0].numpy()[50:], x[:,1].numpy()[50:], 'ro', label='positive')\n",
    "ax.legend()\n",
    "plt.show()"
   ]
  },
  {
   "cell_type": "markdown",
   "metadata": {},
   "source": [
    "### 2. 모델링\n",
    "- $log(y)= \\frac{1}{\\exp -(X\\beta+\\alpha)+1}$"
   ]
  },
  {
   "cell_type": "code",
   "execution_count": 17,
   "metadata": {
    "ExecuteTime": {
     "end_time": "2018-08-11T11:59:58.623230Z",
     "start_time": "2018-08-11T11:59:58.614186Z"
    }
   },
   "outputs": [
    {
     "name": "stdout",
     "output_type": "stream",
     "text": [
      "('0.weight', Parameter containing:\n",
      "tensor([[-0.6625,  0.6792]], requires_grad=True))\n",
      "('0.bias', Parameter containing:\n",
      "tensor([0.5593], requires_grad=True))\n",
      "<output> : tensor([0.5453], grad_fn=<SelectBackward>)\n"
     ]
    }
   ],
   "source": [
    "model= nn.Sequential(nn.Linear(2,1), nn.Sigmoid())\n",
    "\n",
    "for param in model.named_parameters():\n",
    "    print(param)\n",
    "    \n",
    "output= model(x)\n",
    "print('<output> :',output[0]) # 0~1사이"
   ]
  },
  {
   "cell_type": "markdown",
   "metadata": {},
   "source": [
    "### 3. 로스함수\n",
    "- 분류문제에서는 주로 cross entropy error를 사용함.\n",
    "$$loss(\\hat{y}, y) = - \\frac{1}{n} \\sum_i (\\hat{y}_{i} * log(y_{i}) + (1 - \\hat{y}_{i}) * log(1 - y_{i}))$$\n"
   ]
  },
  {
   "cell_type": "code",
   "execution_count": 18,
   "metadata": {
    "ExecuteTime": {
     "end_time": "2018-08-11T11:59:59.377932Z",
     "start_time": "2018-08-11T11:59:59.375316Z"
    }
   },
   "outputs": [],
   "source": [
    "loss_function= nn.BCELoss()"
   ]
  },
  {
   "cell_type": "markdown",
   "metadata": {},
   "source": [
    "### 4. 학습"
   ]
  },
  {
   "cell_type": "code",
   "execution_count": 19,
   "metadata": {
    "ExecuteTime": {
     "end_time": "2018-08-11T12:00:28.178163Z",
     "start_time": "2018-08-11T12:00:26.880365Z"
    }
   },
   "outputs": [
    {
     "name": "stdout",
     "output_type": "stream",
     "text": [
      "0 / 10000 loss : 24.734\n",
      "1000 / 10000 loss : 26.557\n",
      "2000 / 10000 loss : 28.173\n",
      "3000 / 10000 loss : 29.603\n",
      "4000 / 10000 loss : 30.885\n",
      "5000 / 10000 loss : 32.047\n",
      "6000 / 10000 loss : 33.110\n",
      "7000 / 10000 loss : 32.211\n",
      "8000 / 10000 loss : 32.371\n",
      "9000 / 10000 loss : 33.084\n"
     ]
    }
   ],
   "source": [
    "EPOCH= 10000\n",
    "learning_rate=0.001\n",
    "\n",
    "for epoch in range(EPOCH):\n",
    "    model.zero_grad()\n",
    "    pred= model(x)\n",
    "    loss= loss_function(pred, y)\n",
    "    if epoch % 1000==0:\n",
    "        print('%d / %d loss : %.3f' % (epoch, EPOCH, loss))\n",
    "    \n",
    "    loss.backward()\n",
    "    for param in model.parameters():\n",
    "        param.data += -learning_rate * param.grad.data\n",
    "    # == optimizer.step()"
   ]
  },
  {
   "cell_type": "markdown",
   "metadata": {},
   "source": [
    "### 5. 결과 확인"
   ]
  },
  {
   "cell_type": "code",
   "execution_count": 20,
   "metadata": {
    "ExecuteTime": {
     "end_time": "2018-08-11T12:00:29.910480Z",
     "start_time": "2018-08-11T12:00:29.876893Z"
    }
   },
   "outputs": [],
   "source": [
    "def plot_decision_region(x,y,model):\n",
    "    X_p = x.data.numpy()\n",
    "    y_p = y.data.numpy().reshape(100)\n",
    "    markers = ('x', 's')\n",
    "    colors = ('blue', 'red')\n",
    "    cmap = ListedColormap(colors[:len(np.unique(y_p))])\n",
    "\n",
    "    # plot the decision surface\n",
    "    x1_min, x1_max = X_p[:, 0].min() - 1, X_p[:, 0].max() + 1\n",
    "    x2_min, x2_max = X_p[:, 1].min() - 1, X_p[:, 1].max() + 1\n",
    "    xx1, xx2 = np.meshgrid(np.arange(x1_min, x1_max, 0.02),\n",
    "                           np.arange(x2_min, x2_max, 0.02))\n",
    "\n",
    "    X_pp = Variable(torch.cat([torch.Tensor(xx1).view(-1,1),torch.Tensor(xx2).view(-1,1)],1))\n",
    "    Z = torch.round(model(X_pp))\n",
    "    Z = Z.float().data.numpy()\n",
    "    Z = Z.reshape(xx1.shape)\n",
    "    plt.contourf(xx1, xx2, Z, alpha=0.4, cmap=cmap)\n",
    "    plt.xlim(xx1.min(), xx1.max())\n",
    "    plt.ylim(xx2.min(), xx2.max())\n",
    "\n",
    "    for idx, cl in enumerate(np.unique(y_p)):\n",
    "        plt.scatter(x=X_p[y_p == cl, 0], \n",
    "                    y=X_p[y_p == cl, 1],\n",
    "                    alpha=0.6, \n",
    "                    c=cmap(idx),\n",
    "                    edgecolor='black',\n",
    "                    marker=markers[idx], \n",
    "                    label=cl)"
   ]
  },
  {
   "cell_type": "code",
   "execution_count": 21,
   "metadata": {
    "ExecuteTime": {
     "end_time": "2018-08-11T12:00:30.841890Z",
     "start_time": "2018-08-11T12:00:30.512923Z"
    }
   },
   "outputs": [
    {
     "data": {
      "image/png": "[encoded data removed]",
      "text/plain": [
       "<matplotlib.figure.Figure at 0x1159e1978>"
      ]
     },
     "metadata": {
      "needs_background": "light"
     },
     "output_type": "display_data"
    }
   ],
   "source": [
    "plot_decision_region(x,y,model)"
   ]
  },
  {
   "cell_type": "code",
   "execution_count": null,
   "metadata": {},
   "outputs": [],
   "source": []
  }
 ],
 "metadata": {
  "kernelspec": {
   "display_name": "Python 3",
   "language": "python",
   "name": "python3"
  },
  "language_info": {
   "codemirror_mode": {
    "name": "ipython",
    "version": 3
   },
   "file_extension": ".py",
   "mimetype": "text/x-python",
   "name": "python",
   "nbconvert_exporter": "python",
   "pygments_lexer": "ipython3",
   "version": "3.6.0"
  },
  "varInspector": {
   "cols": {
    "lenName": 16,
    "lenType": 16,
    "lenVar": 40
   },
   "kernels_config": {
    "python": {
     "delete_cmd_postfix": "",
     "delete_cmd_prefix": "del ",
     "library": "var_list.py",
     "varRefreshCmd": "print(var_dic_list())"
    },
    "r": {
     "delete_cmd_postfix": ") ",
     "delete_cmd_prefix": "rm(",
     "library": "var_list.r",
     "varRefreshCmd": "cat(var_dic_list()) "
    }
   },
   "types_to_exclude": [
    "module",
    "function",
    "builtin_function_or_method",
    "instance",
    "_Feature"
   ],
   "window_display": false
  }
 },
 "nbformat": 4,
 "nbformat_minor": 2
}
