{
 "cells": [
  {
   "cell_type": "markdown",
   "metadata": {},
   "source": [
    "# Reference\n",
    "- https://github.com/yunjey/pytorch-tutorial/blob/master/tutorials/01-basics/pytorch_basics/main.py\n",
    "- https://github.com/pytorch/vision\n",
    "- https://github.com/DSKSD/Pytorch_Fast_Campus_2018"
   ]
  },
  {
   "cell_type": "code",
   "execution_count": 1,
   "metadata": {
    "ExecuteTime": {
     "end_time": "2018-08-11T11:56:43.993800Z",
     "start_time": "2018-08-11T11:56:43.537673Z"
    }
   },
   "outputs": [],
   "source": [
    "import torch\n",
    "import torch.nn as nn\n",
    "import torch.optim as optim\n",
    "import torch.nn.functional as F\n",
    "import numpy as np\n",
    "\n",
    "import torch.utils.data as torchdata\n",
    "import torchvision.transforms as transforms\n",
    "import torchvision.datasets as vision_datasets\n",
    "\n",
    "torch.manual_seed(1)\n",
    "\n",
    "import matplotlib.pyplot as plt\n",
    "%matplotlib inline"
   ]
  },
  {
   "cell_type": "markdown",
   "metadata": {},
   "source": [
    "### 1. torch.utils.data.Dataset\n",
    "- 데이터셋을 핸들링하기 위한 클래스"
   ]
  },
  {
   "cell_type": "code",
   "execution_count": 2,
   "metadata": {
    "ExecuteTime": {
     "end_time": "2018-07-21T09:57:31.514775Z",
     "start_time": "2018-07-21T09:57:31.505471Z"
    }
   },
   "outputs": [],
   "source": [
    "class CustomDataset(torchdata.Dataset):\n",
    "    def __init__(self):\n",
    "        # 데이터 로드, 전처리\n",
    "        # or 데이터 경로\n",
    "        self.x= torch.randn(100,1).float()\n",
    "        self.y= torch.arange(0,100).long()\n",
    "        \n",
    "    def __getitem__(self, index):\n",
    "        # 인덱스에 해당하는 데이터셋 리턴\n",
    "        return self.x[index], self.y[index]\n",
    "    \n",
    "    def __len__(self):\n",
    "        # 전체 데이터 수\n",
    "        return len(self.x)"
   ]
  },
  {
   "cell_type": "code",
   "execution_count": 3,
   "metadata": {
    "ExecuteTime": {
     "end_time": "2018-07-21T09:57:31.931653Z",
     "start_time": "2018-07-21T09:57:31.928552Z"
    }
   },
   "outputs": [],
   "source": [
    "mydataset= CustomDataset()"
   ]
  },
  {
   "cell_type": "markdown",
   "metadata": {},
   "source": [
    "### 2. torch.utils.data.DataLoader\n",
    "- 데이터 이터레이터를 생성"
   ]
  },
  {
   "cell_type": "code",
   "execution_count": 4,
   "metadata": {
    "ExecuteTime": {
     "end_time": "2018-07-21T10:01:12.530889Z",
     "start_time": "2018-07-21T10:01:12.522588Z"
    }
   },
   "outputs": [
    {
     "name": "stdout",
     "output_type": "stream",
     "text": [
      "0 [tensor([[ 0.3956],\n",
      "        [-0.1110],\n",
      "        [-2.5832],\n",
      "        [-0.4370],\n",
      "        [-1.4465]]), tensor([78, 40, 90, 51, 27])]\n",
      "1 [tensor([[ 0.3434],\n",
      "        [-0.8138],\n",
      "        [ 0.4676],\n",
      "        [-0.9823],\n",
      "        [-3.3312]]), tensor([97, 85, 15, 79, 62])]\n"
     ]
    }
   ],
   "source": [
    "train_loader= torchdata.DataLoader(dataset= mydataset,\n",
    "                                  batch_size=5,\n",
    "                                  shuffle=True)\n",
    "\n",
    "for i, batch in enumerate(train_loader):\n",
    "    print(i, batch)\n",
    "    if i==1:\n",
    "        break"
   ]
  },
  {
   "cell_type": "markdown",
   "metadata": {},
   "source": [
    "### 3. torchvision\n",
    "- 이미지 데이터를 처리할 때 유용한 라이브러리\n",
    "- 이미지 데이터 다운로드 기능까지 제공\n",
    "- https://github.com/pytorch/vision 참고\n",
    "\n",
    "### 3.1 torchvision dataset"
   ]
  },
  {
   "cell_type": "code",
   "execution_count": 5,
   "metadata": {
    "ExecuteTime": {
     "end_time": "2018-07-21T10:09:20.575802Z",
     "start_time": "2018-07-21T10:09:20.488145Z"
    }
   },
   "outputs": [
    {
     "name": "stdout",
     "output_type": "stream",
     "text": [
      "Downloading http://yann.lecun.com/exdb/mnist/train-images-idx3-ubyte.gz\n",
      "Downloading http://yann.lecun.com/exdb/mnist/train-labels-idx1-ubyte.gz\n",
      "Downloading http://yann.lecun.com/exdb/mnist/t10k-images-idx3-ubyte.gz\n",
      "Downloading http://yann.lecun.com/exdb/mnist/t10k-labels-idx1-ubyte.gz\n",
      "Processing...\n",
      "Done!\n",
      "torch.Size([1, 28, 28])\n",
      "tensor(5)\n",
      "<iter> :  0\n",
      "<data size> :  torch.Size([100, 1, 28, 28])\n",
      "<label size> : torch.Size([100])\n",
      "<iter> :  1\n",
      "<data size> :  torch.Size([100, 1, 28, 28])\n",
      "<label size> : torch.Size([100])\n"
     ]
    }
   ],
   "source": [
    "train_dataset= vision_datasets.MNIST(root='../data/MNIST',\n",
    "                                    train=True,\n",
    "                                    transform=transforms.ToTensor(),\n",
    "                                    download=True)\n",
    "\n",
    "# select one data pair (read data from disk)\n",
    "image, label= train_dataset[0]\n",
    "print(image.size())\n",
    "print(label)\n",
    "\n",
    "# Data Loader (this provides queue and thread in a very simple way)\n",
    "train_loader= torchdata.DataLoader(dataset= train_dataset,\n",
    "                                  batch_size=100,\n",
    "                                  shuffle=True,\n",
    "                                  num_workers=2)\n",
    "\n",
    "for i, batch in enumerate(train_loader):\n",
    "    print('<iter> : ',i)\n",
    "    print('<data size> : ' ,batch[0].size()) # CHW\n",
    "    print('<label size> :' ,batch[1].size())\n",
    "    \n",
    "    if i==1:\n",
    "        break"
   ]
  },
  {
   "cell_type": "markdown",
   "metadata": {},
   "source": [
    "### 3.2. transform\n",
    "- 이미지 데이터 전처리를 도와주는 라이브러리\n",
    "- image-> tensor, resize..."
   ]
  },
  {
   "cell_type": "code",
   "execution_count": 6,
   "metadata": {
    "ExecuteTime": {
     "end_time": "2018-07-21T10:14:43.450849Z",
     "start_time": "2018-07-21T10:14:43.447694Z"
    }
   },
   "outputs": [],
   "source": [
    "totensor= transforms.ToTensor() # PIL이미지 HWC-> FloatTensor CHW\n",
    "toimage= transforms.ToPILImage() # FloatTensor CHW -> PIL HWC\n",
    "toresize= transforms.Resize([100,100]) # PIL이미지 리사이즈"
   ]
  },
  {
   "cell_type": "code",
   "execution_count": 7,
   "metadata": {
    "ExecuteTime": {
     "end_time": "2018-07-21T10:14:11.886053Z",
     "start_time": "2018-07-21T10:14:11.880635Z"
    },
    "scrolled": true
   },
   "outputs": [
    {
     "name": "stdout",
     "output_type": "stream",
     "text": [
      "(28, 28)\n"
     ]
    },
    {
     "data": {
      "image/png": "[encoded data removed]",
      "text/plain": [
       "<PIL.Image.Image image mode=L size=28x28 at 0x108E89CC0>"
      ]
     },
     "execution_count": 7,
     "metadata": {},
     "output_type": "execute_result"
    }
   ],
   "source": [
    "image= toimage(train_dataset[0][0])\n",
    "print(image.size)\n",
    "image"
   ]
  },
  {
   "cell_type": "code",
   "execution_count": 8,
   "metadata": {
    "ExecuteTime": {
     "end_time": "2018-07-21T10:14:35.735530Z",
     "start_time": "2018-07-21T10:14:35.729662Z"
    }
   },
   "outputs": [
    {
     "name": "stdout",
     "output_type": "stream",
     "text": [
      "(100, 100)\n"
     ]
    },
    {
     "data": {
      "image/png": "[encoded data removed]",
      "text/plain": [
       "<PIL.Image.Image image mode=L size=100x100 at 0x108E89AC8>"
      ]
     },
     "execution_count": 8,
     "metadata": {},
     "output_type": "execute_result"
    }
   ],
   "source": [
    "resize_img= toresize(image)\n",
    "print(resize_img.size)\n",
    "resize_img"
   ]
  },
  {
   "cell_type": "code",
   "execution_count": 9,
   "metadata": {
    "ExecuteTime": {
     "end_time": "2018-07-21T10:11:48.260712Z",
     "start_time": "2018-07-21T10:11:48.257037Z"
    },
    "scrolled": true
   },
   "outputs": [
    {
     "name": "stdout",
     "output_type": "stream",
     "text": [
      "torch.Size([1, 28, 28])\n"
     ]
    }
   ],
   "source": [
    "tensor= totensor(image)\n",
    "print(tensor.size())"
   ]
  },
  {
   "cell_type": "code",
   "execution_count": null,
   "metadata": {},
   "outputs": [],
   "source": []
  }
 ],
 "metadata": {
  "kernelspec": {
   "display_name": "Python 3",
   "language": "python",
   "name": "python3"
  },
  "language_info": {
   "codemirror_mode": {
    "name": "ipython",
    "version": 3
   },
   "file_extension": ".py",
   "mimetype": "text/x-python",
   "name": "python",
   "nbconvert_exporter": "python",
   "pygments_lexer": "ipython3",
   "version": "3.6.0"
  },
  "varInspector": {
   "cols": {
    "lenName": 16,
    "lenType": 16,
    "lenVar": 40
   },
   "kernels_config": {
    "python": {
     "delete_cmd_postfix": "",
     "delete_cmd_prefix": "del ",
     "library": "var_list.py",
     "varRefreshCmd": "print(var_dic_list())"
    },
    "r": {
     "delete_cmd_postfix": ") ",
     "delete_cmd_prefix": "rm(",
     "library": "var_list.r",
     "varRefreshCmd": "cat(var_dic_list()) "
    }
   },
   "types_to_exclude": [
    "module",
    "function",
    "builtin_function_or_method",
    "instance",
    "_Feature"
   ],
   "window_display": false
  }
 },
 "nbformat": 4,
 "nbformat_minor": 2
}
