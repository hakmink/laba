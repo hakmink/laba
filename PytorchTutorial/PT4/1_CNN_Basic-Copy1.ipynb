{
 "cells": [
  {
   "cell_type": "code",
   "execution_count": 13,
   "metadata": {
    "ExecuteTime": {
     "end_time": "2018-08-11T16:25:26.546091Z",
     "start_time": "2018-08-11T16:25:26.525816Z"
    }
   },
   "outputs": [],
   "source": [
    "import torch\n",
    "import torch.nn as nn\n",
    "import torch.optim as optim\n",
    "import torch.nn.functional as F\n",
    "\n",
    "import torchvision.transforms as transforms\n",
    "import torchvision.datasets as vdatasets\n",
    "import torchvision.utils as vutils\n",
    "\n",
    "from tensorboardX import SummaryWriter\n",
    "\n",
    "import random\n",
    "from tensorboardX import SummaryWriter\n",
    "import os\n",
    "\n",
    "from collections import OrderedDict\n",
    "\n",
    "torch.manual_seed(1)\n",
    "\n",
    "import matplotlib.pyplot as plt\n",
    "%matplotlib inline"
   ]
  },
  {
   "cell_type": "markdown",
   "metadata": {},
   "source": [
    "# What is a Convolutional Layer?\n",
    "- Convolutional Layer는 height $*$ width $*$ channel의 크기의 parameter들 구성된 filter와 activation function으로 이뤄짐.  \n",
    "- filter(receptive field) : forward에서 filter를 input데이터에 sliding(Convolve)시키며 activation map을 생성함. filter와 input요소들 사이에는 dot product(내적)이 이뤄진다.\n",
    "- 직관적으로 filter는 특정 pattern을 찾아 feature를 추출하고 이를 위해 학습함.\n",
    "<img src= './images/conv.png'>\n",
    "\n",
    "\n",
    "- channel(depth) : activation map의 깊이를 결정하는 하이퍼파라미터. 각 activation map은 서로 다른 특징에 활성화 됨. \n",
    "- stride : 얼마의 간격으로 sliding할지를 결정하는 하이퍼파라미터\n",
    "- padding : input의 가장자리를 0으로 padding하는 것으로 stride로 인해서 공간적 크기가 줄어드는 것을 막는 역할을 함.\n",
    "\n",
    "- input의 크기(W), Filter의 크기 (F), Stride(S), 패딩사이즈 (P)라 하면 output의 크기는 다음과 같다.  \n",
    "\n",
    "$$ \\frac{(W-F+2p)}{S}+1$$\n",
    "\n",
    "- Convolutional Layer는 parameter를 공유해서 Fully connected Layer보다 적은 수의 파라미트를 사용함.(한 filter는 sliding하면서 동일한 parameter를 이용함)\n",
    "- backpropagation 과정에서는 gradient를 합해 사용함."
   ]
  },
  {
   "cell_type": "code",
   "execution_count": 14,
   "metadata": {
    "ExecuteTime": {
     "end_time": "2018-08-11T16:25:27.069589Z",
     "start_time": "2018-08-11T16:25:27.058707Z"
    }
   },
   "outputs": [
    {
     "name": "stdout",
     "output_type": "stream",
     "text": [
      "torch.Size([10, 10, 28, 28])\n"
     ]
    }
   ],
   "source": [
    "# conv layer exmaple\n",
    "sample_image= torch.randn(10, 3, 28, 28)  # Batch_size * Channel, H, W\n",
    "conv= nn.Conv2d(in_channels=3\n",
    "                , out_channels=10\n",
    "                , kernel_size= 3 # filter size\n",
    "                , stride=1\n",
    "                , padding=1)\n",
    "\n",
    "output= F.relu(conv(sample_image)) # activation function\n",
    "print(output.size())"
   ]
  },
  {
   "cell_type": "markdown",
   "metadata": {},
   "source": [
    "# What is a Pooling Layer?\n",
    "- Pooling Layer는 feature의 spatial한 사이즈를 줄여 parameter수를 줄임\n",
    "- parameter수가 줄어들어 overfitting을 피하고 연산량을 줄일 수 있음.\n",
    "- $2*2$필터와 stride 2가 주로 많이 사용되며 이 필터는 가로를 1/2로, 세로를 1/2로 down sample해 전체의 75%의 정보를 버리게 됨.\n",
    "- max는 필터 중 최댓값을, avg는 평균값을, min은 최솟값을 출력함.\n",
    "- pooling layer는 학습을 하지 않음.(parameter가 없음.)\n",
    "\n",
    "<img src= './images/pooling.png'>\n"
   ]
  },
  {
   "cell_type": "code",
   "execution_count": 16,
   "metadata": {
    "ExecuteTime": {
     "end_time": "2018-08-11T16:25:32.721272Z",
     "start_time": "2018-08-11T16:25:32.715080Z"
    },
    "scrolled": true
   },
   "outputs": [
    {
     "name": "stdout",
     "output_type": "stream",
     "text": [
      "torch.Size([10, 10, 14, 14])\n"
     ]
    }
   ],
   "source": [
    "# pooling layer exapmle\n",
    "maxpooling= nn.MaxPool2d(kernel_size=2, stride=2)\n",
    "\n",
    "maxpooled= maxpooling(output)\n",
    "print(maxpooled.size())"
   ]
  },
  {
   "cell_type": "markdown",
   "metadata": {},
   "source": [
    "# CNN tutorial\n",
    "## 0. tensorboard"
   ]
  },
  {
   "cell_type": "code",
   "execution_count": 17,
   "metadata": {
    "ExecuteTime": {
     "end_time": "2018-08-11T16:25:33.283747Z",
     "start_time": "2018-08-11T16:25:33.278956Z"
    }
   },
   "outputs": [],
   "source": [
    "port='6006'\n",
    "try:\n",
    "    shutil.rmtree('runs/') # 초기화\n",
    "except:\n",
    "    pass"
   ]
  },
  {
   "cell_type": "markdown",
   "metadata": {},
   "source": [
    "## 1. data loader"
   ]
  },
  {
   "cell_type": "code",
   "execution_count": 18,
   "metadata": {
    "ExecuteTime": {
     "end_time": "2018-08-11T16:25:34.088140Z",
     "start_time": "2018-08-11T16:25:34.019970Z"
    }
   },
   "outputs": [],
   "source": [
    "BATCH_SIZE= 64\n",
    "train_dataset= vdatasets.FashionMNIST(root='../data/FMNIST',\n",
    "                                     train=True,\n",
    "                                     transform=transforms.ToTensor(),\n",
    "                                     download=True)\n",
    "\n",
    "test_dataset= vdatasets.FashionMNIST(root='../data/FMNIST',\n",
    "                                     train=False,\n",
    "                                     transform=transforms.ToTensor(),\n",
    "                                     download=True)\n",
    "\n",
    "train_loader=torch.utils.data.DataLoader(dataset= train_dataset,\n",
    "                                        batch_size=BATCH_SIZE,\n",
    "                                        shuffle=True)\n",
    "test_loader= torch.utils.data.DataLoader(dataset= test_dataset,\n",
    "                                        batch_size=BATCH_SIZE,\n",
    "                                        shuffle=True)"
   ]
  },
  {
   "cell_type": "code",
   "execution_count": 19,
   "metadata": {
    "ExecuteTime": {
     "end_time": "2018-08-11T16:25:34.292194Z",
     "start_time": "2018-08-11T16:25:34.288981Z"
    }
   },
   "outputs": [
    {
     "name": "stdout",
     "output_type": "stream",
     "text": [
      "torch.Size([1, 28, 28])\n"
     ]
    }
   ],
   "source": [
    "print(train_dataset[0][0].size())"
   ]
  },
  {
   "cell_type": "code",
   "execution_count": 20,
   "metadata": {
    "ExecuteTime": {
     "end_time": "2018-08-11T16:25:35.100720Z",
     "start_time": "2018-08-11T16:25:34.545661Z"
    }
   },
   "outputs": [
    {
     "data": {
      "image/png": "[encoded data removed]",
      "text/plain": [
       "<Figure size 432x288 with 9 Axes>"
      ]
     },
     "metadata": {},
     "output_type": "display_data"
    }
   ],
   "source": [
    "for i in range(9):\n",
    "    plt.subplot(3, 3, i+1)\n",
    "    plt.imshow(train_dataset[i][0].squeeze(0).numpy(), cmap='gray', interpolation='none')\n",
    "    plt.title(\"Class {}\".format(train_dataset[i][1]))"
   ]
  },
  {
   "cell_type": "markdown",
   "metadata": {},
   "source": [
    "# 2. CNN"
   ]
  },
  {
   "cell_type": "code",
   "execution_count": 21,
   "metadata": {
    "ExecuteTime": {
     "end_time": "2018-08-11T16:25:35.337700Z",
     "start_time": "2018-08-11T16:25:35.314367Z"
    }
   },
   "outputs": [],
   "source": [
    "class CNN(nn.Module):\n",
    "    def __init__(self):\n",
    "        super(CNN, self).__init__()\n",
    "        \n",
    "        self.conv_layer1= nn.Sequential(\n",
    "            nn.Conv2d(1, 16,5,padding=2), # B, 16, 28, 28\n",
    "            nn.ReLU(),\n",
    "            nn.MaxPool2d(2) # B, 16, 14,14\n",
    "        )\n",
    "        self.conv_layer2= nn.Sequential(\n",
    "            nn.Conv2d(16, 32, 5, padding=2), # B, 32, 14, 14\n",
    "            nn.ReLU(),\n",
    "            nn.MaxPool2d(2) # B, 32, 7, 7\n",
    "        )\n",
    "        \n",
    "        self.fc= nn.Sequential(nn.Linear(32*7*7,128),\n",
    "                               nn.ReLU(),\n",
    "                               nn.Linear(128, 10))\n",
    "        \n",
    "    def forward(self, inputs):\n",
    "        outputs= self.conv_layer1(inputs)\n",
    "        outputs= self.conv_layer2(outputs)\n",
    "        return self.fc(outputs.view(inputs.size(0), -1))"
   ]
  },
  {
   "cell_type": "markdown",
   "metadata": {},
   "source": [
    "# 3.학습"
   ]
  },
  {
   "cell_type": "code",
   "execution_count": 22,
   "metadata": {
    "ExecuteTime": {
     "end_time": "2018-08-11T16:25:52.030625Z",
     "start_time": "2018-08-11T16:25:52.018217Z"
    }
   },
   "outputs": [
    {
     "data": {
      "text/plain": [
       "CNN(\n",
       "  (conv_layer1): Sequential(\n",
       "    (0): Conv2d(1, 16, kernel_size=(5, 5), stride=(1, 1), padding=(2, 2))\n",
       "    (1): ReLU()\n",
       "    (2): MaxPool2d(kernel_size=2, stride=2, padding=0, dilation=1, ceil_mode=False)\n",
       "  )\n",
       "  (conv_layer2): Sequential(\n",
       "    (0): Conv2d(16, 32, kernel_size=(5, 5), stride=(1, 1), padding=(2, 2))\n",
       "    (1): ReLU()\n",
       "    (2): MaxPool2d(kernel_size=2, stride=2, padding=0, dilation=1, ceil_mode=False)\n",
       "  )\n",
       "  (fc): Sequential(\n",
       "    (0): Linear(in_features=1568, out_features=128, bias=True)\n",
       "    (1): ReLU()\n",
       "    (2): Linear(in_features=128, out_features=10, bias=True)\n",
       "  )\n",
       ")"
      ]
     },
     "execution_count": 22,
     "metadata": {},
     "output_type": "execute_result"
    }
   ],
   "source": [
    "EPOCH=3\n",
    "LR=0.01\n",
    "\n",
    "model=CNN()\n",
    "\n",
    "loss_function= nn.CrossEntropyLoss()\n",
    "optimizer= optim.Adam(model.parameters(), lr=LR)\n",
    "\n",
    "model.train()"
   ]
  },
  {
   "cell_type": "code",
   "execution_count": 23,
   "metadata": {
    "ExecuteTime": {
     "end_time": "2018-08-11T16:28:58.437921Z",
     "start_time": "2018-08-11T16:25:57.119752Z"
    }
   },
   "outputs": [
    {
     "name": "stdout",
     "output_type": "stream",
     "text": [
      "[0 / 3] [000/938] mean_loss : 2.303\n",
      "[0 / 3] [100/938] mean_loss : 0.840\n",
      "[0 / 3] [200/938] mean_loss : 0.498\n",
      "[0 / 3] [300/938] mean_loss : 0.445\n",
      "[0 / 3] [400/938] mean_loss : 0.406\n",
      "[0 / 3] [500/938] mean_loss : 0.388\n",
      "[0 / 3] [600/938] mean_loss : 0.377\n",
      "[0 / 3] [700/938] mean_loss : 0.356\n",
      "[0 / 3] [800/938] mean_loss : 0.372\n",
      "[0 / 3] [900/938] mean_loss : 0.372\n",
      "[1 / 3] [000/938] mean_loss : 0.322\n",
      "[1 / 3] [100/938] mean_loss : 0.359\n",
      "[1 / 3] [200/938] mean_loss : 0.316\n",
      "[1 / 3] [300/938] mean_loss : 0.313\n",
      "[1 / 3] [400/938] mean_loss : 0.325\n",
      "[1 / 3] [500/938] mean_loss : 0.334\n",
      "[1 / 3] [600/938] mean_loss : 0.301\n",
      "[1 / 3] [700/938] mean_loss : 0.323\n",
      "[1 / 3] [800/938] mean_loss : 0.338\n",
      "[1 / 3] [900/938] mean_loss : 0.325\n",
      "[2 / 3] [000/938] mean_loss : 0.282\n",
      "[2 / 3] [100/938] mean_loss : 0.296\n",
      "[2 / 3] [200/938] mean_loss : 0.294\n",
      "[2 / 3] [300/938] mean_loss : 0.307\n",
      "[2 / 3] [400/938] mean_loss : 0.299\n",
      "[2 / 3] [500/938] mean_loss : 0.299\n",
      "[2 / 3] [600/938] mean_loss : 0.324\n",
      "[2 / 3] [700/938] mean_loss : 0.286\n",
      "[2 / 3] [800/938] mean_loss : 0.306\n",
      "[2 / 3] [900/938] mean_loss : 0.330\n"
     ]
    }
   ],
   "source": [
    "writer= SummaryWriter(comment='-CNN')\n",
    "for epoch in range(EPOCH):\n",
    "    losses=[]\n",
    "    for i, (inputs, targets) in enumerate(train_loader):\n",
    "        model.zero_grad()\n",
    "        pred= model(inputs)\n",
    "        loss= loss_function(pred, targets)\n",
    "        loss.backward()\n",
    "        optimizer.step()\n",
    "        \n",
    "        losses.append(loss.data.item())\n",
    "        \n",
    "        if i% 100==0:\n",
    "            print('[%d / %d] [%03d/%d] mean_loss : %.3f' % (epoch, EPOCH, i, len(train_loader), np.mean(losses)))\n",
    "            writer.add_scalars('data/cnn/', {'cnn':np.mean(losses)}, (i+1)+epoch*len(train_loader))\n",
    "            losses=[]\n",
    "            "
   ]
  },
  {
   "cell_type": "markdown",
   "metadata": {},
   "source": [
    "# 4. evaluation"
   ]
  },
  {
   "cell_type": "code",
   "execution_count": 27,
   "metadata": {
    "ExecuteTime": {
     "end_time": "2018-08-11T16:35:00.888888Z",
     "start_time": "2018-08-11T16:34:56.817459Z"
    }
   },
   "outputs": [
    {
     "name": "stdout",
     "output_type": "stream",
     "text": [
      "Accuracy :  0.8754\n"
     ]
    }
   ],
   "source": [
    "num_equals=0\n",
    "\n",
    "for i,(inputs, targets) in enumerate(test_loader):\n",
    "    pred= model(inputs)\n",
    "    \n",
    "    result= pred.max(1)[1]\n",
    "    num_equals+= torch.eq(result, targets).sum().item()\n",
    "    \n",
    "print(\"Accuracy : \", num_equals/len(test_dataset))"
   ]
  },
  {
   "cell_type": "code",
   "execution_count": 28,
   "metadata": {
    "ExecuteTime": {
     "end_time": "2018-08-11T16:35:25.172034Z",
     "start_time": "2018-08-11T16:35:02.023172Z"
    }
   },
   "outputs": [
    {
     "name": "stdout",
     "output_type": "stream",
     "text": [
      "/Users/a408109/anaconda3/lib/python3.6/site-packages/h5py/__init__.py:36: FutureWarning: Conversion of the second argument of issubdtype from `float` to `np.floating` is deprecated. In future, it will be treated as `np.float64 == np.dtype(float).type`.\n",
      "  from ._conv import register_converters as _register_converters\n",
      "TensorBoard 1.9.0 at http://408109-HC-D16A57:6007 (Press CTRL+C to quit)\n",
      "^C\n"
     ]
    }
   ],
   "source": [
    "! tensorboard --logdir runs --port 6007"
   ]
  }
 ],
 "metadata": {
  "kernelspec": {
   "display_name": "Python 3",
   "language": "python",
   "name": "python3"
  },
  "language_info": {
   "codemirror_mode": {
    "name": "ipython",
    "version": 3
   },
   "file_extension": ".py",
   "mimetype": "text/x-python",
   "name": "python",
   "nbconvert_exporter": "python",
   "pygments_lexer": "ipython3",
   "version": "3.6.4"
  },
  "varInspector": {
   "cols": {
    "lenName": 16,
    "lenType": 16,
    "lenVar": 40
   },
   "kernels_config": {
    "python": {
     "delete_cmd_postfix": "",
     "delete_cmd_prefix": "del ",
     "library": "var_list.py",
     "varRefreshCmd": "print(var_dic_list())"
    },
    "r": {
     "delete_cmd_postfix": ") ",
     "delete_cmd_prefix": "rm(",
     "library": "var_list.r",
     "varRefreshCmd": "cat(var_dic_list()) "
    }
   },
   "types_to_exclude": [
    "module",
    "function",
    "builtin_function_or_method",
    "instance",
    "_Feature"
   ],
   "window_display": false
  }
 },
 "nbformat": 4,
 "nbformat_minor": 2
}
