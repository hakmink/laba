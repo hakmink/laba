{
 "cells": [
  {
   "cell_type": "code",
   "execution_count": 4,
   "metadata": {
    "ExecuteTime": {
     "end_time": "2018-07-23T13:54:58.365466Z",
     "start_time": "2018-07-23T13:54:58.355514Z"
    }
   },
   "outputs": [
    {
     "data": {
      "text/plain": [
       "<torch._C.Generator at 0x106761b50>"
      ]
     },
     "execution_count": 4,
     "metadata": {},
     "output_type": "execute_result"
    }
   ],
   "source": [
    "import torch\n",
    "import torch.nn as nn\n",
    "from torch.autograd import Variable\n",
    "import torch.optim as optim\n",
    "import torch.nn.functional as F\n",
    "import numpy as np\n",
    "import torchvision.transforms as transforms\n",
    "import torchvision.datasets as vdatasets\n",
    "import torchvision.utils as vutils\n",
    "from tensorboardX import SummaryWriter\n",
    "import pickle,os,shutil\n",
    "torch.manual_seed(1)"
   ]
  },
  {
   "cell_type": "markdown",
   "metadata": {},
   "source": [
    "# What is a learning_rate_decay\n"
   ]
  },
  {
   "cell_type": "markdown",
   "metadata": {},
   "source": [
    "# 0. 텐서보드"
   ]
  },
  {
   "cell_type": "code",
   "execution_count": 5,
   "metadata": {
    "ExecuteTime": {
     "end_time": "2018-07-23T13:54:59.296162Z",
     "start_time": "2018-07-23T13:54:59.289457Z"
    }
   },
   "outputs": [],
   "source": [
    "port= '6006'\n",
    "try:\n",
    "    shutil.rmtree('runs/')\n",
    "except:\n",
    "    pass"
   ]
  },
  {
   "cell_type": "markdown",
   "metadata": {},
   "source": [
    "# 1. 데이터"
   ]
  },
  {
   "cell_type": "code",
   "execution_count": 6,
   "metadata": {
    "ExecuteTime": {
     "end_time": "2018-07-23T13:54:59.939503Z",
     "start_time": "2018-07-23T13:54:59.881226Z"
    }
   },
   "outputs": [],
   "source": [
    "BATCH_SIZE= 64\n",
    "\n",
    "train_dataset = vdatasets.MNIST(root='../data/MNIST/',\n",
    "                               train=True, \n",
    "                               transform=transforms.ToTensor(),\n",
    "                               download=True)\n",
    "\n",
    "\n",
    "train_loader = torch.utils.data.DataLoader(dataset=train_dataset,\n",
    "                                           batch_size=BATCH_SIZE, \n",
    "                                           shuffle=True,\n",
    "                                           num_workers=2,\n",
    "                                           drop_last=True) # 이동평균이 튀는걸 방지\n",
    "\n",
    "test_dataset = vdatasets.MNIST(root='../data/MNIST/',\n",
    "                               train=False, \n",
    "                               transform=transforms.ToTensor(),\n",
    "                               download=True)\n",
    "\n",
    "\n",
    "test_loader = torch.utils.data.DataLoader(dataset=test_dataset,\n",
    "                                           batch_size=BATCH_SIZE, \n",
    "                                           shuffle=True,\n",
    "                                           num_workers=2)"
   ]
  },
  {
   "cell_type": "markdown",
   "metadata": {},
   "source": [
    "# 2. model"
   ]
  },
  {
   "cell_type": "code",
   "execution_count": 7,
   "metadata": {
    "ExecuteTime": {
     "end_time": "2018-07-23T13:55:00.628736Z",
     "start_time": "2018-07-23T13:55:00.618165Z"
    }
   },
   "outputs": [],
   "source": [
    "class NN(nn.Module):\n",
    "    def __init__(self, input_size, hidden_size, output_size):\n",
    "        super(NN, self).__init__()\n",
    "        self.linear1= nn.Linear(input_size, hidden_size)\n",
    "        self.linear2= nn.Linear(hidden_size, output_size)\n",
    "        \n",
    "        # In : {배치사이즈, 차원수} => Out : (배치사이즈, 차원수)\n",
    "        self.bn1= nn.BatchNorm1d(hidden_size)\n",
    "    def forward(self, inputs):\n",
    "        outputs= self.bn1(self.linear1(inputs))\n",
    "        outputs= F.relu(outputs)\n",
    "        return self.linear2(outputs)"
   ]
  },
  {
   "cell_type": "markdown",
   "metadata": {},
   "source": [
    "# 3. Learning rate scheduling\n",
    "### 3.1 StepLR"
   ]
  },
  {
   "cell_type": "code",
   "execution_count": 8,
   "metadata": {
    "ExecuteTime": {
     "end_time": "2018-07-23T13:55:01.177955Z",
     "start_time": "2018-07-23T13:55:01.169611Z"
    }
   },
   "outputs": [],
   "source": [
    "EPOCH=4\n",
    "LR=0.1\n",
    "model=NN(784, 512, 10)\n",
    "optimizer= optim.SGD(model.parameters(), lr=LR)\n",
    "loss_function= nn.CrossEntropyLoss()"
   ]
  },
  {
   "cell_type": "code",
   "execution_count": 9,
   "metadata": {
    "ExecuteTime": {
     "end_time": "2018-07-23T13:55:01.452813Z",
     "start_time": "2018-07-23T13:55:01.448968Z"
    }
   },
   "outputs": [],
   "source": [
    "writer= SummaryWriter(comment=\"-batch-norm\")"
   ]
  },
  {
   "cell_type": "code",
   "execution_count": 10,
   "metadata": {
    "ExecuteTime": {
     "end_time": "2018-07-23T13:55:23.444482Z",
     "start_time": "2018-07-23T13:55:01.800883Z"
    },
    "scrolled": true
   },
   "outputs": [
    {
     "name": "stdout",
     "output_type": "stream",
     "text": [
      "[0/4] [000/937] mean_loss : 2.244\n",
      "[0/4] [100/937] mean_loss : 0.628\n",
      "[0/4] [200/937] mean_loss : 0.474\n",
      "[0/4] [300/937] mean_loss : 0.409\n",
      "[0/4] [400/937] mean_loss : 0.367\n",
      "[0/4] [500/937] mean_loss : 0.340\n",
      "[0/4] [600/937] mean_loss : 0.318\n",
      "[0/4] [700/937] mean_loss : 0.300\n",
      "[0/4] [800/937] mean_loss : 0.284\n",
      "[0/4] [900/937] mean_loss : 0.270\n",
      "0.1\n",
      "[1/4] [000/937] mean_loss : 0.110\n",
      "[1/4] [100/937] mean_loss : 0.143\n",
      "[1/4] [200/937] mean_loss : 0.141\n",
      "[1/4] [300/937] mean_loss : 0.140\n",
      "[1/4] [400/937] mean_loss : 0.137\n",
      "[1/4] [500/937] mean_loss : 0.135\n",
      "[1/4] [600/937] mean_loss : 0.132\n",
      "[1/4] [700/937] mean_loss : 0.131\n",
      "[1/4] [800/937] mean_loss : 0.129\n",
      "[1/4] [900/937] mean_loss : 0.127\n",
      "0.01\n",
      "[2/4] [000/937] mean_loss : 0.025\n",
      "[2/4] [100/937] mean_loss : 0.102\n",
      "[2/4] [200/937] mean_loss : 0.096\n",
      "[2/4] [300/937] mean_loss : 0.093\n",
      "[2/4] [400/937] mean_loss : 0.091\n",
      "[2/4] [500/937] mean_loss : 0.091\n",
      "[2/4] [600/937] mean_loss : 0.089\n",
      "[2/4] [700/937] mean_loss : 0.088\n",
      "[2/4] [800/937] mean_loss : 0.088\n",
      "[2/4] [900/937] mean_loss : 0.087\n",
      "0.001\n",
      "[3/4] [000/937] mean_loss : 0.128\n",
      "[3/4] [100/937] mean_loss : 0.081\n",
      "[3/4] [200/937] mean_loss : 0.081\n",
      "[3/4] [300/937] mean_loss : 0.080\n",
      "[3/4] [400/937] mean_loss : 0.081\n",
      "[3/4] [500/937] mean_loss : 0.082\n",
      "[3/4] [600/937] mean_loss : 0.081\n",
      "[3/4] [700/937] mean_loss : 0.080\n",
      "[3/4] [800/937] mean_loss : 0.080\n",
      "[3/4] [900/937] mean_loss : 0.080\n",
      "0.0001\n",
      "CPU times: user 32 s, sys: 3.24 s, total: 35.2 s\n",
      "Wall time: 21.6 s\n"
     ]
    }
   ],
   "source": [
    "%%time\n",
    "scheduler= optim.lr_scheduler.StepLR(optimizer, step_size=1, gamma=0.1)\n",
    "for epoch in range(EPOCH):\n",
    "    losses=[]\n",
    "    for i, (inputs, targets) in enumerate(train_loader):\n",
    "        model.zero_grad()\n",
    "        pred= model(inputs.view(len(inputs),-1))\n",
    "        loss= loss_function(pred, targets)\n",
    "        loss.backward()\n",
    "        optimizer.step()\n",
    "        \n",
    "        losses.append(loss.data.item())\n",
    "        if i % 100==0:\n",
    "            avg_loss= np.mean(losses)\n",
    "            print(\"[%d/%d] [%03d/%d] mean_loss : %.3f\" % (epoch,EPOCH,i,len(train_loader),avg_loss))\n",
    "            writer.add_scalars('data/step/',{'steplr': avg_loss}, (i+1)+(epoch*len(train_loader)))\n",
    "    \n",
    "    scheduler.step()\n",
    "    print(round(scheduler.get_lr()[0],6))"
   ]
  },
  {
   "cell_type": "markdown",
   "metadata": {},
   "source": [
    "### 3.2 MultiStepLR\n"
   ]
  },
  {
   "cell_type": "code",
   "execution_count": 11,
   "metadata": {
    "ExecuteTime": {
     "end_time": "2018-07-23T13:55:23.524764Z",
     "start_time": "2018-07-23T13:55:23.517572Z"
    }
   },
   "outputs": [],
   "source": [
    "LR=0.1\n",
    "model= NN(784,512,10)\n",
    "optimizer= optim.SGD(model.parameters(), lr=LR)\n",
    "loss_function= nn.CrossEntropyLoss()"
   ]
  },
  {
   "cell_type": "code",
   "execution_count": 13,
   "metadata": {
    "ExecuteTime": {
     "end_time": "2018-07-23T13:57:11.424982Z",
     "start_time": "2018-07-23T13:56:50.579566Z"
    }
   },
   "outputs": [
    {
     "name": "stdout",
     "output_type": "stream",
     "text": [
      "[0/4] [000/937] mean_loss : 0.049\n",
      "[0/4] [100/937] mean_loss : 0.078\n",
      "[0/4] [200/937] mean_loss : 0.083\n",
      "[0/4] [300/937] mean_loss : 0.087\n",
      "[0/4] [400/937] mean_loss : 0.087\n",
      "[0/4] [500/937] mean_loss : 0.087\n",
      "[0/4] [600/937] mean_loss : 0.087\n",
      "[0/4] [700/937] mean_loss : 0.086\n",
      "[0/4] [800/937] mean_loss : 0.084\n",
      "[0/4] [900/937] mean_loss : 0.084\n",
      "0.1\n",
      "[1/4] [000/937] mean_loss : 0.078\n",
      "[1/4] [100/937] mean_loss : 0.071\n",
      "[1/4] [200/937] mean_loss : 0.067\n",
      "[1/4] [300/937] mean_loss : 0.067\n",
      "[1/4] [400/937] mean_loss : 0.067\n",
      "[1/4] [500/937] mean_loss : 0.067\n",
      "[1/4] [600/937] mean_loss : 0.067\n",
      "[1/4] [700/937] mean_loss : 0.066\n",
      "[1/4] [800/937] mean_loss : 0.066\n",
      "[1/4] [900/937] mean_loss : 0.066\n",
      "0.1\n",
      "[2/4] [000/937] mean_loss : 0.022\n",
      "[2/4] [100/937] mean_loss : 0.047\n",
      "[2/4] [200/937] mean_loss : 0.051\n",
      "[2/4] [300/937] mean_loss : 0.052\n",
      "[2/4] [400/937] mean_loss : 0.051\n",
      "[2/4] [500/937] mean_loss : 0.052\n",
      "[2/4] [600/937] mean_loss : 0.053\n",
      "[2/4] [700/937] mean_loss : 0.054\n",
      "[2/4] [800/937] mean_loss : 0.053\n",
      "[2/4] [900/937] mean_loss : 0.054\n",
      "0.01\n",
      "[3/4] [000/937] mean_loss : 0.048\n",
      "[3/4] [100/937] mean_loss : 0.039\n",
      "[3/4] [200/937] mean_loss : 0.038\n",
      "[3/4] [300/937] mean_loss : 0.040\n",
      "[3/4] [400/937] mean_loss : 0.039\n",
      "[3/4] [500/937] mean_loss : 0.038\n",
      "[3/4] [600/937] mean_loss : 0.038\n",
      "[3/4] [700/937] mean_loss : 0.038\n",
      "[3/4] [800/937] mean_loss : 0.037\n",
      "[3/4] [900/937] mean_loss : 0.038\n",
      "0.01\n"
     ]
    }
   ],
   "source": [
    "scheduler= optim.lr_scheduler.MultiStepLR(optimizer, milestones=[2], gamma=0.1)\n",
    "for epoch in range(EPOCH):\n",
    "    losses=[]\n",
    "    for i, (inputs, targets) in enumerate(train_loader):\n",
    "        model.zero_grad()\n",
    "        pred= model(inputs.view(-1, 784))\n",
    "        loss= loss_function(pred, targets)\n",
    "        losses.append(loss.data.item())\n",
    "        loss.backward()\n",
    "        optimizer.step()\n",
    "        \n",
    "        if i % 100==0:\n",
    "            avg_loss= np.mean(losses)\n",
    "            print(\"[%d/%d] [%03d/%d] mean_loss : %.3f\" % (epoch,EPOCH,i,len(train_loader),avg_loss))\n",
    "            writer.add_scalars('data/step/',{'multistep': avg_loss}, (i+1)+(epoch*len(train_loader)))\n",
    "\n",
    "    scheduler.step()\n",
    "    print(round(scheduler.get_lr()[0],6))"
   ]
  },
  {
   "cell_type": "code",
   "execution_count": null,
   "metadata": {
    "ExecuteTime": {
     "start_time": "2018-07-23T13:54:16.289Z"
    }
   },
   "outputs": [],
   "source": [
    "!tensorboard --logdir runs --port 6006"
   ]
  },
  {
   "cell_type": "code",
   "execution_count": null,
   "metadata": {},
   "outputs": [],
   "source": []
  }
 ],
 "metadata": {
  "kernelspec": {
   "display_name": "Python 3",
   "language": "python",
   "name": "python3"
  },
  "language_info": {
   "codemirror_mode": {
    "name": "ipython",
    "version": 3
   },
   "file_extension": ".py",
   "mimetype": "text/x-python",
   "name": "python",
   "nbconvert_exporter": "python",
   "pygments_lexer": "ipython3",
   "version": "3.6.6"
  },
  "toc": {
   "base_numbering": 1,
   "nav_menu": {},
   "number_sections": true,
   "sideBar": true,
   "skip_h1_title": false,
   "title_cell": "Table of Contents",
   "title_sidebar": "Contents",
   "toc_cell": false,
   "toc_position": {},
   "toc_section_display": true,
   "toc_window_display": false
  },
  "varInspector": {
   "cols": {
    "lenName": 16,
    "lenType": 16,
    "lenVar": 40
   },
   "kernels_config": {
    "python": {
     "delete_cmd_postfix": "",
     "delete_cmd_prefix": "del ",
     "library": "var_list.py",
     "varRefreshCmd": "print(var_dic_list())"
    },
    "r": {
     "delete_cmd_postfix": ") ",
     "delete_cmd_prefix": "rm(",
     "library": "var_list.r",
     "varRefreshCmd": "cat(var_dic_list()) "
    }
   },
   "types_to_exclude": [
    "module",
    "function",
    "builtin_function_or_method",
    "instance",
    "_Feature"
   ],
   "window_display": false
  }
 },
 "nbformat": 4,
 "nbformat_minor": 2
}
