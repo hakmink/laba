{
 "cells": [
  {
   "cell_type": "code",
   "execution_count": 1,
   "metadata": {
    "ExecuteTime": {
     "end_time": "2018-07-22T16:56:46.204959Z",
     "start_time": "2018-07-22T16:56:45.905399Z"
    }
   },
   "outputs": [
    {
     "data": {
      "text/plain": [
       "<torch._C.Generator at 0x108d3de70>"
      ]
     },
     "execution_count": 1,
     "metadata": {},
     "output_type": "execute_result"
    }
   ],
   "source": [
    "import torch\n",
    "import torch.nn as nn\n",
    "from torch.autograd import Variable\n",
    "import torch.optim as optim\n",
    "import torch.nn.functional as F\n",
    "import numpy as np\n",
    "import torchvision.transforms as transforms\n",
    "import torchvision.datasets as vdatasets\n",
    "import torchvision.utils as vutils\n",
    "from tensorboardX import SummaryWriter\n",
    "import pickle,os,shutil\n",
    "torch.manual_seed(1)"
   ]
  },
  {
   "cell_type": "markdown",
   "metadata": {},
   "source": [
    "# What is a Weight initialization?\n",
    "- 딥러닝 모델은 weight의 초기화가 중요함. \n",
    "- weight초기화에 따라서 학습 속도나 saddle point에 빠질 가능성이 다르다.-> 모델 성능 좌우\n",
    "\n",
    " <img src = './images/weight_initialization.png' width= 300> \n"
   ]
  },
  {
   "cell_type": "code",
   "execution_count": 2,
   "metadata": {
    "ExecuteTime": {
     "end_time": "2018-07-22T16:56:47.447204Z",
     "start_time": "2018-07-22T16:56:47.440286Z"
    }
   },
   "outputs": [],
   "source": [
    "port= '6006'\n",
    "\n",
    "# 텐서보드 데이터 파일 초기화\n",
    "try:\n",
    "    shutil.rmtree('runs/')\n",
    "except:\n",
    "    pass"
   ]
  },
  {
   "cell_type": "markdown",
   "metadata": {},
   "source": [
    "# 0. init operation"
   ]
  },
  {
   "cell_type": "code",
   "execution_count": 3,
   "metadata": {
    "ExecuteTime": {
     "end_time": "2018-07-22T16:56:47.945224Z",
     "start_time": "2018-07-22T16:56:47.928043Z"
    }
   },
   "outputs": [],
   "source": [
    "class NN(nn.Module):\n",
    "    def __init__(self, input_size, hidden_size, output_size):\n",
    "        super(NN, self).__init__()\n",
    "        self.linear1= nn.Linear(input_size,hidden_size)\n",
    "        self.linear2= nn.Linear(hidden_size, hidden_size)\n",
    "        self.linear3= nn.Linear(hidden_size, output_size)\n",
    "        \n",
    "    def init_weight(self, init_op=None):\n",
    "        for name, param in self.named_parameters():\n",
    "            if 'weight' in name:\n",
    "                    if init_op:\n",
    "                        print(init_op.__name__)\n",
    "                        param.data=init_op(param.data)\n",
    "                \n",
    "    def forward(self, inputs):\n",
    "        outputs= F.relu(self.linear1(inputs))\n",
    "        outputs= F.relu(self.linear2(outputs))\n",
    "        return self.linear3(outputs)"
   ]
  },
  {
   "cell_type": "code",
   "execution_count": 4,
   "metadata": {
    "ExecuteTime": {
     "end_time": "2018-07-22T16:56:48.212127Z",
     "start_time": "2018-07-22T16:56:48.175744Z"
    }
   },
   "outputs": [
    {
     "name": "stdout",
     "output_type": "stream",
     "text": [
      "xavier_normal_\n",
      "xavier_normal_\n",
      "xavier_normal_\n"
     ]
    }
   ],
   "source": [
    "INPUT_SIZE= 784\n",
    "HIDDEN_SIZE=1024\n",
    "OUTPUT_SIZE=10\n",
    "\n",
    "model=NN(INPUT_SIZE, HIDDEN_SIZE, OUTPUT_SIZE)\n",
    "model.init_weight(nn.init.xavier_normal_)"
   ]
  },
  {
   "cell_type": "code",
   "execution_count": 5,
   "metadata": {
    "ExecuteTime": {
     "end_time": "2018-07-22T16:56:48.441516Z",
     "start_time": "2018-07-22T16:56:48.433797Z"
    }
   },
   "outputs": [
    {
     "data": {
      "text/plain": [
       "tensor([[0., 0.],\n",
       "        [0., 0.],\n",
       "        [0., 0.],\n",
       "        [0., 0.],\n",
       "        [0., 0.],\n",
       "        [0., 0.],\n",
       "        [0., 0.],\n",
       "        [0., 0.],\n",
       "        [0., 0.],\n",
       "        [0., 0.]])"
      ]
     },
     "execution_count": 5,
     "metadata": {},
     "output_type": "execute_result"
    }
   ],
   "source": [
    "param = torch.zeros(10,2)\n",
    "\n",
    "param"
   ]
  },
  {
   "cell_type": "code",
   "execution_count": 6,
   "metadata": {
    "ExecuteTime": {
     "end_time": "2018-07-22T16:56:48.691100Z",
     "start_time": "2018-07-22T16:56:48.686667Z"
    }
   },
   "outputs": [
    {
     "data": {
      "text/plain": [
       "tensor([[0.4688, 0.0987],\n",
       "        [0.3022, 0.7655],\n",
       "        [0.5121, 0.7124],\n",
       "        [0.8003, 0.5404],\n",
       "        [0.5419, 0.2992],\n",
       "        [0.8381, 0.7065],\n",
       "        [0.9928, 0.2173],\n",
       "        [0.4234, 0.9057],\n",
       "        [0.5621, 0.4820],\n",
       "        [0.3548, 0.6176]])"
      ]
     },
     "execution_count": 6,
     "metadata": {},
     "output_type": "execute_result"
    }
   ],
   "source": [
    "nn.init.uniform_(param, 0, 1)"
   ]
  },
  {
   "cell_type": "code",
   "execution_count": 7,
   "metadata": {
    "ExecuteTime": {
     "end_time": "2018-07-22T16:56:49.213503Z",
     "start_time": "2018-07-22T16:56:49.207776Z"
    }
   },
   "outputs": [
    {
     "data": {
      "text/plain": [
       "tensor([[ 0.0564, -0.2130],\n",
       "        [ 1.5743, -1.1243],\n",
       "        [-0.7811, -0.0694],\n",
       "        [-0.2208, -2.2898],\n",
       "        [ 1.7076,  1.4199],\n",
       "        [-0.4382, -0.1161],\n",
       "        [-0.2865, -0.1408],\n",
       "        [ 1.0070, -0.5401],\n",
       "        [-0.7316, -0.9131],\n",
       "        [-0.5705,  0.5016]])"
      ]
     },
     "execution_count": 7,
     "metadata": {},
     "output_type": "execute_result"
    }
   ],
   "source": [
    "nn.init.normal_(param,0,1)"
   ]
  },
  {
   "cell_type": "code",
   "execution_count": 8,
   "metadata": {
    "ExecuteTime": {
     "end_time": "2018-07-22T16:56:49.517604Z",
     "start_time": "2018-07-22T16:56:49.512573Z"
    }
   },
   "outputs": [
    {
     "data": {
      "text/plain": [
       "tensor([[1., 1.],\n",
       "        [1., 1.],\n",
       "        [1., 1.],\n",
       "        [1., 1.],\n",
       "        [1., 1.],\n",
       "        [1., 1.],\n",
       "        [1., 1.],\n",
       "        [1., 1.],\n",
       "        [1., 1.],\n",
       "        [1., 1.]])"
      ]
     },
     "execution_count": 8,
     "metadata": {},
     "output_type": "execute_result"
    }
   ],
   "source": [
    "nn.init.constant_(param,1)"
   ]
  },
  {
   "cell_type": "code",
   "execution_count": 9,
   "metadata": {
    "ExecuteTime": {
     "end_time": "2018-07-22T16:56:49.823222Z",
     "start_time": "2018-07-22T16:56:49.818591Z"
    }
   },
   "outputs": [
    {
     "data": {
      "text/plain": [
       "tensor([[ 0.1851,  0.3072],\n",
       "        [-0.1578,  0.7031],\n",
       "        [ 0.4530,  0.4093],\n",
       "        [ 0.2209, -0.5772],\n",
       "        [ 0.3094,  0.1635],\n",
       "        [ 0.3197,  0.0470],\n",
       "        [-0.6948,  0.2600],\n",
       "        [-0.2312,  0.5589],\n",
       "        [-0.4113,  0.6521],\n",
       "        [-0.1810,  0.3387]])"
      ]
     },
     "execution_count": 9,
     "metadata": {},
     "output_type": "execute_result"
    }
   ],
   "source": [
    "nn.init.xavier_uniform_(param)"
   ]
  },
  {
   "cell_type": "code",
   "execution_count": 10,
   "metadata": {
    "ExecuteTime": {
     "end_time": "2018-07-22T16:56:50.149814Z",
     "start_time": "2018-07-22T16:56:50.143942Z"
    },
    "scrolled": true
   },
   "outputs": [
    {
     "data": {
      "text/plain": [
       "tensor([[ 0.1985,  0.5769],\n",
       "        [-0.3624, -0.7879],\n",
       "        [-0.6563,  0.5113],\n",
       "        [ 0.0036,  0.3797],\n",
       "        [-0.2453,  0.3223],\n",
       "        [ 0.3755,  0.6599],\n",
       "        [ 0.7216, -0.1670],\n",
       "        [-0.4652,  0.1962],\n",
       "        [ 0.3644,  0.0838],\n",
       "        [ 0.1378, -0.0207]])"
      ]
     },
     "execution_count": 10,
     "metadata": {},
     "output_type": "execute_result"
    }
   ],
   "source": [
    "nn.init.xavier_normal_(param)"
   ]
  },
  {
   "cell_type": "markdown",
   "metadata": {},
   "source": [
    "# 1. weight init 효과 분석"
   ]
  },
  {
   "cell_type": "code",
   "execution_count": 11,
   "metadata": {
    "ExecuteTime": {
     "end_time": "2018-07-22T16:56:51.131080Z",
     "start_time": "2018-07-22T16:56:51.087919Z"
    }
   },
   "outputs": [],
   "source": [
    "INIT_OPS= [None, nn.init.xavier_normal_]\n",
    "EPOCH=3\n",
    "LR=0.01\n",
    "BATCH_SIZE=64\n",
    "\n",
    "INPUT_SIZE= 784\n",
    "HIDDEN_SIZE=1024\n",
    "OUTPUT_SIZE=10\n",
    "train_dataset= vdatasets.MNIST(root='../data/MNIST',\n",
    "                               train=True,\n",
    "                               transform=transforms.ToTensor(),\n",
    "                               download=False)\n",
    "\n",
    "train_loader= torch.utils.data.DataLoader(dataset=train_dataset,\n",
    "                                         batch_size=BATCH_SIZE,\n",
    "                                         shuffle=True,\n",
    "                                         num_workers=2)"
   ]
  },
  {
   "cell_type": "code",
   "execution_count": 12,
   "metadata": {
    "ExecuteTime": {
     "end_time": "2018-07-22T16:59:36.256408Z",
     "start_time": "2018-07-22T16:58:43.762178Z"
    },
    "scrolled": false
   },
   "outputs": [
    {
     "name": "stdout",
     "output_type": "stream",
     "text": [
      "None training start! \n",
      "done\n",
      "xavier_normal_\n",
      "xavier_normal_\n",
      "xavier_normal_\n",
      "xavier_normal_ training start! \n",
      "done\n"
     ]
    }
   ],
   "source": [
    "# 텐서보드 데이터 파일 초기화\n",
    "try:\n",
    "    shutil.rmtree('runs/')\n",
    "except:\n",
    "    pass\n",
    "\n",
    "for INIT_OP in INIT_OPS:\n",
    "    op_name= INIT_OP.__name__ if INIT_OP else \"None\"\n",
    "    writer= SummaryWriter(comment=\"-\"+op_name)\n",
    "    \n",
    "    # 모델 선언\n",
    "    model= NN(INPUT_SIZE, HIDDEN_SIZE, OUTPUT_SIZE)\n",
    "    if INIT_OP is not None:\n",
    "        model.init_weight(INIT_OP)\n",
    "    \n",
    "    loss_function= nn.CrossEntropyLoss()\n",
    "    optimizer= optim.SGD(model.parameters(), lr=LR)\n",
    "    \n",
    "    # 트레이닝\n",
    "    print(op_name + \" training start! \")\n",
    "    for epoch in range(EPOCH):\n",
    "        for i, (inputs, targets) in enumerate(train_loader):\n",
    "            model.zero_grad()\n",
    "            outputs = model(inputs.view(-1,784))\n",
    "            loss = loss_function(outputs, targets)\n",
    "            loss.backward()\n",
    "            optimizer.step()\n",
    "            \n",
    "            writer.add_scalars('data/weight_init/',{op_name : loss.data.item()},(i+1)+(epoch*len(train_loader)))\n",
    "    print(\"done\")\n",
    "    \n",
    "writer.close()"
   ]
  },
  {
   "cell_type": "code",
   "execution_count": 13,
   "metadata": {
    "ExecuteTime": {
     "end_time": "2018-07-22T16:59:36.309534Z",
     "start_time": "2018-07-22T16:59:36.304744Z"
    }
   },
   "outputs": [
    {
     "data": {
      "text/plain": [
       "'6006'"
      ]
     },
     "execution_count": 13,
     "metadata": {},
     "output_type": "execute_result"
    }
   ],
   "source": [
    "port"
   ]
  },
  {
   "cell_type": "code",
   "execution_count": null,
   "metadata": {
    "ExecuteTime": {
     "start_time": "2018-07-22T16:58:46.252Z"
    },
    "scrolled": true
   },
   "outputs": [],
   "source": [
    "!tensorboard --logdir runs --port 6006"
   ]
  }
 ],
 "metadata": {
  "kernelspec": {
   "display_name": "Python 3",
   "language": "python",
   "name": "python3"
  },
  "language_info": {
   "codemirror_mode": {
    "name": "ipython",
    "version": 3
   },
   "file_extension": ".py",
   "mimetype": "text/x-python",
   "name": "python",
   "nbconvert_exporter": "python",
   "pygments_lexer": "ipython3",
   "version": "3.6.6"
  },
  "varInspector": {
   "cols": {
    "lenName": 16,
    "lenType": 16,
    "lenVar": 40
   },
   "kernels_config": {
    "python": {
     "delete_cmd_postfix": "",
     "delete_cmd_prefix": "del ",
     "library": "var_list.py",
     "varRefreshCmd": "print(var_dic_list())"
    },
    "r": {
     "delete_cmd_postfix": ") ",
     "delete_cmd_prefix": "rm(",
     "library": "var_list.r",
     "varRefreshCmd": "cat(var_dic_list()) "
    }
   },
   "types_to_exclude": [
    "module",
    "function",
    "builtin_function_or_method",
    "instance",
    "_Feature"
   ],
   "window_display": false
  }
 },
 "nbformat": 4,
 "nbformat_minor": 2
}
