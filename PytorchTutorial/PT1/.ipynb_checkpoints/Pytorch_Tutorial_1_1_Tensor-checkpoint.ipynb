{
 "cells": [
  {
   "cell_type": "markdown",
   "metadata": {},
   "source": [
    "# Reference\n",
    "- https://pytorch.org/docs/0.4.0/nn.html\n",
    "- https://pytorch.org/tutorials/\n",
    "- https://ratsgo.github.io/machine%20learning/2017/10/12/terms/\n",
    "- https://github.com/DSKSD/Pytorch_Fast_Campus_2018"
   ]
  },
  {
   "cell_type": "code",
   "execution_count": 2,
   "metadata": {
    "ExecuteTime": {
     "end_time": "2018-08-11T10:26:05.885090Z",
     "start_time": "2018-08-11T10:26:05.874148Z"
    }
   },
   "outputs": [],
   "source": [
    "import torch\n",
    "import torch.nn as nn\n",
    "from torch.autograd import Variable\n",
    "import torch.optim as optim\n",
    "import torch.nn.functional as F\n",
    "import torchvision\n",
    "import numpy as np\n",
    "from collections import OrderedDict\n",
    "\n",
    "torch.manual_seed(1)\n",
    "\n",
    "import numpy as np\n",
    "import matplotlib.pyplot as plt\n",
    "%matplotlib inline"
   ]
  },
  {
   "cell_type": "markdown",
   "metadata": {},
   "source": [
    "# What is a PyTorch?\n",
    "- Tensor와 Optimizer, Neural Net등 GPU연산에 최적화된 모듈을 이용하여 빠르게 딥러닝 모델을 구현할 수 있는 프레임워크\n",
    "Facebook이 밀고 있던 lua기반의 torch를 python버전으로 포팅함.\n",
    "\n",
    "# > Pytorch Basic\n",
    "- Tensor\n",
    "- autograd\n",
    "- nn\n",
    "- optim\n",
    "\n",
    "## 1. Tensor\n",
    "\n",
    "wiki >\n",
    " - 텐서란 선형 관계를 나타내는 기학적 대상이다.  \n",
    " (https://ko.wikipedia.org/wiki/%ED%85%90%EC%84%9C#%EC%A0%95%EC%9D%98)\n",
    " \n",
    "PyTorch > \n",
    " - Tensor는 N차원 배열이며, PyTorch는 Tensor연산을 위한 다양한 함수들을 제공함.   \n",
    " - numpy와 다르게 GPU를 활용해 수치 연산을 가속화 할 수 있음.  \n",
    " \n",
    "### 1.1 Create tensor\n",
    "- 다양한 방법으로 Tensor타입의 자료형을 만들 수 있음.\n",
    "\n",
    "#### 1.1.1 파이썬 리스트로부터 생성"
   ]
  },
  {
   "cell_type": "code",
   "execution_count": 16,
   "metadata": {
    "ExecuteTime": {
     "end_time": "2018-08-11T08:39:26.489882Z",
     "start_time": "2018-08-11T08:39:26.470410Z"
    }
   },
   "outputs": [
    {
     "name": "stdout",
     "output_type": "stream",
     "text": [
      "<vector> %s %s:\n",
      " tensor([1, 2, 3], dtype=torch.int32) torch.int32\n",
      "<vector> %s %s:\n",
      " tensor([1., 2., 3.]) torch.float32\n",
      "<matrix> %s %s:\n",
      " tensor([[1., 2., 3.],\n",
      "        [4., 5., 6.]]) torch.float32\n",
      "<3d Tensor> :\n",
      " tensor([[[1., 2.],\n",
      "         [3., 4.]],\n",
      "\n",
      "        [[4., 5.],\n",
      "         [6., 7.]]])\n",
      "<Tensor->list>:\n",
      " [[[1.0, 2.0], [3.0, 4.0]], [[4.0, 5.0], [6.0, 7.0]]]\n"
     ]
    }
   ],
   "source": [
    "V_data= [1., 2., 3.] \n",
    "V= torch.Tensor(V_data).int()\n",
    "print('<vector> %s %s:\\n' ,V, V.dtype)\n",
    "\n",
    "V_data= [1, 2, 3] \n",
    "V= torch.Tensor(V_data).float()\n",
    "print('<vector> %s %s:\\n' ,V, V.dtype)\n",
    "\n",
    "M_data= [[1.,2.,3.],[4.,5.,6.]] # 매트릭스\n",
    "M= torch.Tensor(M_data)\n",
    "print('<matrix> %s %s:\\n', M, M.dtype)\n",
    "\n",
    "T_data= [[[1.,2.],[3.,4.]],[[4.,5.],[6.,7.]]]\n",
    "T= torch.Tensor(T_data)\n",
    "print('<3d Tensor> :\\n', T)\n",
    "\n",
    "T_data= T.tolist()\n",
    "print('<Tensor->list>:\\n', T_data)"
   ]
  },
  {
   "cell_type": "markdown",
   "metadata": {},
   "source": [
    "#### 1.1.2  numpy ndarray객체로부터 Tensor생성"
   ]
  },
  {
   "cell_type": "code",
   "execution_count": 22,
   "metadata": {
    "ExecuteTime": {
     "end_time": "2018-08-11T08:39:26.524998Z",
     "start_time": "2018-08-11T08:39:26.506088Z"
    }
   },
   "outputs": [
    {
     "name": "stdout",
     "output_type": "stream",
     "text": [
      "<vector> %s %s:\n",
      " tensor([1., 2., 3.]) torch.float32\n",
      "<matrix> %s %s:\n",
      " tensor([[1., 2., 3.],\n",
      "        [4., 5., 6.]]) torch.float32\n",
      "<3d Tensor> %s %s:\n",
      " tensor([[[1., 2.],\n",
      "         [3., 4.]],\n",
      "\n",
      "        [[4., 5.],\n",
      "         [6., 7.]]]) torch.float32\n",
      "<Tensor->numpy ndarray>: %s %s\n",
      " [[[1. 2.]\n",
      "  [3. 4.]]\n",
      "\n",
      " [[4. 5.]\n",
      "  [6. 7.]]] float32\n"
     ]
    }
   ],
   "source": [
    "# vector\n",
    "V_data= np.array([1., 2., 3.]) \n",
    "V= torch.Tensor(V_data)\n",
    "print('<vector> %s %s:\\n' ,V, V.dtype)\n",
    "\n",
    "# 매트릭스\n",
    "M_data= np.array([\n",
    "    [1.,2.,3.],[4.,5.,6.]\n",
    "]) \n",
    "M= torch.Tensor(M_data)\n",
    "print('<matrix> %s %s:\\n', M, M.dtype)\n",
    "\n",
    "# 3d tensor\n",
    "T_data= np.array([\n",
    "    [[1.,2.],[3.,4.]],\n",
    "    [[4.,5.],[6.,7.]]\n",
    "])\n",
    "T= torch.Tensor(T_data)\n",
    "print('<3d Tensor> %s %s:\\n', T, T.dtype)\n",
    "\n",
    "\n",
    "T_data= T.numpy()\n",
    "print('<Tensor->numpy ndarray>: %s %s\\n', T_data, T_data.dtype)"
   ]
  },
  {
   "cell_type": "markdown",
   "metadata": {},
   "source": [
    "#### 1.1.3 기타 다른 생성 방법들"
   ]
  },
  {
   "cell_type": "code",
   "execution_count": 25,
   "metadata": {
    "ExecuteTime": {
     "end_time": "2018-08-11T08:39:26.768107Z",
     "start_time": "2018-08-11T08:39:26.755603Z"
    }
   },
   "outputs": [
    {
     "name": "stdout",
     "output_type": "stream",
     "text": [
      "<zeros tensor> :\n",
      " tensor([[0., 0., 0.],\n",
      "        [0., 0., 0.]])\n",
      "<ones tensor> :\n",
      " tensor([[1., 1., 1.],\n",
      "        [1., 1., 1.]])\n",
      "<sample Normal distribution> :\n",
      " tensor([[ 0.4107, -0.9880, -0.9081,  0.5423],\n",
      "        [ 0.1103, -2.2590,  0.6067, -0.1383],\n",
      "        [ 0.8310, -0.2477, -0.8029,  0.2366]])\n",
      "<permutation of integers from 0 to n-1(LongTenosr)> :\n",
      " tensor([1, 0, 4, 2, 3])\n"
     ]
    }
   ],
   "source": [
    "x= torch.zeros(2,3)\n",
    "print('<zeros tensor> :\\n', x)\n",
    "\n",
    "x= torch.ones(2,3)\n",
    "print('<ones tensor> :\\n', x)\n",
    "\n",
    "x= torch.randn(3,4) \n",
    "print('<sample Normal distribution> :\\n', x)\n",
    "\n",
    "x= torch.randperm(5)\n",
    "print('<permutation of integers from 0 to n-1(LongTenosr)> :\\n', x)"
   ]
  },
  {
   "cell_type": "markdown",
   "metadata": {},
   "source": [
    "### 1.2. Indexing, Slicing, Joining, Mutating Ops\n",
    "- PyTorch의 Tensor 자료형도 numpy의 ndarray와 같이 indexing, slicing, joining이 가능함.  \n",
    "\n",
    "#### 1.2.1. indexing"
   ]
  },
  {
   "cell_type": "code",
   "execution_count": 29,
   "metadata": {
    "ExecuteTime": {
     "end_time": "2018-08-11T08:39:27.168792Z",
     "start_time": "2018-08-11T08:39:27.164721Z"
    }
   },
   "outputs": [
    {
     "name": "stdout",
     "output_type": "stream",
     "text": [
      "tensor([[[ 2.4142,  1.0206, -0.4405, -1.7342, -1.0257],\n",
      "         [ 0.5213, -0.4531, -0.1260, -0.5882,  2.1189],\n",
      "         [-0.5422, -2.4593, -0.9502, -0.3095,  1.6633],\n",
      "         [ 0.5051, -0.1970, -0.0334,  0.7193,  1.0644]],\n",
      "\n",
      "        [[-0.8336, -1.1929, -2.3065,  0.6037,  0.3151],\n",
      "         [ 1.1423,  0.3055, -0.5789,  0.5644, -0.8773],\n",
      "         [-0.2693,  1.3120, -1.5563, -1.0757, -0.8752],\n",
      "         [-0.4728, -0.7531, -0.4319,  0.6693,  0.6505]],\n",
      "\n",
      "        [[ 0.7879,  1.3686, -0.8507,  0.5126,  0.6522],\n",
      "         [-0.8726,  0.0353, -0.3365,  1.4023,  0.4841],\n",
      "         [-0.7030, -0.8268,  0.7744,  0.6920, -1.0185],\n",
      "         [-0.8034, -0.7071,  0.7521, -0.0192,  1.1033]]])\n",
      "torch.Size([3, 4, 5])\n",
      "torch.Size([3, 4, 5])\n",
      "torch.Size([4, 5])\n"
     ]
    }
   ],
   "source": [
    "x= torch.randn(3,4,5)\n",
    "print(x)\n",
    "print(x.shape)\n",
    "print(x.size())\n",
    "print(x[0,:,:].size())"
   ]
  },
  {
   "cell_type": "markdown",
   "metadata": {},
   "source": [
    "#### 1.2.2 select_index\n",
    "- LongTensor로 Tensor에 행 또는 열에 해당하는 값을 가져올 수 있음."
   ]
  },
  {
   "cell_type": "code",
   "execution_count": 28,
   "metadata": {
    "ExecuteTime": {
     "end_time": "2018-08-11T08:39:27.551477Z",
     "start_time": "2018-08-11T08:39:27.539535Z"
    }
   },
   "outputs": [
    {
     "name": "stdout",
     "output_type": "stream",
     "text": [
      "x.shape : torch.Size([3, 4])\n",
      "x : tensor([[ 0.3482,  1.1371, -0.3339, -1.4724],\n",
      "        [ 0.7296, -0.1312, -0.6368,  1.0429],\n",
      "        [ 0.4903,  1.0318, -0.5989,  1.6015]])\n",
      "indices: tensor([0, 2])\n",
      "\n",
      "select 0 dim:  tensor([[ 0.3482,  1.1371, -0.3339, -1.4724],\n",
      "        [ 0.4903,  1.0318, -0.5989,  1.6015]])\n",
      "select 1 dim:  tensor([[ 0.3482, -0.3339],\n",
      "        [ 0.7296, -0.6368],\n",
      "        [ 0.4903, -0.5989]])\n"
     ]
    }
   ],
   "source": [
    "x= torch.randn(3,4)\n",
    "print('x.shape :',x.shape)\n",
    "print('x :',x)\n",
    "indices= torch.LongTensor([0,2])\n",
    "print('indices:', indices)\n",
    "print('')\n",
    "print('select 0 dim: ', torch.index_select(x, 0, indices))\n",
    "print('select 1 dim: ', torch.index_select(x, 1, indices))"
   ]
  },
  {
   "cell_type": "markdown",
   "metadata": {},
   "source": [
    "#### 1.2.3 torch.masked_select\n",
    "- torch.Tenosr타입의 ge메소드는 인자값보다 큰 경우를 1 작은 경우를 0인 동일한 크기의 Tensor를 생성함.\n",
    "- masked_select는 마스킹된 값을 Tensor로 반환함."
   ]
  },
  {
   "cell_type": "code",
   "execution_count": 32,
   "metadata": {
    "ExecuteTime": {
     "end_time": "2018-08-11T08:39:27.940262Z",
     "start_time": "2018-08-11T08:39:27.931557Z"
    }
   },
   "outputs": [
    {
     "name": "stdout",
     "output_type": "stream",
     "text": [
      "tensor :\n",
      " tensor([[-0.8996,  0.5313,  0.4034,  1.4521],\n",
      "        [-2.4182, -1.1906,  0.6964,  1.1296],\n",
      "        [ 0.2214, -0.0558,  1.2057,  1.9486]])\n",
      "ge method\n",
      " tensor([[0, 1, 0, 1],\n",
      "        [0, 0, 1, 1],\n",
      "        [0, 0, 1, 1]], dtype=torch.uint8)\n",
      "tensor([0.5313, 1.4521, 0.6964, 1.1296, 1.2057, 1.9486])\n"
     ]
    }
   ],
   "source": [
    "x= torch.randn(3,4)\n",
    "print('tensor :\\n',x)\n",
    "\n",
    "mask= x.ge(0.5)\n",
    "print('ge method\\n', mask)\n",
    "\n",
    "print(torch.masked_select(x,mask))"
   ]
  },
  {
   "cell_type": "markdown",
   "metadata": {},
   "source": [
    "#### 1.2.4 torch.cat\n",
    "- Tensor들을 concatenate함"
   ]
  },
  {
   "cell_type": "code",
   "execution_count": 45,
   "metadata": {
    "ExecuteTime": {
     "end_time": "2018-08-11T08:39:28.373450Z",
     "start_time": "2018-08-11T08:39:28.368899Z"
    },
    "scrolled": true
   },
   "outputs": [
    {
     "name": "stdout",
     "output_type": "stream",
     "text": [
      "tensor([[0.9647, 0.2933, 0.7951, 0.5170, 0.2801],\n",
      "        [0.8339, 0.1185, 0.2355, 0.5599, 0.8966]])\n",
      "tensor([[0.2858, 0.1955, 0.1808, 0.2796, 0.3273],\n",
      "        [0.3835, 0.2156, 0.6563, 0.5041, 0.1733],\n",
      "        [0.2145, 0.6059, 0.4929, 0.8539, 0.4242]])\n",
      "tensor([[0.9647, 0.2933, 0.7951, 0.5170, 0.2801],\n",
      "        [0.8339, 0.1185, 0.2355, 0.5599, 0.8966],\n",
      "        [0.2858, 0.1955, 0.1808, 0.2796, 0.3273],\n",
      "        [0.3835, 0.2156, 0.6563, 0.5041, 0.1733],\n",
      "        [0.2145, 0.6059, 0.4929, 0.8539, 0.4242]])\n",
      "torch.Size([5, 5])\n",
      "------------\n",
      "tensor([[0.9647, 0.2933, 0.7951, 0.5170, 0.2801],\n",
      "        [0.8339, 0.1185, 0.2355, 0.5599, 0.8966]])\n",
      "tensor([[0.0949, 0.1302, 0.3532],\n",
      "        [0.3893, 0.5571, 0.3879]])\n",
      "tensor([[0.9647, 0.2933, 0.7951, 0.5170, 0.2801, 0.0949, 0.1302, 0.3532],\n",
      "        [0.8339, 0.1185, 0.2355, 0.5599, 0.8966, 0.3893, 0.5571, 0.3879]])\n",
      "torch.Size([2, 8])\n"
     ]
    }
   ],
   "source": [
    "x_1= torch.rand(2,5)\n",
    "y_1= torch.rand(3,5)\n",
    "y_2= torch.rand(2,3)\n",
    "z_1= torch.cat([x_1, y_1],0) #0: row cat\n",
    "z_2= torch.cat([x_1, y_2],1) #1: column cat\n",
    "print(x_1)\n",
    "print(y_1)\n",
    "print(z_1)\n",
    "print(z_1.size())\n",
    "print('------------')\n",
    "print(x_1)\n",
    "print(y_2)\n",
    "print(z_2)\n",
    "print(z_2.size())"
   ]
  },
  {
   "cell_type": "markdown",
   "metadata": {},
   "source": [
    "#### 1.2.5 torch.view\n",
    "- Tensor를 reshape함."
   ]
  },
  {
   "cell_type": "code",
   "execution_count": 47,
   "metadata": {
    "ExecuteTime": {
     "end_time": "2018-08-11T08:39:28.438165Z",
     "start_time": "2018-08-11T08:39:28.434110Z"
    }
   },
   "outputs": [
    {
     "name": "stdout",
     "output_type": "stream",
     "text": [
      "torch.Size([2, 3, 4])\n",
      "torch.Size([2, 12])\n",
      "--------\n",
      "tensor([[[-1.8161,  0.8735, -1.0497,  0.8341],\n",
      "         [ 1.5750, -0.5619, -1.8470, -0.5632],\n",
      "         [ 1.2100, -0.9293,  1.5965, -0.0352]],\n",
      "\n",
      "        [[ 0.1928,  0.9446, -0.0364,  0.9030],\n",
      "         [ 1.6241, -1.9684,  0.9299,  1.5981],\n",
      "         [ 0.4262,  2.5073,  0.3480, -0.0482]]])\n",
      "tensor([[-1.8161,  0.8735, -1.0497,  0.8341,  1.5750, -0.5619, -1.8470, -0.5632,\n",
      "          1.2100, -0.9293,  1.5965, -0.0352],\n",
      "        [ 0.1928,  0.9446, -0.0364,  0.9030,  1.6241, -1.9684,  0.9299,  1.5981,\n",
      "          0.4262,  2.5073,  0.3480, -0.0482]])\n"
     ]
    }
   ],
   "source": [
    "x= torch.randn(2,3,4)\n",
    "print(x.size())\n",
    "print(x.view(2,-1).size()) # make (3,4) flatted. i.e. make (3,4) matrix into 1 vector\n",
    "print('--------')\n",
    "print(x)\n",
    "print(x.view(2,-1))"
   ]
  },
  {
   "cell_type": "markdown",
   "metadata": {},
   "source": [
    "#### 1.2.6 torch.squeeze\n",
    "- Tensor에서 차원을 제거함. [[1]]->[1]"
   ]
  },
  {
   "cell_type": "code",
   "execution_count": 65,
   "metadata": {
    "ExecuteTime": {
     "end_time": "2018-08-11T08:39:28.507602Z",
     "start_time": "2018-08-11T08:39:28.502579Z"
    }
   },
   "outputs": [
    {
     "name": "stdout",
     "output_type": "stream",
     "text": [
      "torch.Size([3, 1, 3])\n",
      "torch.Size([3, 3])\n",
      "--------\n",
      "tensor([[[1., 1., 1.]],\n",
      "\n",
      "        [[1., 1., 1.]],\n",
      "\n",
      "        [[1., 1., 1.]]])\n",
      "tensor([[1., 1., 1.],\n",
      "        [1., 1., 1.],\n",
      "        [1., 1., 1.]])\n"
     ]
    }
   ],
   "source": [
    "# question: x.squeeze(2) 의 의미는?\n",
    "x= torch.ones(3,1,3)\n",
    "print(x.size())\n",
    "print(x.squeeze(dim=1).size())\n",
    "print('--------')\n",
    "print(x)\n",
    "print(x.squeeze(dim=1))"
   ]
  },
  {
   "cell_type": "markdown",
   "metadata": {},
   "source": [
    "#### 1.2.7 torch.unsqueeze\n",
    "- Tensor에서 차원을 추가함. [1]->[[1]]"
   ]
  },
  {
   "cell_type": "code",
   "execution_count": 63,
   "metadata": {
    "ExecuteTime": {
     "end_time": "2018-08-11T08:39:28.863937Z",
     "start_time": "2018-08-11T08:39:28.859927Z"
    }
   },
   "outputs": [
    {
     "name": "stdout",
     "output_type": "stream",
     "text": [
      "torch.Size([3, 1, 3])\n",
      "torch.Size([3, 1, 1, 3])\n",
      "--------\n",
      "tensor([[[1., 1., 1.]],\n",
      "\n",
      "        [[1., 1., 1.]],\n",
      "\n",
      "        [[1., 1., 1.]]])\n",
      "tensor([[[[1., 1., 1.]]],\n",
      "\n",
      "\n",
      "        [[[1., 1., 1.]]],\n",
      "\n",
      "\n",
      "        [[[1., 1., 1.]]]])\n"
     ]
    }
   ],
   "source": [
    "print(x.size())\n",
    "print(x.unsqueeze(1).size())\n",
    "print('--------')\n",
    "print(x)\n",
    "print(x.unsqueeze(dim=1))"
   ]
  },
  {
   "cell_type": "markdown",
   "metadata": {},
   "source": [
    "### 1.3 Math Operation\n",
    "- Tensor타입을 연산할 수 있음.\n",
    "\n",
    "#### 1.3.1 add\n",
    "- 텐서의 각 scalar값을 각 element별로 더해줌"
   ]
  },
  {
   "cell_type": "code",
   "execution_count": 66,
   "metadata": {
    "ExecuteTime": {
     "end_time": "2018-08-11T08:39:29.202080Z",
     "start_time": "2018-08-11T08:39:29.194933Z"
    }
   },
   "outputs": [
    {
     "name": "stdout",
     "output_type": "stream",
     "text": [
      "tensor([4., 6., 8.])\n",
      "tensor([4., 6., 8.])\n"
     ]
    }
   ],
   "source": [
    "x= torch.Tensor([1,2,3])\n",
    "y= torch.Tensor([3,4,5])\n",
    "z=x+y\n",
    "print(z)\n",
    "print(torch.add(x,y))"
   ]
  },
  {
   "cell_type": "markdown",
   "metadata": {},
   "source": [
    "#### 1.3.2 sum\n",
    "- Tensor의 모든 scalar값을 더해준다."
   ]
  },
  {
   "cell_type": "code",
   "execution_count": 67,
   "metadata": {
    "ExecuteTime": {
     "end_time": "2018-08-11T08:39:29.770128Z",
     "start_time": "2018-08-11T08:39:29.764270Z"
    }
   },
   "outputs": [
    {
     "name": "stdout",
     "output_type": "stream",
     "text": [
      "tensor(6.)\n",
      "tensor(6.)\n"
     ]
    }
   ],
   "source": [
    "x= torch.Tensor([1.,2.,3.])\n",
    "print(x.sum())\n",
    "print(sum(x))"
   ]
  },
  {
   "cell_type": "markdown",
   "metadata": {},
   "source": [
    "#### 1.3.3 dot product \n",
    "- Tensor들끼리 dot product를 한다."
   ]
  },
  {
   "cell_type": "code",
   "execution_count": 68,
   "metadata": {
    "ExecuteTime": {
     "end_time": "2018-08-11T09:48:57.399524Z",
     "start_time": "2018-08-11T09:48:57.392479Z"
    }
   },
   "outputs": [
    {
     "name": "stdout",
     "output_type": "stream",
     "text": [
      "tensor(14.)\n",
      "tensor(14.)\n"
     ]
    }
   ],
   "source": [
    "x= torch.Tensor([1.,2.,3.])\n",
    "y= torch.Tensor([1.,2.,3.])\n",
    "z= x.dot(y)\n",
    "print(z)\n",
    "print(torch.dot(x,y))"
   ]
  },
  {
   "cell_type": "markdown",
   "metadata": {},
   "source": [
    "#### 1.3.4 mul\n",
    "- Tensor들의 각 scalara값들을 element마다 곱해줌."
   ]
  },
  {
   "cell_type": "code",
   "execution_count": 69,
   "metadata": {
    "ExecuteTime": {
     "end_time": "2018-08-11T09:48:57.684503Z",
     "start_time": "2018-08-11T09:48:57.678581Z"
    }
   },
   "outputs": [
    {
     "name": "stdout",
     "output_type": "stream",
     "text": [
      "tensor([ 3.,  8., 15.])\n"
     ]
    }
   ],
   "source": [
    "x= torch.Tensor([1,2,3])\n",
    "y= torch.Tensor([3,4,5])\n",
    "z= x.mul(y)\n",
    "print(z)"
   ]
  },
  {
   "cell_type": "markdown",
   "metadata": {},
   "source": [
    "#### 1.3.5 mm : matrix multiplication\n",
    "- matrix multiplication"
   ]
  },
  {
   "cell_type": "code",
   "execution_count": 70,
   "metadata": {
    "ExecuteTime": {
     "end_time": "2018-08-11T09:48:57.755386Z",
     "start_time": "2018-08-11T09:48:57.749988Z"
    }
   },
   "outputs": [
    {
     "name": "stdout",
     "output_type": "stream",
     "text": [
      "tensor([[-0.1130, -0.2160,  1.1587],\n",
      "        [ 1.2181, -0.5526, -0.6075]])\n",
      "tensor([[-0.0905, -0.8301],\n",
      "        [-0.0809, -2.5912],\n",
      "        [-0.2716, -1.8131]])\n",
      "=\n",
      "tensor([[-0.2870, -1.4475],\n",
      "        [ 0.0995,  1.5224]])\n",
      "torch.Size([2, 2])\n"
     ]
    }
   ],
   "source": [
    "x= torch.randn(2,3)\n",
    "y= torch.randn(3,2)\n",
    "z= x.mm(y)\n",
    "print(x)\n",
    "print(y)\n",
    "print('=')\n",
    "print(z)\n",
    "print(z.size())"
   ]
  },
  {
   "cell_type": "markdown",
   "metadata": {},
   "source": [
    "#### 1.3.6 max \n",
    "- scalar 값 중에서 max값을 구해준다."
   ]
  },
  {
   "cell_type": "code",
   "execution_count": 71,
   "metadata": {
    "ExecuteTime": {
     "end_time": "2018-08-11T09:48:57.836349Z",
     "start_time": "2018-08-11T09:48:57.827977Z"
    },
    "scrolled": false
   },
   "outputs": [
    {
     "name": "stdout",
     "output_type": "stream",
     "text": [
      "tensor(5.)\n",
      "(tensor([5., 4.]), tensor([2, 1]))\n",
      "(tensor([2., 4., 5.]), tensor([1, 1, 0]))\n"
     ]
    }
   ],
   "source": [
    "x= torch.Tensor([[1,2], [3,4], [5,1]])\n",
    "print(x.max()) # 전체 기준 max\n",
    "# dim 은 counter-intuitive 하다...\n",
    "print(x.max(0)) # 차원을 기준해서 max와 그에 해당하는 index\n",
    "print(x.max(1))"
   ]
  },
  {
   "cell_type": "code",
   "execution_count": null,
   "metadata": {},
   "outputs": [],
   "source": []
  }
 ],
 "metadata": {
  "kernelspec": {
   "display_name": "Python 3",
   "language": "python",
   "name": "python3"
  },
  "language_info": {
   "codemirror_mode": {
    "name": "ipython",
    "version": 3
   },
   "file_extension": ".py",
   "mimetype": "text/x-python",
   "name": "python",
   "nbconvert_exporter": "python",
   "pygments_lexer": "ipython3",
   "version": "3.6.6"
  },
  "varInspector": {
   "cols": {
    "lenName": 16,
    "lenType": 16,
    "lenVar": 40
   },
   "kernels_config": {
    "python": {
     "delete_cmd_postfix": "",
     "delete_cmd_prefix": "del ",
     "library": "var_list.py",
     "varRefreshCmd": "print(var_dic_list())"
    },
    "r": {
     "delete_cmd_postfix": ") ",
     "delete_cmd_prefix": "rm(",
     "library": "var_list.r",
     "varRefreshCmd": "cat(var_dic_list()) "
    }
   },
   "types_to_exclude": [
    "module",
    "function",
    "builtin_function_or_method",
    "instance",
    "_Feature"
   ],
   "window_display": false
  }
 },
 "nbformat": 4,
 "nbformat_minor": 2
}
